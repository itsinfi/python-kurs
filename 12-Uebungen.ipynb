{
 "cells": [
  {
   "cell_type": "markdown",
   "id": "a91bb713",
   "metadata": {},
   "source": [
    "<!--  Header einfügen -->\n",
    "<img style=\"width:80%;\" id=\"image\" src=\"Bilder/iu.jpg\">"
   ]
  },
  {
   "cell_type": "markdown",
   "id": "dc69ca52",
   "metadata": {},
   "source": [
    "# Einfuerung in Python - IU - WS 2024/25\n",
    "<img style=\"width:40%;\" id=\"image\" src=\"Bilder/python.png\">\n",
    "\n",
    "                                                               andreas.huemmer.ext@iu.org\n",
    "\n",
    "Version 0.92"
   ]
  },
  {
   "cell_type": "markdown",
   "id": "751ca669",
   "metadata": {},
   "source": [
    "# Übungen 03"
   ]
  },
  {
   "cell_type": "markdown",
   "id": "50d0ff5e",
   "metadata": {},
   "source": [
    "#### Gemeinsame Übung - Zufall in Python :)"
   ]
  },
  {
   "cell_type": "markdown",
   "id": "cf75663f-8a7f-442d-8adc-7f5d8d94d635",
   "metadata": {},
   "source": [
    "Python bietet eine Library mit der Zufall \"simuliert\" werden kann. Bitte Beachten, dies ist KEIN ECHTER Zufall, hier handelt es sich um einen sog. Pseudo Random Number Generator (PRNG). Dieser ist NICHT geeignet für kryptographische Operationen. Für kryptographische Operationen sollte immer ein echter Zufallszahlengenerator (True RNG) verwendung finden, der seinen Zufall meist aus geeigneter Hardware und darin enthalten \"Rauschquellen\" bezieht, z.B. das thermische Rauschen eines Widerstands oder zufällige PN-Übergänge von Ladungsträgern in Halbleitern (Diodenrauschen)."
   ]
  },
  {
   "cell_type": "markdown",
   "id": "f49dd2c1-6332-4aab-bd76-37a58ce398d8",
   "metadata": {},
   "source": [
    "\"Einfacher\" Zufall"
   ]
  },
  {
   "cell_type": "code",
   "execution_count": 14,
   "id": "8bc1d973-bc09-4124-93b4-8c1a89f5001e",
   "metadata": {},
   "outputs": [
    {
     "name": "stdout",
     "output_type": "stream",
     "text": [
      "0.5583269577390522\n",
      "0.6990755271197144\n",
      "0.743476240920802\n",
      "0.18633391372740005\n",
      "0.7881512813019079\n",
      "0.37612874094485005\n",
      "0.5511415894141821\n",
      "0.29671300167022674\n",
      "0.23900852791970084\n",
      "0.7854016890561867\n"
     ]
    }
   ],
   "source": [
    "import random\n",
    "\n",
    "#random values 0-1\n",
    "for i in range(10):\n",
    "    print(random.random())\n",
    "    \n"
   ]
  },
  {
   "cell_type": "markdown",
   "id": "a3655f67-39f1-4554-bc4a-5fcf8d896788",
   "metadata": {},
   "source": [
    "Zufall in einem Bereich"
   ]
  },
  {
   "cell_type": "code",
   "execution_count": 16,
   "id": "490b4a2b-8484-4e8b-8dfc-fad8a2bf7987",
   "metadata": {},
   "outputs": [
    {
     "name": "stdout",
     "output_type": "stream",
     "text": [
      "6.291106323132339\n",
      "4.657896884671282\n",
      "5.133198256847885\n",
      "3.987664671337729\n",
      "5.132437078431016\n",
      "3.5217482618995732\n",
      "3.0833189282877806\n",
      "5.846476168968779\n",
      "3.1839702868234285\n",
      "3.706683360948471\n"
     ]
    }
   ],
   "source": [
    "# random values 3-7\n",
    "def myrand():\n",
    "    # random, scale, shift, return\n",
    "    return 4 * random.random() + 3\n",
    "\n",
    "for i in range(10):\n",
    "    print(myrand())"
   ]
  },
  {
   "cell_type": "markdown",
   "id": "c8b39c0f-c313-48bb-ba4e-7e98dbed33cd",
   "metadata": {},
   "source": [
    "Zufall mit Normalverteilung"
   ]
  },
  {
   "cell_type": "code",
   "execution_count": 19,
   "id": "0682671d-566a-4bf8-89b2-a23684250681",
   "metadata": {},
   "outputs": [
    {
     "name": "stdout",
     "output_type": "stream",
     "text": [
      "0.9660829677396693\n",
      "0.1372002440577928\n",
      "-0.6277885683122038\n",
      "-0.23058552700320603\n",
      "1.0614528732047646\n",
      "0.18668876816205396\n",
      "0.7868246709504851\n",
      "0.480710892375026\n",
      "-1.5970527066208333\n",
      "-0.5867217950736237\n"
     ]
    }
   ],
   "source": [
    "# random values normal\n",
    "for i in range(10):\n",
    "    print(random.normalvariate(0,1))"
   ]
  },
  {
   "cell_type": "markdown",
   "id": "1d937edf-56df-4812-8ca3-20052c460335",
   "metadata": {},
   "source": [
    "Rolling the dice"
   ]
  },
  {
   "cell_type": "code",
   "execution_count": 22,
   "id": "d1770638-b58b-45f9-9ab6-02f1e16ef1eb",
   "metadata": {},
   "outputs": [
    {
     "name": "stdout",
     "output_type": "stream",
     "text": [
      "3\n",
      "3\n",
      "3\n",
      "6\n",
      "6\n",
      "1\n",
      "4\n",
      "5\n",
      "6\n",
      "1\n",
      "4\n",
      "6\n",
      "3\n",
      "4\n",
      "3\n",
      "6\n",
      "2\n",
      "3\n",
      "6\n",
      "1\n"
     ]
    }
   ],
   "source": [
    "# discrete random ... roling the dice\n",
    "for i in range(20):\n",
    "    print(random.randint(1,6))"
   ]
  },
  {
   "cell_type": "markdown",
   "id": "e6b3a7a3-48ef-43d4-8e8c-51b4c21ed04c",
   "metadata": {},
   "source": [
    "Zufall für nicht nummerische Werte"
   ]
  },
  {
   "cell_type": "code",
   "execution_count": 25,
   "id": "36297903-d0c7-4586-bf01-c78abf30a3b4",
   "metadata": {},
   "outputs": [
    {
     "name": "stdout",
     "output_type": "stream",
     "text": [
      "scisors\n",
      "paper\n",
      "paper\n",
      "paper\n",
      "paper\n",
      "paper\n",
      "rock\n",
      "scisors\n",
      "rock\n",
      "rock\n",
      "scisors\n",
      "scisors\n",
      "rock\n",
      "scisors\n",
      "rock\n",
      "scisors\n",
      "rock\n",
      "scisors\n",
      "scisors\n",
      "rock\n"
     ]
    }
   ],
   "source": [
    "# stein, schere, papier mit choice\n",
    "options = ['rock', 'paper', 'scisors']\n",
    "for i in range(20):\n",
    "    print(random.choice(options))"
   ]
  },
  {
   "cell_type": "markdown",
   "id": "f11809df-7460-48ae-b2c8-0f2704518e52",
   "metadata": {},
   "source": [
    "Lottozahlen"
   ]
  },
  {
   "cell_type": "code",
   "execution_count": 28,
   "id": "ac7adb89-0543-4213-9950-bc03fd32b502",
   "metadata": {},
   "outputs": [
    {
     "name": "stdout",
     "output_type": "stream",
     "text": [
      "[4, 10, 25, 29, 45, 47]\n"
     ]
    }
   ],
   "source": [
    "# Lotto 6 aus 49\n",
    "lottozahlen = []\n",
    "lottozahlen.extend(range(1, 50))\n",
    "gewinnzahlen = random.sample(lottozahlen, 6)\n",
    "gewinnzahlen.sort()\n",
    "print(gewinnzahlen)\n",
    "    "
   ]
  },
  {
   "cell_type": "code",
   "execution_count": null,
   "id": "5d805812-58e3-454a-a287-5031aec6f562",
   "metadata": {},
   "outputs": [],
   "source": []
  }
 ],
 "metadata": {
  "kernelspec": {
   "display_name": "Python 3 (ipykernel)",
   "language": "python",
   "name": "python3"
  },
  "language_info": {
   "codemirror_mode": {
    "name": "ipython",
    "version": 3
   },
   "file_extension": ".py",
   "mimetype": "text/x-python",
   "name": "python",
   "nbconvert_exporter": "python",
   "pygments_lexer": "ipython3",
   "version": "3.11.10"
  }
 },
 "nbformat": 4,
 "nbformat_minor": 5
}
