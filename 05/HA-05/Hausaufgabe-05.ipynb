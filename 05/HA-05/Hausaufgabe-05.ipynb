{
 "cells": [
  {
   "cell_type": "markdown",
   "id": "a91bb713",
   "metadata": {},
   "source": [
    "<!--  Header einfügen -->\n",
    "<img style=\"width:80%;\" id=\"image\" src=\"iu.jpg\">"
   ]
  },
  {
   "cell_type": "markdown",
   "id": "dc69ca52",
   "metadata": {},
   "source": [
    "# Einfuerung in Python - IU - WS 2023/24\n",
    "<img style=\"width:40%;\" id=\"image\" src=\"python.png\">\n",
    "\n",
    "                                                               andreas.huemmer.ext@iu.org\n",
    "\n"
   ]
  },
  {
   "cell_type": "markdown",
   "id": "751ca669",
   "metadata": {},
   "source": [
    "## Hausaufgabe 05\n",
    "Erreichbare Punktzahl: 10\n",
    "Abgabedatum: 29.01.2024, 06:00"
   ]
  },
  {
   "cell_type": "markdown",
   "id": "d240cd40",
   "metadata": {},
   "source": [
    "Füllen Sie folgende Felder aus:\n",
    "\n",
    "Name:           ______________________________\n",
    "Matrikelnummer: ______________________________"
   ]
  },
  {
   "cell_type": "code",
   "execution_count": null,
   "id": "62483caa",
   "metadata": {},
   "outputs": [],
   "source": [
    "import os\n",
    "import math\n",
    "from time import time\n",
    "os.system('cmd command');\n",
    "import numpy as np\n",
    "import matplotlib.image  as mpimg\n",
    "import matplotlib.pyplot as plt\n",
    "from matplotlib.pyplot import imshow\n",
    "import pandas as pd"
   ]
  },
  {
   "cell_type": "markdown",
   "id": "960d6f6d",
   "metadata": {},
   "source": [
    "### Aufgabe 1 \n",
    "(2 Punkte)\n",
    "\n",
    "Werten Sie Wechselkurs Boersendaten aus.\n",
    "\n",
    "Teilaufgabe:\n",
    "\n",
    "a) Geben sie die erzeugten Dataframes aus. Extrahieren sie den Wechselkurs von Euro zu USD und von Euro zu Yen.\n",
    "\n",
    "b) Berechnen Sie aus den gegebenen Daten im dfu-Dataframe den Wechselkurz zwischen Euro und Japanischem YEN (EUR/JPY)\n",
    "\n",
    "c) Vergleichen Sie ihr Ergebnis mit dem direkten Wechselkurs zwischen EUR/JPY. Git es eine Abweichung? Berechnen Sie die \n",
    "Differenz und geben Sie diese aus."
   ]
  },
  {
   "cell_type": "code",
   "execution_count": null,
   "id": "01d86d89",
   "metadata": {},
   "outputs": [],
   "source": [
    "!pip install pandas_datareader\n",
    "\n",
    "# https://pandas-datareader.readthedocs.io/en/latest/remote_data.html"
   ]
  },
  {
   "cell_type": "code",
   "execution_count": null,
   "id": "a15b3d96",
   "metadata": {},
   "outputs": [],
   "source": [
    "import datetime as dt\n",
    "import matplotlib.pyplot as plt\n",
    "from matplotlib import style\n",
    "import pandas as pd\n",
    "import pandas_datareader.data as web\n",
    "\n",
    "### ACHTUNG ###################################################################################\n",
    "# Der API Key ist auf 25 Abfragen pro Tag begrenzt, bitte benutzen sie ihren eigenen API KEY:\n",
    "# https://www.alphavantage.co/support/#api-key\n",
    "###############################################################################################\n",
    "key = 'LJ90X62KBUNK2EZF'\n",
    "dfu = web.DataReader([\"USD/EUR\",\"USD/JPY\"], \"av-forex\", api_key=key)\n",
    "dfy = web.DataReader(\"EUR/JPY\", \"av-forex\", api_key=key)\n"
   ]
  },
  {
   "cell_type": "code",
   "execution_count": null,
   "id": "b2b354ee-78db-45b0-80e0-ea66d59d755f",
   "metadata": {},
   "outputs": [],
   "source": [
    "print(dfu)\n",
    "print(dfy)"
   ]
  },
  {
   "cell_type": "code",
   "execution_count": null,
   "id": "61b8393c",
   "metadata": {},
   "outputs": [],
   "source": [
    "# Gegeben 100€...wieviel Yen bekommen Sie für diesen Betrag?\n",
    "\n",
    "### Ihr code hier ###\n",
    "\n",
    "# a)\n",
    "\n",
    "\n",
    "\n",
    "# b)\n",
    "\n",
    "\n",
    "\n",
    "# c)\n",
    "\n"
   ]
  },
  {
   "cell_type": "markdown",
   "id": "24cab286-fe8c-4895-89ac-0cb3e3044e2f",
   "metadata": {},
   "source": [
    "Erreichte Punkte:  ___ / 2"
   ]
  },
  {
   "cell_type": "markdown",
   "id": "4e762b44-dbd8-41c2-b5ce-1c2e9c42d70c",
   "metadata": {},
   "source": [
    "---"
   ]
  },
  {
   "cell_type": "markdown",
   "id": "4a639a3f",
   "metadata": {},
   "source": [
    "### Aufgabe 2 \n",
    "(2 Punkte)\n",
    "\n",
    "Wir laden eine Zeitreihe mit Börsendaten (Kursdaten von Amazon).\n",
    "\n",
    "Plotten Sie den jeweiligen Schlusskurs des Börsentages (close).\n",
    "Was war der Höchst- und was der Tiefstwert der Aktie? Was war die größte Veränderung des Schluskurses von einem auf den anderen Tag?\n",
    "Plotten Sie die Minima, Maxima und die größte Veränderung zwischen zwei Schlusskursen als horizontale bzw. vertikale Linie in den Plot der Zeitserie.\n"
   ]
  },
  {
   "cell_type": "code",
   "execution_count": null,
   "id": "19a88fae",
   "metadata": {},
   "outputs": [],
   "source": [
    "import requests\n",
    "import json\n",
    "\n",
    "symbol   = \"AMZN\"\n",
    "url      = 'https://www.alphavantage.co/query?function=TIME_SERIES_DAILY&symbol=' + symbol + '&apikey=key'\n",
    "# url      = 'https://www.alphavantage.co/query?function=TIME_SERIES_DAILY&symbol=IBM&apikey=key'\n",
    "r        = requests.get(url)"
   ]
  },
  {
   "cell_type": "code",
   "execution_count": null,
   "id": "9690bd2a",
   "metadata": {
    "scrolled": true
   },
   "outputs": [],
   "source": [
    "stockdata     = r.json()\n",
    "print(json.dumps(stockdata, indent=4))"
   ]
  },
  {
   "cell_type": "code",
   "execution_count": null,
   "id": "03bf728a",
   "metadata": {},
   "outputs": [],
   "source": [
    "### Ihr code hier ###\n",
    "\n",
    "\n",
    "\n",
    "\n"
   ]
  },
  {
   "cell_type": "code",
   "execution_count": null,
   "id": "fed9ed2d",
   "metadata": {},
   "outputs": [],
   "source": [
    "fig,ax = plt.subplots(1,figsize=(9,7))\n",
    "\n",
    "ax.plot(date, closevalue, color=\"red\", label=symbol)\n",
    "\n",
    "### Ihr code hier ###\n",
    "\n",
    "\n",
    "plt.show()"
   ]
  },
  {
   "cell_type": "markdown",
   "id": "cdcb2a3c",
   "metadata": {},
   "source": [
    "Erreichte Punkte:  ___ / 2"
   ]
  },
  {
   "cell_type": "markdown",
   "id": "93dbf1b7-6151-4315-845b-be47969edbf0",
   "metadata": {},
   "source": [
    "---"
   ]
  },
  {
   "cell_type": "markdown",
   "id": "4a25e363",
   "metadata": {},
   "source": [
    "### Aufgabe 3 \n",
    "(2 Punkte)\n",
    "\n",
    "#### Auswertung statistischer Daten\n",
    "Wir laden ein Datenset von Eurostat mit einer Zeitreihe der monatilichen Inflationsdaten der Mitgliedsstaaten.\n",
    "\n",
    "    https://ec.europa.eu/eurostat/databrowser/view/PRC_HICP_MANR__custom_3761882/bookmark/table?lang=en&bookmarkId=4ad27e6f-358a-4a3d-82a0-587d69a833eb\n",
    "    \n",
    "Extrahieren Sie aus diesem Datensatz die Zeitreihen für Östreich, Schweiz und Deutschland. (Overall index excluding administered prices) https://www.investopedia.com/terms/a/administered-price.asp\n",
    "\n",
    "    https://pandas.pydata.org/docs/getting_started/intro_tutorials/03_subset_data.html\n",
    "    \n",
    "Stellen Sie diese Zeitreihen in einen Plot dar."
   ]
  },
  {
   "cell_type": "code",
   "execution_count": null,
   "id": "899c069e",
   "metadata": {
    "scrolled": true
   },
   "outputs": [],
   "source": [
    "!pip install eurostat\n",
    "\n",
    "import eurostat"
   ]
  },
  {
   "cell_type": "code",
   "execution_count": null,
   "id": "36a29757",
   "metadata": {},
   "outputs": [],
   "source": [
    "data = eurostat.get_data_df('prc_hicp_manr')"
   ]
  },
  {
   "cell_type": "code",
   "execution_count": null,
   "id": "06ac9476",
   "metadata": {},
   "outputs": [],
   "source": [
    "data"
   ]
  },
  {
   "cell_type": "code",
   "execution_count": null,
   "id": "84b8cf30",
   "metadata": {},
   "outputs": [],
   "source": [
    "### Ihr code hier ###\n",
    "# extraktion der datensetze \n",
    "\n"
   ]
  },
  {
   "cell_type": "code",
   "execution_count": null,
   "id": "bb00c43f",
   "metadata": {},
   "outputs": [],
   "source": [
    "### Ihr  code hier ###\n",
    "\n",
    "\n",
    "\n",
    "\n",
    "plt.show()"
   ]
  },
  {
   "cell_type": "markdown",
   "id": "e535acf4",
   "metadata": {},
   "source": [
    "Erreichte Punkte:  ___ / 2"
   ]
  },
  {
   "cell_type": "markdown",
   "id": "66871679-89a6-4ed7-88d1-95d41294811d",
   "metadata": {},
   "source": [
    "---"
   ]
  },
  {
   "cell_type": "markdown",
   "id": "dde76572-bc04-4326-8941-a14c36737f0c",
   "metadata": {},
   "source": [
    "### Aufgabe 4 \n",
    "(3 Punkte)\n",
    "\n",
    "#### Minst Datensatz und CNN\n",
    "\n",
    "Der Einführungs-/Erklärteil für den MINST Datensatz ist aus https://inf-schule.de/ki/menueansicht/maschinelles_lernen_mit_python/deep_learning/ziffernerkennung/mnist_daten entnommen.\n",
    "\n",
    "Weitere Informationen und Quellen finden Sie unter https://de.wikipedia.org/wiki/MNIST-Datenbank"
   ]
  },
  {
   "cell_type": "code",
   "execution_count": null,
   "id": "a279adbe-052d-4395-aa31-6517d06d6c24",
   "metadata": {},
   "outputs": [],
   "source": [
    "# CSV-Datei öffnen und Inhalte in eine Liste laden\n",
    "data_file = open(\"mnist_train_100.csv\", 'r')\n",
    "data_lines = data_file.readlines()\n",
    "data_file.close()"
   ]
  },
  {
   "cell_type": "code",
   "execution_count": null,
   "id": "64bb37f4-35d4-4020-a7e7-4f805447ec91",
   "metadata": {},
   "outputs": [],
   "source": [
    "# Anzahl der Einträge checken\n",
    "len(data_lines)"
   ]
  },
  {
   "cell_type": "code",
   "execution_count": null,
   "id": "62bbae71-f838-4931-904a-7d663fbdb42d",
   "metadata": {},
   "outputs": [],
   "source": [
    "# Ein Bild näher betrachten\n",
    "pic_nr = 7\n",
    "\n",
    "# Eintrag des Datensatzes ansehen\n",
    "print( data_lines[pic_nr] )\n",
    "print ( type(data_lines[pic_nr]) )"
   ]
  },
  {
   "cell_type": "markdown",
   "id": "ec75ae74-28be-40ae-b56d-9aa9a8f254d1",
   "metadata": {},
   "source": [
    "#### Daten Analysieren"
   ]
  },
  {
   "cell_type": "code",
   "execution_count": null,
   "id": "3ed9f3bd-8ea3-4922-baa9-a2377c5a7456",
   "metadata": {},
   "outputs": [],
   "source": [
    "#String in Liste umwandeln\n",
    "pic_values = data_lines[pic_nr].split(',')\n",
    "print( pic_values )\n",
    "\n",
    "print( len(pic_values ) )\n",
    "print( 28*28 )"
   ]
  },
  {
   "cell_type": "markdown",
   "id": "0745c573-518c-450b-b929-300bf7ab17f0",
   "metadata": {},
   "source": [
    "Der erste Eintrag von den 785 ist das Label des Bildes, d. h. er sagt welche Zahl dort abgebildet ist. Unser Bild soll also eine handschriftliche 3 zeigen.\n",
    "\n",
    "Die weiteren 784 Werte stellen das Bild dar. Um zu sehen, wie das funktioniert, müssen wir die Daten aber noch etwas weiter verarbeiten. Es gilt , d. h. wir können die Zahlen in einer 28x28 - Matrix darstellen.\n",
    "Eine Matrix kann man in Python am besten mit der numpy Bibliothek erzeugen. Den ersten Zahlenwert wollen wir nicht mit einbeziehen und betrachten deshalb pic_values[1:] und stellen die restlichen 784 Zahlenwerten als 28x28-Matrix dar. "
   ]
  },
  {
   "cell_type": "code",
   "execution_count": null,
   "id": "910620b3-5ba3-4265-9838-011777357b71",
   "metadata": {},
   "outputs": [],
   "source": [
    "# Daten des ersten Datensatzes nehmen, als 28x28-Array umformtieren und plotten\n",
    "# asfarray: Konvertiert den Input zu einem Array, wobei der Typ float verwendet wird,\n",
    "# dieser Typ wird im Folgenden benötigt, um die Werte mit matplotlib.imshow zu plotten\n",
    "pic_array = np.asfarray(pic_values[1:]).reshape((28,28)) \n",
    "\n",
    "# ASCII-Ausgabe der Bilddaten\n",
    "for z in range(28):\n",
    "    for s in range(28):\n",
    "        # Ausgabe der Werte mit 3 Stellen, rechtsbündig\n",
    "        print (str(int(pic_array[z][s])).rjust(3), end=' ')\n",
    "    print()"
   ]
  },
  {
   "cell_type": "markdown",
   "id": "7771489f-ae58-4910-80f6-b5f0c4b259dd",
   "metadata": {},
   "source": [
    "#### Daten als Bild darstellen\n",
    "\n",
    "Jetzt wollen wir die Daten aber auch noch als Bild darstellen. Dafür gibt es den imshow Befehl aus der Bibliothek matplotlib. Durch den Parameter cmap = 'Greys' werden die Zahlen aus dem Array als Grauwerte interpretiert, wobei der Wert 0 ein weißes Pixel erzeugt, der Wert 255 ein schwarzes Pixel und die Werte dazwischen verschieden Abstufungen von grauen Pixeln."
   ]
  },
  {
   "cell_type": "code",
   "execution_count": null,
   "id": "c9349ec1-7e8a-49ce-9a25-6a28931d0dac",
   "metadata": {},
   "outputs": [],
   "source": [
    "imshow(pic_array, cmap='Greys');"
   ]
  },
  {
   "cell_type": "code",
   "execution_count": null,
   "id": "70cc35ac-c0f1-4464-96c3-acda8dbdac36",
   "metadata": {},
   "outputs": [],
   "source": [
    "# eine andrere Ziffer\n",
    "pic_nr=9\n",
    "pic_values = data_lines[pic_nr].split(',')\n",
    "pic_array = np.asfarray(pic_values[1:]).reshape((28,28))\n",
    "plt.figure(figsize=(1,1))\n",
    "plt.xticks([])\n",
    "plt.yticks([])\n",
    "plt.imshow(pic_array, cmap='Greys')"
   ]
  },
  {
   "cell_type": "code",
   "execution_count": null,
   "id": "825e5923-6909-4a10-87f9-f267c4f7d024",
   "metadata": {},
   "outputs": [],
   "source": [
    "# data_line ist eine Zeile aus dem Datensatz,\n",
    "# also ein String der Länge 1+28x28 = 1+784\n",
    "def plot_pic(data_line):\n",
    "    pic_values = data_line.split(',')\n",
    "    image = np.asfarray(pic_values[1:]).reshape((28,28))\n",
    "    fig, axes = plt.subplots(figsize=(1,1))\n",
    "    axes.matshow(image, cmap=plt.cm.binary)\n",
    "    axes.set_xticks([])\n",
    "    axes.set_yticks([])\n",
    "    plt.show()"
   ]
  },
  {
   "cell_type": "code",
   "execution_count": null,
   "id": "18c048ba-c50f-45ab-a5a9-1b3012ead135",
   "metadata": {},
   "outputs": [],
   "source": [
    "plot_pic(data_lines[4])"
   ]
  },
  {
   "cell_type": "code",
   "execution_count": null,
   "id": "95e06468-b876-4a9e-ac65-4baed97a0d6c",
   "metadata": {},
   "outputs": [],
   "source": [
    "# data_lines ist eine Liste von Zeilen aus dem Datensatz,\n",
    "# also eine Liste von Strings der Länge 1+28x28 = 1+784\n",
    "def plot_pics(data_lines):\n",
    "    images=[]\n",
    "    for i in range(len(data_lines)):\n",
    "        pics_values = data_lines[i].split(',')\n",
    "        images.append(np.asfarray(pics_values[1:]).reshape((28,28)))\n",
    "    fig, axes = plt.subplots(nrows=1, ncols=len(images))\n",
    "    for j, ax in enumerate(axes):\n",
    "        ax.matshow(images[j].reshape(28,28), cmap = plt.cm.binary)\n",
    "        ax.set_xticks([])\n",
    "        ax.set_yticks([])\n",
    "    plt.show()"
   ]
  },
  {
   "cell_type": "code",
   "execution_count": null,
   "id": "aa430170-6a30-4b12-973f-b58c049d1170",
   "metadata": {},
   "outputs": [],
   "source": [
    "plot_pics(data_lines[0:10])\n",
    "print( [int(data_lines[i][0]) for i in range(10)] )"
   ]
  },
  {
   "cell_type": "code",
   "execution_count": null,
   "id": "e4890b16-8dd1-42f2-982e-fa8c7c7b5080",
   "metadata": {},
   "outputs": [],
   "source": [
    "for i in range(2):\n",
    "    plot_pics(data_lines[i*10:(i+1)*10])\n",
    "    print( [int(data_lines[i*10+j][0]) for j in range(10)] )"
   ]
  },
  {
   "cell_type": "markdown",
   "id": "d28871f8-7544-4f58-b865-e36ffaa8e2f4",
   "metadata": {},
   "source": [
    "#### Erzeugen einer Matrix von Bildern¶\n",
    "\n",
    "Manchmal ist es nützlich, die Bilder platzsparend in einer Matrix darzustellen. Deshalb schauen wir uns auc hnoch eine Möglichkeite an, wie man dies tun kann."
   ]
  },
  {
   "cell_type": "markdown",
   "id": "e0af8709-88f7-498e-b30f-3aa810272c60",
   "metadata": {},
   "source": [
    "# Erzeugt eine 10x10-Matrix der ersten 100 Bilder des Triainingssatzes:\n",
    "def plot_pics(data_lines):\n",
    "    images=[]\n",
    "    for i in range(len(data_lines)):\n",
    "        pics_values = data_lines[i].split(',')\n",
    "        images.append(np.asfarray(pics_values[1:]).reshape((28,28)))\n",
    "    fig, axes = plt.subplots(nrows=10, ncols=10, figsize=(5, 5))\n",
    "    for i in range(10):\n",
    "        for j in range(10):\n",
    "            axes[i,j].matshow(images[i*10+j], cmap = plt.cm.binary)\n",
    "            axes[i, j].axis('off')\n",
    "    plt.show()"
   ]
  },
  {
   "cell_type": "code",
   "execution_count": null,
   "id": "196f402a-f79e-4e4a-b622-b9e2cc32834b",
   "metadata": {},
   "outputs": [],
   "source": [
    "plot_pics(data_lines[0:100])"
   ]
  },
  {
   "cell_type": "markdown",
   "id": "7a26752b-f501-4f73-b13f-e15f5207bdc4",
   "metadata": {},
   "source": [
    "now on with the show...\n",
    "\n",
    "bitte Sicherstellen dass Ihre Pythonversion mit Ihrerr Tensorflow Bibliothek spielt. Hier getestet mit Python 3.8. Falls Ihre Version nicht mit den aktuellen Bibliotheken spielt, muessen Sie ein entsprechendes vEnv mit z.B. Python 3.8 anlegen."
   ]
  },
  {
   "cell_type": "code",
   "execution_count": null,
   "id": "aee74c0f-af52-4dc2-b2b2-706ff8bf8df8",
   "metadata": {},
   "outputs": [],
   "source": [
    "import sys\n",
    "sys.version"
   ]
  },
  {
   "cell_type": "code",
   "execution_count": null,
   "id": "43e8c00c-e6a1-40b7-87e3-9bb91b609d44",
   "metadata": {},
   "outputs": [],
   "source": [
    "import tensorflow as tf\n",
    "from tensorflow.keras.utils import plot_model\n",
    "from tensorflow.keras import datasets, layers, models\n",
    "import matplotlib.pyplot as plt\n"
   ]
  },
  {
   "cell_type": "code",
   "execution_count": null,
   "id": "24e4206d-148b-408d-81b2-11eba7daf836",
   "metadata": {},
   "outputs": [],
   "source": [
    "# MNIST-Datensatz laden\n",
    "def load_data():\n",
    "    (train_images, train_labels), (test_images, test_labels) = datasets.mnist.load_data()\n",
    "    \n",
    "    # Daten normalisieren (Pixelwerte von 0-255 auf 0-1 skalieren)\n",
    "    train_images = train_images / 255.0\n",
    "    test_images = test_images / 255.0\n",
    "\n",
    "    # Die Daten in ein Format bringen, das CNN erwartet (Batch, Height, Width, Channels)\n",
    "    train_images = train_images[..., tf.newaxis]\n",
    "    test_images = test_images[..., tf.newaxis]\n",
    "\n",
    "    return train_images, train_labels, test_images, test_labels"
   ]
  },
  {
   "cell_type": "code",
   "execution_count": null,
   "id": "c0017db9-2b2e-4526-b8a2-37a31be07f40",
   "metadata": {},
   "outputs": [],
   "source": [
    "# CNN-Modell erstellen\n",
    "\n",
    "\n",
    "def build_model():\n",
    "\n",
    "    # Ihr Code hier...\n",
    "    \n",
    "    \n",
    "    return model"
   ]
  },
  {
   "cell_type": "code",
   "execution_count": null,
   "id": "e7eeba92-e7a1-4887-88ed-ef3c1ed892bd",
   "metadata": {},
   "outputs": [],
   "source": [
    "# Modell trainieren\n",
    "\n",
    "def train_model(model, train_images, train_labels, test_images, test_labels):\n",
    "\n",
    "    # Ihr Code hier...\n",
    "    \n",
    "    return history\n"
   ]
  },
  {
   "cell_type": "code",
   "execution_count": null,
   "id": "4e661af4-658b-4347-8213-3fa6761263ff",
   "metadata": {},
   "outputs": [],
   "source": [
    "# Ergebnisse visualisieren\n",
    "def plot_results(history):\n",
    "    plt.plot(history.history['accuracy'], label='Trainingsgenauigkeit')\n",
    "    plt.plot(history.history['val_accuracy'], label='Validierungsgenauigkeit')\n",
    "    plt.xlabel('Epoche')\n",
    "    plt.ylabel('Genauigkeit')\n",
    "    plt.legend()\n",
    "    plt.show()"
   ]
  },
  {
   "cell_type": "code",
   "execution_count": null,
   "id": "dfe45354-1dab-4cec-8b43-1e2de2d27f70",
   "metadata": {},
   "outputs": [],
   "source": [
    "# Hauptteil\n",
    "# Daten laden\n",
    "train_images, train_labels, test_images, test_labels = load_data()\n",
    "\n",
    "# Modell erstellen\n",
    "model = build_model()\n",
    "    \n",
    "# Modellgrafik erstellen und speichern\n",
    "plot_model(model, to_file='model_structure.png', show_shapes=True, show_layer_names=True)\n",
    "\n",
    "# Grafik anzeigen\n",
    "img = plt.imread('model_structure.png')\n",
    "plt.figure(figsize=(10, 10))\n",
    "plt.imshow(img)\n",
    "plt.axis('off')\n",
    "plt.show()\n",
    "\n",
    "# Modell trainieren\n",
    "history = train_model(model, train_images, train_labels, test_images, test_labels)\n",
    "\n",
    "# Ergebnisse visualisieren\n",
    "plot_results(history)\n",
    "\n",
    "# Modell bewerten\n",
    "test_loss, test_acc = model.evaluate(test_images, test_labels, verbose=2)\n",
    "print(f\"\\nTestgenauigkeit: {test_acc:.4f}\")\n",
    "\n",
    "# Modell speichern\n",
    "model.save(\"mnist_cnn_model.h5\")\n",
    "print(\"Das Modell wurde gespeichert.\")\n"
   ]
  },
  {
   "cell_type": "markdown",
   "id": "2ad62fee-5aad-4d37-bfab-0cbc1bc85c39",
   "metadata": {},
   "source": [
    "Erreichte Punkte:  ___ / 3"
   ]
  },
  {
   "cell_type": "markdown",
   "id": "2d48593a-19a6-438e-b0f8-e76f0eae79c2",
   "metadata": {},
   "source": [
    "---"
   ]
  },
  {
   "cell_type": "markdown",
   "id": "ffc5dee1",
   "metadata": {},
   "source": [
    "**Gesamtpunktzahl:  ___ / 10**"
   ]
  },
  {
   "cell_type": "code",
   "execution_count": null,
   "id": "21a0d8c4",
   "metadata": {},
   "outputs": [],
   "source": []
  }
 ],
 "metadata": {
  "kernelspec": {
   "display_name": "Python 3 (ipykernel)",
   "language": "python",
   "name": "python3"
  },
  "language_info": {
   "codemirror_mode": {
    "name": "ipython",
    "version": 3
   },
   "file_extension": ".py",
   "mimetype": "text/x-python",
   "name": "python",
   "nbconvert_exporter": "python",
   "pygments_lexer": "ipython3",
   "version": "3.8.20"
  }
 },
 "nbformat": 4,
 "nbformat_minor": 5
}
