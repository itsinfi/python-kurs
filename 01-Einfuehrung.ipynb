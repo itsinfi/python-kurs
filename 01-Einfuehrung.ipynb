{
 "cells": [
  {
   "cell_type": "markdown",
   "id": "a91bb713",
   "metadata": {},
   "source": [
    "<!--  Header einfügen -->\n",
    "<img style=\"width:80%;\" id=\"image\" src=\"Bilder/iu.jpg\">"
   ]
  },
  {
   "cell_type": "markdown",
   "id": "dc69ca52",
   "metadata": {},
   "source": [
    "# Einfuerung in Python - IU - WS 2024/25\n",
    "<img style=\"width:40%;\" id=\"image\" src=\"Bilder/python.png\">\n",
    "\n",
    "                                                               andreas.huemmer.ext@iu.org\n",
    "Version 0.91\n"
   ]
  },
  {
   "cell_type": "markdown",
   "id": "48193607",
   "metadata": {},
   "source": [
    "### Lets go Menti :)  \n",
    "\n",
    "www.menti.com    ***CODE: To be announced***   Einfuehrung in Python-Intro\n",
    "\n",
    "https://www.menti.com/"
   ]
  },
  {
   "cell_type": "markdown",
   "id": "adcf667c",
   "metadata": {},
   "source": [
    "Aus der Kiste nutzlosen Wissens: Nein, der Vorname von Python ist nicht Monty :-), hat aber eine bezug dazu. Zitat aus Wikipedia zur Entstehung von Python:\n",
    "\n",
    "```\n",
    "Die Sprache wurde Anfang der 1990er Jahre von Guido van Rossum am Centrum Wiskunde & Informatica \n",
    "in Amsterdam als Nachfolger für die Programmier-Lehrsprache ABC entwickelt und war ursprünglich \n",
    "für das verteilte Betriebssystem Amoeba gedacht.\n",
    "\n",
    "Der Name geht nicht, wie das Logo vermuten lässt, auf die gleichnamige Schlangengattung Python \n",
    "zurück, sondern bezog sich ursprünglich auf die englische Komikergruppe Monty Python. In der \n",
    "Dokumentation finden sich daher auch einige Anspielungen auf Sketche aus dem Flying Circus.[15] \n",
    "Trotzdem etablierte sich die Assoziation zur Schlange, was sich unter anderem in der \n",
    "Programmiersprache Cobra[16] sowie dem Python-Toolkit „Boa“[17] äußert. Die erste Vollversion \n",
    "erschien im Januar 1994 unter der Bezeichnung Python 1.0.\n",
    "``` \n",
    "https://de.wikipedia.org/wiki/Python_(Programmiersprache)"
   ]
  },
  {
   "cell_type": "markdown",
   "id": "18337c4d",
   "metadata": {},
   "source": [
    "### Hilfen und weitere Quellen:\n",
    "\n",
    "Onlinezugriff via IU Biblink, siehe Literaturliste:\n",
    "- Ernesti, J. & Kaiser, P. (2020). Python 3. Das umfassende Handbuch (6. Aufl.). Rheinwerk Computing.\n",
    "- Steyer, R. (2018). Programmierung in Python. Ein kompakter Einstieg für die Praxis. Springer Vieweg.\n",
    "\n",
    "Frei Verfügbar:\n",
    "- https://www.python-lernen.de\n",
    "- https://py-tutorial-de.readthedocs.io/de/python-3.3/index.html\n",
    "- https://www.python-kurs.eu/python_kurs.php\n",
    "\n",
    "Interessantes und nützliches:\n",
    "- https://github.com/jupyter/jupyter/wiki#a-gallery-of-interesting-jupyter-notebooks\n",
    "- https://github.com/markusschanta/awesome-jupyter\n",
    "\n",
    "Speziell zu Jupyter:\n",
    "- https://jupyter-notebook.readthedocs.io/en/latest/examples/Notebook/examples_index.html\n"
   ]
  },
  {
   "cell_type": "markdown",
   "id": "bf4fe464",
   "metadata": {},
   "source": [
    "### Entwicklungsumgebung:\n",
    "\n",
    "- Anaconda  (https://www.anaconda.com/)\n",
    "- Spyder\n",
    "- VS Code   (https://code.visualstudio.com/)\n"
   ]
  },
  {
   "cell_type": "markdown",
   "id": "751ca669",
   "metadata": {},
   "source": [
    "## Kapitel 1 - Einführung"
   ]
  },
  {
   "cell_type": "markdown",
   "id": "6f0da74e",
   "metadata": {},
   "source": [
    "### Anaconda\n",
    "\n",
    "Eine der gängigsten Python-Distributionen für diesen Bereich ist Anaconda. Dieses ent-\n",
    "hält drei wichtige Tools, die im Studiengang Data Science durchgängig Verwendung fin-\n",
    "den:\n",
    "• NumPy: eine äußerst effiziente Bibliothek für die Verarbeitung großer Datensätze\n",
    "und mehrdimensionaler Arrays\n",
    "• SciPy: eine für wissenschaftliche Berechnungen konzipierte Bibliothek mit Funktio-\n",
    "nen für lineare Algebra, Interpolation und Signal- und Bildverarbeitung\n",
    "• Pandas: eine Bibliothek mit Funktionen für die Verwaltung und Analyse von numeri-\n",
    "schen Tabellen und Zeitreihendaten\n",
    "Neben Anaconda gibt es weitere Optionen für den datenwissenschaftlichen Einsatz von\n",
    "Python. Eine mögliche Alternative besteht darin, dass Sie zunächst nur Python installie-\n",
    "ren und dann NumPy, SciPy oder andere gewünschte Bibliotheken hinzufügen. Bei-\n",
    "spielsweise steht Ihnen mit Python(x,y) eine weitere Bibliothek für wissenschaftliche\n",
    "Projekte und numerische Berechnungen zur Verfügung, während Enthought leistungs-\n",
    "starke Tools für die Datenvisualisierung und -analyse bereitstellt. Abgesehen davon\n",
    "werden von der Python-Community viele weitere interessante Open-Source-Lösungen\n",
    "entwickelt. Für diesen Kurs beschränken wir uns jedoch auf die Installation der Ana-\n",
    "conda-Distribution.\n",
    "\n",
    "https://www.anaconda.com/download\n",
    "\n",
    "#### Update von Anaconda\n",
    "\n",
    "Anaconda kann über die GUI oder die Kommandozeile aktualisiert werden. Die GUI ist selbserklärend. Für die ARbeit auf der Komandozeile ist das CMD.exe propt zu öffen: \n",
    "\n",
    "Für das Aktualisieren ist folgenderk Befehl einzugeben:\n",
    "\n",
    "```bash\n",
    "   conda update --all\n",
    "```"
   ]
  },
  {
   "cell_type": "markdown",
   "id": "5ef3f951",
   "metadata": {},
   "source": [
    "#### Hallo Welt"
   ]
  },
  {
   "cell_type": "code",
   "execution_count": null,
   "id": "3448775e",
   "metadata": {},
   "outputs": [],
   "source": [
    "print(\"Hallo Welt\")"
   ]
  },
  {
   "cell_type": "markdown",
   "id": "f18ed137",
   "metadata": {},
   "source": [
    "#### Interpreter vs Compiler\n",
    "<img style=\"width:40%;\" id=\"image\" src=\"Bilder/compilervsinterpreter.png\">"
   ]
  },
  {
   "cell_type": "markdown",
   "id": "8d0b7d2e",
   "metadata": {},
   "source": [
    "#### Ipython und Jupiter\n",
    "Eine attraktive Erweiterung des klassischen Python-Kommandozeileneingabe ist die\n",
    "interaktive Shell-Umgebung IPython. Das IPython-Terminal unterstützt die meisten\n",
    "Linux-Befehle wie ls oder cd, und verfügt außerdem über einen Befehlsspeicher, Funk-\n",
    "tionen zur automatischen Vervollständigung von Python-Befehlen und viele weitere\n",
    "nützliche Features. Eine vollständige Liste finden Sie in der IPython-Dokumentation.\n",
    "Sie können die IPython-Shell starten, indem Sie die Anaconda-Eingabeaufforderung\n",
    "öffnen und dort „IPython“ anstelle von „Python“ eingeben. Dadurch erhalten Sie unter\n",
    "anderem Zugriff auf:\n",
    "• Debugging-Funktionen für Python-Programme,\n",
    "• Hilfen, die durch die Eingabe eines Fragezeichens (?) neben den betreffenden\n",
    "Befehlen oder Objektnamen im Code aufgerufen werden können,\n",
    "• erweiterte Feedbackfunktionen, die relevante Eingabe- und Ausgabe-Zeilen grafisch\n",
    "hervorheben,\n",
    "• die automatische Vervollständigung von unvollständig eingegebenen Befehlen mit\n",
    "der Tabulatortaste – und eine Vielzahl weiterer Tools.\n",
    "\n",
    "Eines der interessantesten Features von IPython ist das IPython-Notebook, das Entwick-\n",
    "lungsteams die Möglichkeit bietet, formatierten Text, Inlinecode, mathematische For-\n",
    "meln, Kurvenplots, Diagramme und andere Medien in einem Dokument zu kombinieren.\n",
    "Hierauf aufbauend entstand im Jahr 2014 ein Spin-off namens Jupyter, das IPython als\n",
    "Backend bzw. Python-Kernel nutzt und sich auf die Weiterentwicklung der Notebook-\n",
    "Oberfläche konzentriert"
   ]
  },
  {
   "cell_type": "markdown",
   "id": "e3235501",
   "metadata": {},
   "source": [
    "#### JupyterLab\n",
    "Wie bereits erwähnt wird das aus IPython hervorgegangene Jupyter-Projekt kontinuier-\n",
    "lich weiterentwickelt. Die derzeit neueste Version ist unter der Bezeichnung JupyterLab\n",
    "verfügbar und enthält neben der im letzten Abschnitt diskutierten Notebook-Umge-\n",
    "bung noch einige andere nützliche Tools für die Entwicklung von Python-Anwendungen.\n",
    "Um JupyterLab zu starten, öffnen Sie einfach die Anaconda-Eingabeaufforderung und\n",
    "geben dort „jupyter lab“ ein, gefolgt von der Entertaste. Daraufhin werden auf Ihrer\n",
    "Konsole – genau wie beim Start von Jupyter Notebook – Informationen zur Initialisie-\n",
    "rung der Serversitzung ausgegeben, während die JupyterLab-Startseite in einem neu\n",
    "geöffneten Browserfenster erscheint."
   ]
  },
  {
   "cell_type": "markdown",
   "id": "2edc310a",
   "metadata": {},
   "source": [
    "### Python IDEs\n",
    "(Beispielhaft)\n",
    "\n",
    "#### Spyder\n",
    "Spyder ist bereits in der Annacondaumgebung enthalten.\n",
    "\n",
    "#### Visual Studio Code\n",
    "Visual Studio Code kann seperat installiert werden. Nach der Installation steht VS Code ebenfalls in der Annacondaumgebung zur Verfügung.\n",
    "\n",
    "Die Verwendung von IDEs bietet sich bei größeren Projekten an, bzw. ist hier sogar erforderlich. Auf die Bedienung wird hier nich näher eingegangen, da wir uns im Rahmen dieses Kures ausschließlich mit Jupitewr Notebooks befassen werden.\n"
   ]
  },
  {
   "cell_type": "markdown",
   "id": "e3b40265",
   "metadata": {},
   "source": [
    "## Sprachklassifikation (Typisierung)\n",
    "*(Verkürzter und Zusammengefasster auszug aus https://wr.informatik.uni-hamburg.de/_media/teaching/wintersemester_2020_2021/ep20_21-willers-typisierung_bericht.pdf)*\n",
    "\n",
    "Es gibt zwei Arten von Typisierung, welche beide sehr weit in Programmiersprachen\n",
    "verbreitet sind. Einige Sprachen, z.B. Python, welche eine dynamisch typisierte Sprache ist, \n",
    "hat seit Version 3.5 auch eingeschränkte Unterstützung für statische Typisierung. Man spricht dann auch von optionaler Typisierung. [Fou]\n",
    "Diese ist kein Einzelfall und ist auch in die andere Richtung zu beobachten. Beispiels-\n",
    "weise hat C# eine Sprache mit statischer Typisierung seit Version 4.0 das dynamic\n",
    "Keyword, welches es erlaubt, den Typ erst zur Laufzeit zu bestimmen und auch zu ändern.\n",
    "\n",
    "### Statische Typisierung\n",
    "Bei der statischen Typisierung, wie sie Sprachen wie Java und C# nutzen, steht der Typ\n",
    "zur Übersetzungszeit bereits immer fest und kann nicht mehr geändert werden. Dies wird\n",
    "in der Regel dadurch erreicht, dass der Programmierer bereits zur Entwicklungszeit im\n",
    "Source-Code den Typ für Variablen, Parameter, Rückgabewerte etc. angibt:\n",
    "\n",
    "```c\n",
    "int c\n",
    "```\n",
    "Der große Vorteil von statisch typisierten Sprachen ist, dass der falsche Umgang\n",
    "mit Typen zur Laufzeit nicht möglich ist, da der Typ bereits zur Übersetzungszeit\n",
    "bekannt ist wird der Compiler, falls er einen Verstoß findet, diesen melden. Dadurch \n",
    "haben Programme, welche mit statischen Programmiersprachen entwickelt werden, eine \n",
    "höhere Robustheit, da viele mögliche Fehlerquellen bereits durch den Compiler \n",
    "ausgeschlossen werden.\n",
    "\n",
    "### Dynamische Typisierung\n",
    "Im Gegensatz zu statischen wird bei der dynamischen Typisierung der Typ erst zur\n",
    "Laufzeit ermittelt und ist auch veränderbar. Das sorgt dafür, dass dynamische Sprachen\n",
    "oft flexibler sind und weniger Code geschrieben werden muss.\n",
    "\n",
    "### Optionale Typisierung\n",
    "Bei dynamisch typisierten Sprachen, welche eine statische Annotation des Typs unter-\n",
    "stützen, spricht man von optionaler Typisierung. Die statische Typisierung hat keinerlei\n",
    "Auswirkung auf die Software, da es keine Typüberprüfung zur Übersetzungszeit gibt.\n",
    "\n",
    "### Typsicherheit\n",
    "Typsicherheit, dass Variablen oder Ausdrücke nur in ihrem aktuellen\n",
    "Typ interpretiert werden. Sollen diese anderes interpretiert werden, muss der Program-\n",
    "mierer die explizit angeben. Dies nennt sich dann auch explizite Typumwandlung. Dabei\n",
    "widerspricht eine Typumwandlung nicht der statischen Typisierung. Es geht hier nicht\n",
    "darum, den Typ einer Variable zu ändern, sondern deren Inhalt in einer anderen Form\n",
    "zu interpretieren"
   ]
  },
  {
   "attachments": {},
   "cell_type": "markdown",
   "id": "5c156af6",
   "metadata": {},
   "source": [
    "# Hausaufgaben\n",
    "Mit Hausaufgaben künnen Sie ihr Wissen anwenden und üben. Darüber hinaus, als Motivation am Ball zu bleiben, können Sie sich Bonuspunkte für die Prüfung erarbeiten. Pro erreichtem Punkt erhalten sie einen 0,2 Bonuspunkte für die Prüfung (Voraussetzung Sie haben ohne Bonuspunkte Bestanden).\n",
    "Bsp.: Sie haben 8 Punkte erreicht -> 1,6 Bonuspunkte.\n",
    "\n",
    "Insgesamt sind 5 Hausaufgaben geplant. Sie können also maximal 10 Bonuspunkte für die Prüfung erziehlen.\n",
    "\n",
    "- Hausaufgabe 01: Abgabe bis 19.12.2024, 06:00 Uhr\n",
    "- Hausaufgabe 02: Abgabe bis 02.01.2025, 06:00 Uhr\n",
    "- Hausaufgabe 03: Abgabe bis 02.01.2025, 06:00 Uhr\n",
    "- Hausaufgabe 04: Abgabe bis 10.01.2025, 06:00 Uhr\n",
    "- Hausaufgabe 05: Abgabe bis 24.01.2025, 06:00 Uhr\n",
    "\n",
    "Die Aufgaben werden als Jupyter Notebook zur Verfügung gestellt. Laden Sie die entsprechende Zip-Datei herunter und bearbeiten Sie die Aufgaben im Notebook. \n",
    "\n",
    "Zur Abgabe zippen Sie das Verzeichnis mit dem Bearbeiteten Notebook und geben Sie dem Zipfile folgenden Namen:\n",
    "\n",
    "   Hausaufgabe-[Nummer der HA]-[Ihr Name]-[Ihre Matrikelnummer].zip\n",
    "\n",
    "Beispiel: Hausaufgabe-02-MaxMusermann-12345678.zip\n",
    "\n",
    "**Senden Sie die geforderten Daten bis zum Abgabetermin per mail an:**\n",
    "\n",
    "   **andreas.huemmer.ext@iu.org**\n"
   ]
  },
  {
   "cell_type": "markdown",
   "id": "43bce902-e41b-4139-b689-5ec3f3359e75",
   "metadata": {},
   "source": [
    "# Kleines Projekt\n",
    "\n",
    "Im Rahmen dieser Veranstaltung werden wir auch an einem kleinen Projekt arbeiten. Art und weise des Projekts sind teilweise abgeleitet aus den Feedbacks die Sie mir gegeben haben.\n",
    "\n",
    "Wir werden zunächst die Grundlagen von Python behandeln und dann vorausslichtlich im Januar mit dem kleinen Projekt beginnen und dieses im laufe dieser Veranstaltung stetig erweitern."
   ]
  },
  {
   "cell_type": "markdown",
   "id": "835070b5",
   "metadata": {},
   "source": [
    "# Fragen?"
   ]
  }
 ],
 "metadata": {
  "kernelspec": {
   "display_name": "Python 3 (ipykernel)",
   "language": "python",
   "name": "python3"
  },
  "language_info": {
   "codemirror_mode": {
    "name": "ipython",
    "version": 3
   },
   "file_extension": ".py",
   "mimetype": "text/x-python",
   "name": "python",
   "nbconvert_exporter": "python",
   "pygments_lexer": "ipython3",
   "version": "3.11.10"
  }
 },
 "nbformat": 4,
 "nbformat_minor": 5
}
