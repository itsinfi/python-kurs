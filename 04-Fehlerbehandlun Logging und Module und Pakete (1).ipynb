{
 "cells": [
  {
   "cell_type": "markdown",
   "id": "a91bb713",
   "metadata": {},
   "source": [
    "<!--  Header einfügen -->\n",
    "<img style=\"width:80%;\" id=\"image\" src=\"Bilder/iu.jpg\">"
   ]
  },
  {
   "cell_type": "markdown",
   "id": "dc69ca52",
   "metadata": {},
   "source": [
    "# Einfuerung in Python - IU - WS 2024/25\n",
    "<img style=\"width:40%;\" id=\"image\" src=\"Bilder/python.png\">\n",
    "\n",
    "                                                               andreas.huemmer.ext@iu.org\n",
    "\n",
    "Version 1.0 rev a"
   ]
  },
  {
   "cell_type": "markdown",
   "id": "751ca669",
   "metadata": {},
   "source": [
    "## Kapitel 4 - Fehlerbehandlung, Logging, Module und Pakete "
   ]
  },
  {
   "cell_type": "markdown",
   "id": "a5c10081",
   "metadata": {},
   "source": [
    "### Fehlerbehandlung\n",
    "Zur Laufzeit eines Programmes können Feher auftreten. Wenn es nicht zum Programmabbruch kommen soll ist eine entsprechende Fehlerbehandlung notwendig. Exemplarisch werden wir hier die Division durch 0 und FileNotFound betrachten."
   ]
  },
  {
   "cell_type": "code",
   "execution_count": null,
   "id": "d188e15d",
   "metadata": {},
   "outputs": [],
   "source": [
    "print(3/0)"
   ]
  },
  {
   "cell_type": "code",
   "execution_count": null,
   "id": "5ec99539",
   "metadata": {},
   "outputs": [],
   "source": [
    "with open(\"michnixgibt.txt\", \"r\") as file:\n",
    "    print(file)"
   ]
  },
  {
   "cell_type": "markdown",
   "id": "8abc928d",
   "metadata": {},
   "source": [
    "Das \"Abfangen\" eines Laufzeitfehlers erfolgt mittels \"try...except\" Blöcken"
   ]
  },
  {
   "cell_type": "code",
   "execution_count": null,
   "id": "17fb0ab7",
   "metadata": {},
   "outputs": [],
   "source": [
    "try:\n",
    "    print(2 / 0)\n",
    "    print(\"ich werde bei Fehler nicht mehr ausgefuehrt\")\n",
    "except ZeroDivisionError:\n",
    "    print(\"Durch null teilen ist nicht erlaubt!\")\n",
    "print(\"Bei mir geht das Programm weiter\")"
   ]
  },
  {
   "cell_type": "code",
   "execution_count": null,
   "id": "4e70cedb",
   "metadata": {},
   "outputs": [],
   "source": [
    "try:\n",
    "    with open(\"datei.xyz\", \"r\") as file:\n",
    "        print(file)\n",
    "        print(5 / 0)\n",
    "except ZeroDivisionError:\n",
    "    print(\"Du darfst nicht durch 0 teilen\")\n",
    "except FileNotFoundError:\n",
    "    print(\"FileNotFoundError ist aufgetreten\")"
   ]
  },
  {
   "cell_type": "markdown",
   "id": "33c39458",
   "metadata": {},
   "source": [
    "Es können auch \"eigene\" Fehler ausgelöst werden:"
   ]
  },
  {
   "cell_type": "code",
   "execution_count": null,
   "id": "92f45223",
   "metadata": {},
   "outputs": [],
   "source": [
    "class InvalidEmailError(Exception):\n",
    "    pass\n",
    "\n",
    "def send_mail(email, subject, content):\n",
    "    if not \"@\" in email:\n",
    "        raise InvalidEmailError(\"email does not contain an @\")\n",
    "try:\n",
    "    send_mail(\"hallo\", \"Betreff\", \"Inhalt\")\n",
    "    \n",
    "except InvalidEmailError:\n",
    "    print(\"Bitte gebe eine gültige E-Mail ein\")"
   ]
  },
  {
   "cell_type": "markdown",
   "id": "eb44a402",
   "metadata": {},
   "source": [
    "Es kann notwendig sein, dass ein bestimmter Programmblock auf jeden Fall ausfgeführt wird, egal ob ein Fehler aufgetreten ist oder nicht. Dies wird durch das \"finally\" statement erreicht."
   ]
  },
  {
   "cell_type": "code",
   "execution_count": null,
   "id": "ccbea5cc",
   "metadata": {},
   "outputs": [],
   "source": [
    "try:\n",
    "    file = open(\"hallo.py\", \"r\")\n",
    "    print(file)\n",
    "    print(3 / 0)\n",
    "except FileNotFoundError:\n",
    "    print(\"Datei wurde nicht gefunden\")\n",
    "finally:\n",
    "    print(\"FINALLY!!!\")\n",
    "    file.close()"
   ]
  },
  {
   "cell_type": "code",
   "execution_count": null,
   "id": "44d45853",
   "metadata": {},
   "outputs": [],
   "source": [
    "with open(\"hallo.py\", \"r\") as file:\n",
    "    print(file)"
   ]
  },
  {
   "cell_type": "markdown",
   "id": "fdae3ee5",
   "metadata": {},
   "source": [
    "### Zeitmessung in Jupyter"
   ]
  },
  {
   "cell_type": "code",
   "execution_count": null,
   "id": "183bbd91",
   "metadata": {
    "scrolled": true
   },
   "outputs": [],
   "source": [
    "%%timeit -n1 -r3\n",
    "print(\"test\")"
   ]
  },
  {
   "cell_type": "markdown",
   "id": "35745461",
   "metadata": {},
   "source": [
    "### Logging\n",
    "\n",
    "https://openbook.rheinwerk-verlag.de/python/35_003.html"
   ]
  },
  {
   "cell_type": "code",
   "execution_count": null,
   "id": "6dd94c65",
   "metadata": {},
   "outputs": [],
   "source": [
    "import logging"
   ]
  },
  {
   "cell_type": "code",
   "execution_count": null,
   "id": "6c2a79d4",
   "metadata": {},
   "outputs": [],
   "source": [
    "logging.warning(\"Aufgepasst!\")"
   ]
  },
  {
   "cell_type": "markdown",
   "id": "2296d4d4",
   "metadata": {},
   "source": [
    "Logging Levels¶\n",
    "\n",
    "Die nummerischen LogLevel sind nachfolgend angegeben:\n",
    "\n",
    "    Level                Wert                Bedeutung\n",
    "\n",
    "    logging.NOTSET       0                   Alle Events werden geloggt\n",
    "\t\n",
    "    logging.DEBUG       10                   Detailierte Infromationen, typischerweise für Entwickler\t\n",
    "    logging.INFO        20                   Bestätigung das Dinge so funktionieren wie erwartet\n",
    "\n",
    "    logging.WARNING     30                   Unerwartetes Verhalten, Hinweis auf (zukünftige) Fehler\n",
    "\n",
    "    logging.ERROR       40                   Ernshafter Fehler, abnormales Verhalten der Software\n",
    "\n",
    "    logging.CRITICAL    50                   Ernshafter Fehler, Programm möglicherweise nicht mehr lauffähig\n"
   ]
  },
  {
   "cell_type": "code",
   "execution_count": null,
   "id": "3fe742e4",
   "metadata": {},
   "outputs": [],
   "source": [
    "# ein bischen mehr als nur standard\n",
    "FORMAT = '%(asctime)s %(clientip)-15s %(user)-8s %(message)s'\n",
    "logging.basicConfig(format=FORMAT)\n",
    "d = {'clientip': '192.168.0.1', 'user': 'fbloggs'}\n",
    "logging.warning('Protocol problem: %s', 'connection reset', extra=d)"
   ]
  },
  {
   "cell_type": "code",
   "execution_count": null,
   "id": "fc23081a",
   "metadata": {},
   "outputs": [],
   "source": [
    "# logfile schreiben\n",
    "logging.basicConfig(\n",
    "    filename=\"programm.log\",\n",
    "    level = logging.DEBUG, \n",
    "    style = \"{\",\n",
    "    format = \"{asctime} [{levelname:8}] {message}\")\n",
    "logging.error(\"Ein Fehler ist aufgetreten\")\n",
    "logging.info(\"Dies ist eine Information\")\n",
    "logging.error(\"Und schon wieder ein Fehler\")\n",
    "logging.debug('This message should go to the log file')\n",
    "logging.info('So should this')\n",
    "logging.warning('And this, too')\n",
    "logging.error('And non-ASCII stuff, too, like Øresund and Malmö')"
   ]
  },
  {
   "cell_type": "code",
   "execution_count": null,
   "id": "f7aafb7f",
   "metadata": {},
   "outputs": [],
   "source": [
    "# deaktivieren des loggers\n",
    "logging.shutdown()"
   ]
  },
  {
   "cell_type": "code",
   "execution_count": null,
   "id": "0f11d0d0",
   "metadata": {},
   "outputs": [],
   "source": [
    "help(logging)"
   ]
  },
  {
   "cell_type": "markdown",
   "id": "a57787d9",
   "metadata": {},
   "source": [
    "### Module (eigene)\n",
    "Python bietet die Möglichkeit Code in Module zu packen, so das dieser an verschiedenen Stellen verwendet werden kann.\n",
    "\n",
    "Die Datei hallo.py hat folgenden Inhalt:\n",
    "\n",
    "hallo.py:\n",
    "\n",
    "    def welt():\n",
    "        print(\"Hallo Welt\")\n",
    "    def mars():\n",
    "        print(\"Hallo Mars\")\n",
    "        \n",
    "Die hier definierten Funktionen können nun folgendermaßen eingebunden werden:"
   ]
  },
  {
   "cell_type": "code",
   "execution_count": null,
   "id": "41bc77c9",
   "metadata": {},
   "outputs": [],
   "source": [
    "import hallo\n",
    "\n",
    "hallo.welt()\n",
    "hallo.mars()"
   ]
  },
  {
   "cell_type": "code",
   "execution_count": null,
   "id": "c6859244",
   "metadata": {},
   "outputs": [],
   "source": [
    "from hallo import welt, mars\n",
    "\n",
    "welt()\n",
    "mars()"
   ]
  },
  {
   "cell_type": "code",
   "execution_count": null,
   "id": "51d60b26",
   "metadata": {},
   "outputs": [],
   "source": [
    "from hallo import *\n",
    "\n",
    "welt()\n",
    "mars()"
   ]
  },
  {
   "cell_type": "markdown",
   "id": "0f296892",
   "metadata": {},
   "source": [
    "### Module und Pakete\n",
    "\n",
    "Eine Übersicht über alle Module und Pakete finden Sie hier: https://docs.python.org/3/py-modindex.html\n",
    "\n",
    "ACHTUNG: Es kann vorkommen, das einige Pakete auf spezifische Versionen anderer Pakete angewiesen sind!!\n",
    "Speziell für solche Fälle kennt Python das Konzept der virtuellen Environments. vEnv erlauben es 'Ihnen für ihr jeweiliges Projekt eine eigene Umgebung vorzuhalten in dem Sie Ihren ganz spezifischen Satz an Modulen oder Paketen installieren können.\n",
    "\n",
    "Die Paketverwaltung in Pyhon erfolgt mittels **pip**, oder wenn Sie eine Anacondaumgebung haben mit **conda**.\n",
    "\n",
    "#### Ausgewälte Module\n",
    "(einige davon haben Sie schon kennengelernt)\n",
    "##### Data Science\n",
    "- csv\n",
    "- pandas\n",
    "- NumPy\n",
    "- matplotlib\n",
    "##### Machine Learning\n",
    "- scikit-learn\n",
    "##### Machine Vision\n",
    "- OpenCV\n",
    "##### Web Scraping\n",
    "- requests\n",
    "- beautifulsoup4\n",
    "- urllib\n",
    "##### Datenstrukturen\n",
    "- collections\n",
    "- queue\n",
    "- re\n",
    "##### Zeit\n",
    "- datetime\n",
    "- time\n",
    "##### Interaktive Jupyter Notebooks\n",
    "- ipywidgets\n",
    "##### Meta-Informationen\n",
    "- sys\n",
    "\n",
    "\n",
    "\n",
    "Weitere ausgewählte Module finden Sie zusammen mit kurzen Erklärungen hier: https://geekflare.com/de/popular-python-libraries-modules/\n"
   ]
  },
  {
   "cell_type": "markdown",
   "id": "8ca4256c",
   "metadata": {},
   "source": [
    "### DataScience"
   ]
  },
  {
   "cell_type": "markdown",
   "id": "f45f838e",
   "metadata": {},
   "source": [
    "##### CSV\n",
    "Laden und Speichern von CSV Dateien. https://docs.python.org/3/library/csv.html"
   ]
  },
  {
   "cell_type": "code",
   "execution_count": null,
   "id": "6dcc1b84",
   "metadata": {},
   "outputs": [],
   "source": [
    "import csv\n",
    "with open(\"./projectdata/diamonds.csv\") as file:\n",
    "    csv_file = csv.reader(file, delimiter=\",\")\n",
    "    for line in csv_file:\n",
    "        print(line)"
   ]
  },
  {
   "cell_type": "markdown",
   "id": "1a39f819",
   "metadata": {},
   "source": [
    "#### Pandas\n",
    "Modul zur Datenanalyse. https://pandas.pydata.org/pandas-docs/stable/tutorials.html"
   ]
  },
  {
   "cell_type": "code",
   "execution_count": null,
   "id": "0a7e59bf",
   "metadata": {},
   "outputs": [],
   "source": [
    " import pandas as pd # Umbennenung ist Konvention\n",
    " \n",
    "# CSV-Datei als DataFrame einlesen\n",
    "df = pd.read_csv(\"./projectdata/Mundschutz_Markt.csv\", delimiter=\",\")\n",
    "df[[\"Stückzahl\", \"Preis\", \"Preis pro Stück\"]]#.head()\n",
    "\n"
   ]
  },
  {
   "cell_type": "markdown",
   "id": "c7dfb7f4",
   "metadata": {},
   "source": [
    "#### NumPy\n",
    "Nummerisches und wissenschaaftliches Rechnen. https://docs.scipy.org/doc/numpy-1.13.0/user/index.htm"
   ]
  },
  {
   "cell_type": "code",
   "execution_count": null,
   "id": "8b3d65d5",
   "metadata": {
    "scrolled": true
   },
   "outputs": [],
   "source": [
    "import numpy as np # Umbennenung ist Konvention\n",
    "\n",
    "x = np.arange(10) * 3\n",
    "y = np.zeros(10) + 4\n",
    "\n",
    "z = x + y\n",
    "z = z.reshape(5,2)\n",
    "\n",
    "print(z)\n",
    "print(type(z))"
   ]
  },
  {
   "cell_type": "code",
   "execution_count": null,
   "id": "68ba5c9c",
   "metadata": {},
   "outputs": [],
   "source": [
    "z.T"
   ]
  },
  {
   "cell_type": "markdown",
   "id": "7761901c",
   "metadata": {},
   "source": [
    "#### Matplotlib\n",
    "Visualisierung von Daten.  https://matplotlib.org/tutorials/index.html"
   ]
  },
  {
   "cell_type": "code",
   "execution_count": null,
   "id": "5b8a0ebc",
   "metadata": {},
   "outputs": [],
   "source": [
    "# damit die Grafiken innerhalb des Notebooks angezeigt werden\n",
    "%matplotlib inline\n",
    "\n",
    "import matplotlib.pyplot as plt # Umbennenung ist Konvention\n",
    "\n",
    "xs = [x / 10 for x in range(0, 100)]\n",
    "ys = [x * x for x in xs]\n",
    "# Wir plotten einen Graphen durch die gegebenen Punkte\n",
    "plt.plot(xs, ys, color=\"r\", linewidth=5, linestyle=\"dashed\")\n",
    "plt.show()"
   ]
  },
  {
   "cell_type": "markdown",
   "id": "4e61291d",
   "metadata": {},
   "source": [
    "### Machine Learning"
   ]
  },
  {
   "cell_type": "markdown",
   "id": "8f66b039",
   "metadata": {},
   "source": [
    "#### scikit-learn\n",
    "Machine Learning Tools... http://scikit-learn.org/stable/tutorial/basic/tutorial.html\n",
    "\n",
    "TBD"
   ]
  },
  {
   "cell_type": "markdown",
   "id": "8ced61dc",
   "metadata": {},
   "source": [
    "#### Tensorflow\n",
    "TBD"
   ]
  },
  {
   "cell_type": "markdown",
   "id": "154fc9de",
   "metadata": {},
   "source": [
    "### Machine Vision"
   ]
  },
  {
   "cell_type": "markdown",
   "id": "545629a8",
   "metadata": {},
   "source": [
    "#### OpenCV\n",
    "Bilderkennung und Bearbeitung. http://opencv-python-tutroals.readthedocs.io/en/latest/py_tutorials/py_tutorials.htm"
   ]
  },
  {
   "cell_type": "code",
   "execution_count": null,
   "id": "76e237dd",
   "metadata": {},
   "outputs": [],
   "source": [
    "import cv2\n",
    "\n",
    "# hierzu brauchen wir zusätzlich matplotlib\n",
    "%matplotlib inline\n",
    "\n",
    "import matplotlib.pyplot as plt # Umbennenung ist Konvention\n",
    "\n",
    "img = cv2.imread(\"./projectdata/Nadia_Murad.jpg\")\n",
    "\n",
    "classifier = cv2.CascadeClassifier(\"./projectdata/haarcascade_frontalface_alt.xml\")\n",
    "gray = cv2.cvtColor(img, cv2.COLOR_BGR2GRAY)\n",
    "faces = classifier.detectMultiScale(gray, minNeighbors=10)\n",
    "\n",
    "c = img.copy()\n",
    "for face in faces:\n",
    "    x, y, w, h = face\n",
    "    cv2.rectangle(c, (x, y), (x + w, y + h), (0, 255, 0), 10)\n",
    "    \n",
    "i = cv2.cvtColor(c, cv2.COLOR_BGR2RGB)\n",
    "plt.imshow(i)\n",
    "plt.show()"
   ]
  },
  {
   "cell_type": "markdown",
   "id": "fa980376",
   "metadata": {},
   "source": [
    "### Web Scraping"
   ]
  },
  {
   "cell_type": "markdown",
   "id": "487fe20d",
   "metadata": {},
   "source": [
    "#### requests\n",
    "HTML code einer Webseite laden. http://docs.python-requests.org/en/master/user/quickstart"
   ]
  },
  {
   "cell_type": "code",
   "execution_count": null,
   "id": "e3ad251a",
   "metadata": {},
   "outputs": [],
   "source": [
    "import requests\n",
    "\n",
    "url = \"http://python.beispiel.programmierenlernen.io\"\n",
    "r = requests.get(url)\n",
    "# um nicht das Dokument zu sprengen, geben wir hier nur den HTML-Head aus\n",
    "print(r.text.split(\"<body>\")[0])"
   ]
  },
  {
   "cell_type": "markdown",
   "id": "954df310",
   "metadata": {},
   "source": [
    "#### BeakutifulSoup4\n",
    "HTML code zerlegen und weiterverarbeiten. https://www.crummy.com/software/BeautifulSoup/bs4/doc/"
   ]
  },
  {
   "cell_type": "code",
   "execution_count": null,
   "id": "4539f7e5",
   "metadata": {},
   "outputs": [],
   "source": [
    "from bs4 import BeautifulSoup\n",
    "\n",
    "# BeautifulSoup kommt ins Spiel nachdem dem Webseite heruntergeladen wurde\n",
    "# (z.B. mit dem Requests-Modul)\n",
    "\n",
    "import requests\n",
    "url = \"http://python.beispiel.programmierenlernen.io/index.php\"\n",
    "r = requests.get(url)\n",
    "\n",
    "doc = BeautifulSoup(r.text, \"html.parser\")\n",
    "# mit bs4 können wir auf bestimmte Bereiche innerhalb der HTML zugreifen\n",
    "# z.B. auf die Inhalte der Tags mit der Klasse card-text\n",
    "content = doc.select_one(\".card-text\").text\n",
    "print(content.replace(\". \", \". \\n\"))\n"
   ]
  },
  {
   "cell_type": "markdown",
   "id": "1fba77fc",
   "metadata": {},
   "source": [
    "#### urllib\n",
    "Arbeiten mit URIs. https://docs.python.org/3/library/urllib.parse.html"
   ]
  },
  {
   "cell_type": "code",
   "execution_count": null,
   "id": "3dfa315a",
   "metadata": {},
   "outputs": [],
   "source": [
    "import urllib\n",
    "\n",
    "from urllib.parse import urljoin\n",
    "\n",
    "url = \"http://python.beispiel.programmierenlernen.io/index.php\"\n",
    "\n",
    "# häufig sind Quellen als solche abgekürzten URLs angegeben\n",
    "src = \"./img/1.jpg\"\n",
    "\n",
    "image_url = urljoin(url, src)\n",
    "\n",
    "print(image_url)"
   ]
  },
  {
   "cell_type": "markdown",
   "id": "d4a1f3f8",
   "metadata": {},
   "source": [
    "### Datenstrukturen"
   ]
  },
  {
   "cell_type": "markdown",
   "id": "f9e34c46",
   "metadata": {},
   "source": [
    "#### collections\n",
    "Stellt u. a. die Struktur defaultdict bereit, mit der man automatisch dictionaries generieren kann. https://docs.python.org/2/library/collections.html#collections.defaultdic"
   ]
  },
  {
   "cell_type": "code",
   "execution_count": null,
   "id": "6af274a4",
   "metadata": {},
   "outputs": [],
   "source": [
    "from collections import defaultdict\n",
    "\n",
    "p = defaultdict(int)\n",
    "words = [\"Hallo\", \"Hier\", \"Hallo\", \"Welt\", \"Welt\", \"Welt\"]\n",
    "for word in words:\n",
    "    p[word] = p[word] + 3\n",
    "print(p)"
   ]
  },
  {
   "cell_type": "markdown",
   "id": "cda6fbc2",
   "metadata": {},
   "source": [
    "#### queue\n",
    "Liefert eine Datenstruktur, die eine Warteschlange modelliert. https://docs.python.org/3.6/library/queue.html"
   ]
  },
  {
   "cell_type": "code",
   "execution_count": null,
   "id": "1fca11e9",
   "metadata": {},
   "outputs": [],
   "source": [
    "import queue\n",
    "\n",
    "q = queue.Queue()\n",
    "q.put(\"Hallo\")\n",
    "q.put(\"Welt\")\n",
    "\n",
    "print(q.get())\n",
    "print(q.get())\n",
    "\n",
    "# PriorityQueue\n",
    "q = queue.PriorityQueue()\n",
    "\n",
    "q.put((15, \"Welt\"))\n",
    "q.put((5, \"Hallo\"))\n",
    "q.put((12, \"Mars\"))\n",
    "\n",
    "print(q.get())\n",
    "print(q.get())"
   ]
  },
  {
   "cell_type": "markdown",
   "id": "42f27e76",
   "metadata": {},
   "source": [
    "#### re\n",
    "Ermöglicht mit regulären Ausdrücken sehr flexibel, Strings zu durchsuchen. https://docs.python.org/3.6/library/re.html"
   ]
  },
  {
   "cell_type": "code",
   "execution_count": null,
   "id": "140c27c5",
   "metadata": {},
   "outputs": [],
   "source": [
    "import re\n",
    "sentence = \"Habe 30 Hunde, die jeweils 4 Liter Wasser brauchen und 2 kg Nahrung.\"\n",
    "re.findall(\"[0-9]+\", sentence)"
   ]
  },
  {
   "cell_type": "markdown",
   "id": "b7ae1d9d",
   "metadata": {},
   "source": [
    "### Zeit"
   ]
  },
  {
   "cell_type": "markdown",
   "id": "06fd98db",
   "metadata": {},
   "source": [
    "#### datetime\n",
    "Datumsfunktionen https://docs.python.org/3/library/datetime.html"
   ]
  },
  {
   "cell_type": "code",
   "execution_count": null,
   "id": "45553e30",
   "metadata": {},
   "outputs": [],
   "source": [
    "import datetime\n",
    "\n",
    "from datetime import datetime, timedelta\n",
    "\n",
    "now = datetime.now()\n",
    "print(now)\n",
    "print(now + timedelta(days = 20, hours = 4, minutes = 3, seconds = 1))\n",
    "\n",
    "day = datetime(2017, 8, 20, 20, 0, 0)\n",
    "print(day)\n",
    "print(day.year)\n",
    "\n",
    "from datetime import date, time\n",
    "\n",
    "d = date(2017, 8, 20)\n",
    "print(d)\n",
    "t = time(20, 1, 4)\n",
    "print(t)\n"
   ]
  },
  {
   "cell_type": "markdown",
   "id": "5aa6a910",
   "metadata": {},
   "source": [
    "#### time\n",
    "Zeit- und Datumsfunktionen. https://docs.python.org/3/library/time.html"
   ]
  },
  {
   "cell_type": "code",
   "execution_count": null,
   "id": "2fe0107e",
   "metadata": {},
   "outputs": [],
   "source": [
    "import time\n",
    "\n",
    "print(\"Auf die Plätze, fertig, los!\")\n",
    "time.sleep(3) # Programmausführung wird für 3 Sekunden angehalten\n",
    "print(\"Im Ziel!\")\n"
   ]
  },
  {
   "cell_type": "markdown",
   "id": "e5100278",
   "metadata": {},
   "source": [
    "### Metamodule"
   ]
  },
  {
   "cell_type": "markdown",
   "id": "357d9233",
   "metadata": {},
   "source": [
    "#### sys\n",
    "Stellt Informationen über den verwendeten Python-Interpreter bereit (also, welche Distribution mit\n",
    "welchen Eigenschaften vom System verwendet wird). https://docs.python.org/3/library/sys.html"
   ]
  },
  {
   "cell_type": "code",
   "execution_count": null,
   "id": "5e1ef1dd",
   "metadata": {},
   "outputs": [],
   "source": [
    "import sys\n",
    "\n",
    "print(sys.version)"
   ]
  },
  {
   "cell_type": "markdown",
   "id": "78d22518",
   "metadata": {},
   "source": [
    "### Inline Dokumentation\n",
    "\n",
    "#### Kommentare\n",
    "Nutzen Sie Kommentare um Ihren Code zu Dokumentieren!!!!\n",
    "\n",
    "#### Docstrings\n",
    "siehe Beispiel:"
   ]
  },
  {
   "cell_type": "code",
   "execution_count": null,
   "id": "7b4485ce",
   "metadata": {},
   "outputs": [],
   "source": [
    "def square(n):\n",
    "    '''Liefert das Quadrat der gegebenen Zahl zurück'''\n",
    "    return n*n\n",
    "\n",
    "help(square)"
   ]
  },
  {
   "cell_type": "code",
   "execution_count": null,
   "id": "e71bcd6a",
   "metadata": {},
   "outputs": [],
   "source": [
    "print(square.__doc__)"
   ]
  },
  {
   "cell_type": "code",
   "execution_count": null,
   "id": "13eb5a77",
   "metadata": {},
   "outputs": [],
   "source": [
    "help(plt)"
   ]
  },
  {
   "cell_type": "code",
   "execution_count": null,
   "id": "1205257d",
   "metadata": {},
   "outputs": [],
   "source": []
  }
 ],
 "metadata": {
  "kernelspec": {
   "display_name": "Python 3 (ipykernel)",
   "language": "python",
   "name": "python3"
  },
  "language_info": {
   "codemirror_mode": {
    "name": "ipython",
    "version": 3
   },
   "file_extension": ".py",
   "mimetype": "text/x-python",
   "name": "python",
   "nbconvert_exporter": "python",
   "pygments_lexer": "ipython3",
   "version": "3.11.10"
  }
 },
 "nbformat": 4,
 "nbformat_minor": 5
}
