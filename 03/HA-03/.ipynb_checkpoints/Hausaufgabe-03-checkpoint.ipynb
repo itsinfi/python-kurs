{
 "cells": [
  {
   "cell_type": "markdown",
   "id": "a91bb713",
   "metadata": {},
   "source": [
    "<!--  Header einfügen -->\n",
    "<img style=\"width:80%;\" id=\"image\" src=\"iu.jpg\">"
   ]
  },
  {
   "cell_type": "markdown",
   "id": "dc69ca52",
   "metadata": {},
   "source": [
    "# Einfuerung in Python - IU - WS 2023/24\n",
    "<img style=\"width:40%;\" id=\"image\" src=\"python.png\">\n",
    "\n",
    "                                                               andreas.huemmer.ext@iu.org\n",
    "\n"
   ]
  },
  {
   "cell_type": "markdown",
   "id": "751ca669",
   "metadata": {},
   "source": [
    "## Hausaufgabe 03\n",
    "Erreichbare Punktzahl: 10\n",
    "Abgabedatum: 08.01.2024, 06:00"
   ]
  },
  {
   "cell_type": "markdown",
   "id": "d240cd40",
   "metadata": {},
   "source": [
    "Füllen Sie folgende Felder aus:\n",
    "\n",
    "Name:           ______________________________\n",
    "Matrikelnummer: ______________________________"
   ]
  },
  {
   "cell_type": "code",
   "execution_count": null,
   "id": "62483caa",
   "metadata": {},
   "outputs": [],
   "source": [
    "import os\n",
    "import math\n",
    "from time import time\n",
    "os.system('cmd command');\n",
    "import numpy as np\n",
    "import matplotlib.image  as mpimg\n",
    "import matplotlib.pyplot as plt"
   ]
  },
  {
   "cell_type": "markdown",
   "id": "2dacd60b",
   "metadata": {},
   "source": [
    "### Augabe 1 (1 Punkt)\n",
    "Gegeben ist ein kleiner Supermarkt. Ihre Aufgabe ist es eine kleine Inventur zu machen und zu ermitteln wie hoch der Verkaufswert aller Produkte im Supermarkt ist. Die inventurliste ist hierbei vorgeben:\n"
   ]
  },
  {
   "cell_type": "code",
   "execution_count": null,
   "id": "f8fdff99",
   "metadata": {},
   "outputs": [],
   "source": [
    "supermarkt = {\"Milch\": {\"Menge\": 20, \"Preis\": 1.19},\n",
    "               \"Biscuits\":  {\"Menge\": 32, \"Preis\": 1.45},\n",
    "               \"Butter\":  {\"Menge\": 20, \"Preis\": 2.29},\n",
    "               \"Kaese\":  {\"Menge\": 15, \"Preis\": 1.90},\n",
    "               \"Brot\":  {\"Menge\": 15, \"Preis\": 2.59},\n",
    "               \"Cookies\":  {\"Menge\": 20, \"Preis\": 4.99},\n",
    "               \"Jogurt\": {\"Menge\": 18, \"Preis\": 3.65},\n",
    "               \"Aepfel\":  {\"Menge\": 35, \"Preis\": 3.15},\n",
    "               \"Orangen\":  {\"Menge\": 40, \"Preis\": 0.99},\n",
    "               \"Bananen\": {\"Menge\": 23, \"Preis\": 1.29}}"
   ]
  },
  {
   "cell_type": "code",
   "execution_count": null,
   "id": "7662d035",
   "metadata": {
    "scrolled": false
   },
   "outputs": [],
   "source": [
    "### Ihr code hier ###\n",
    "\n"
   ]
  },
  {
   "cell_type": "markdown",
   "id": "96cb5dc1",
   "metadata": {},
   "source": [
    "Erreichte Punkte:  ___ / 1"
   ]
  },
  {
   "cell_type": "markdown",
   "id": "18c3f573",
   "metadata": {},
   "source": [
    "### Aufgabe 2 (1 Punkte)\n",
    "Berechnen Sie die Fakultäten bis 20 rekursiv."
   ]
  },
  {
   "cell_type": "code",
   "execution_count": null,
   "id": "830d1350",
   "metadata": {
    "scrolled": false
   },
   "outputs": [],
   "source": [
    "### Ihr code hier ####\n",
    "\n",
    "a = 20\n"
   ]
  },
  {
   "cell_type": "markdown",
   "id": "4f737065",
   "metadata": {},
   "source": [
    "Erreichte Punkte:  ___ / 1"
   ]
  },
  {
   "cell_type": "markdown",
   "id": "960d6f6d",
   "metadata": {},
   "source": [
    "### Aufgabe 3 (1 Punkte)\n",
    "Emittels Sie die ersten 20 Fibbonacizahlen rekursiv.\n"
   ]
  },
  {
   "cell_type": "code",
   "execution_count": null,
   "id": "cfdaf477",
   "metadata": {},
   "outputs": [],
   "source": [
    "### Ihr code hier ###\n",
    "\n",
    "n = 20\n",
    "\n"
   ]
  },
  {
   "cell_type": "markdown",
   "id": "cdcb2a3c",
   "metadata": {},
   "source": [
    "Erreichte Punkte:  ___ / 1"
   ]
  },
  {
   "cell_type": "markdown",
   "id": "4a639a3f",
   "metadata": {},
   "source": [
    "### Aufgabe 4 (4 Punkte)\n",
    "Gegeben ist eine Liste mit Zahlenwerten. Ermitteln sie die foldenen Statistikdaten:\n",
    "\n",
    "- Mittelwert, Median\n",
    "- Minimum, Maximum\n",
    "- Summe aller Elemente\n",
    "- Standardabweidung\n",
    "- 25%, 50% und 75% Percentil\n",
    "\n",
    "Geben Sie die Werte mit print() in geeigneter Formatierung aus.\n",
    "Plotten Sie die Daten.\n",
    "Stellen Sie die Häufigkeit der Zahlen in einem Histogramm dar und plotten Sie dieses. Fügen Sie dem Plot vertikale Linien für die o.g. statistsichen Werte hinzu."
   ]
  },
  {
   "cell_type": "code",
   "execution_count": null,
   "id": "50110aa1",
   "metadata": {},
   "outputs": [],
   "source": [
    "import random\n",
    "import matplotlib.pyplot as plt\n",
    "import numpy as np"
   ]
  },
  {
   "cell_type": "code",
   "execution_count": null,
   "id": "3b7c3c22",
   "metadata": {},
   "outputs": [],
   "source": [
    "# Der nachfolgende code erzeugt eine liste mit 10000 (pseudo)Zufallzahlen\n",
    "maxrange = 100\n",
    "\n",
    "randlist = np.random.randint(1,maxrange, size=(10000, ))\n",
    "\n",
    "print(\"Random numbers: \", randlist)"
   ]
  },
  {
   "cell_type": "code",
   "execution_count": null,
   "id": "9d8f10fb",
   "metadata": {},
   "outputs": [],
   "source": [
    "### your code here  ... statistics ###\n",
    "\n"
   ]
  },
  {
   "cell_type": "code",
   "execution_count": null,
   "id": "1acc2a56",
   "metadata": {},
   "outputs": [],
   "source": [
    "### your code here ... plotting data ###\n",
    "\n",
    "\n",
    "plt.show()"
   ]
  },
  {
   "cell_type": "code",
   "execution_count": null,
   "id": "8275e65a",
   "metadata": {},
   "outputs": [],
   "source": [
    "### your code here ... plotting histogram ###\n",
    "\n",
    "# place the legend outside\n",
    "\n",
    "\n",
    "plt.show()"
   ]
  },
  {
   "cell_type": "markdown",
   "id": "bd05b393",
   "metadata": {},
   "source": [
    "________________________________\n",
    "Erreichte Punkte:  ___ / 4"
   ]
  },
  {
   "cell_type": "markdown",
   "id": "4a25e363",
   "metadata": {},
   "source": [
    "### Aufgabe 5 (3 Punkte)\n",
    "\n",
    "#### Lineare Regression\n",
    "Gegeben sei ein Datensatz mit x-y-werten. Berechnen Sie die lineare Regressionsgerade mit numpy und matplotlib methoden.\n",
    "Plotten Sie ihr Ergibnis als Scatterplot zusammen mit der errechneten Ausgleichsgeraden.\n",
    "\n",
    "Siehe u.a.: https://datatab.de/tutorial/lineare-regression"
   ]
  },
  {
   "cell_type": "code",
   "execution_count": null,
   "id": "899c069e",
   "metadata": {},
   "outputs": [],
   "source": [
    "# Datensatz:\n",
    "n     = 100\n",
    "x     = np.arange(0, n)\n",
    "\n",
    "# generate the signal\n",
    "raw_y = 0.3*x + 0.6\n",
    "qub_y  = (0.5*x**3 - x**2 - .5*x - 3)*0.0001\n",
    "# Genearte noise with same size as that of the data.\n",
    "noise = np.random.normal(0,3, len(x)) #  μ = 0, σ = 2, size = length of x or y. Choose μ and σ wisely.\n",
    "\n",
    "y = raw_y + qub_y + noise\n",
    "\n",
    "plt.scatter(x, y, color = 'hotpink', s = 2)\n",
    "plt.show()"
   ]
  },
  {
   "cell_type": "code",
   "execution_count": null,
   "id": "bb00c43f",
   "metadata": {},
   "outputs": [],
   "source": [
    "### Ihr  code hier ###\n",
    "\n",
    "\n",
    "\n",
    "\n",
    "\n",
    "\n",
    "plt.show()"
   ]
  },
  {
   "cell_type": "code",
   "execution_count": null,
   "id": "6ee87e61",
   "metadata": {},
   "outputs": [],
   "source": [
    "# Vergleich mit der Berechnung mittels sklearn\n",
    "from sklearn.linear_model import LinearRegression\n",
    "\n",
    "xr = x.reshape(-1, 1)\n",
    "model = LinearRegression().fit(xr,y)\n",
    "r_sq  = model.score(xr,y)\n",
    "print(f\"coefficient of determination: {r_sq}\")\n",
    "print(f\"intercept: , {model.intercept_}\")\n",
    "print(f\"coefficients: {model.coef_}\")"
   ]
  },
  {
   "cell_type": "code",
   "execution_count": null,
   "id": "75566a84",
   "metadata": {
    "scrolled": true
   },
   "outputs": [],
   "source": [
    "y_pred = model.predict(xr)\n",
    "print(f\"predicted response:\\n{y_pred}\")\n"
   ]
  },
  {
   "cell_type": "code",
   "execution_count": null,
   "id": "03a31b42",
   "metadata": {},
   "outputs": [],
   "source": [
    "plt.scatter(x, y, color = 'hotpink', s = 2)\n",
    "\n",
    "### ihr code hier zum plotten der ausgleichsgerade mit den sklearn ergebnissen ###\n",
    "\n",
    "\n",
    "\n",
    "\n",
    "\n",
    "\n",
    "plt.show()"
   ]
  },
  {
   "cell_type": "code",
   "execution_count": null,
   "id": "77224b6f",
   "metadata": {},
   "outputs": [],
   "source": [
    "# Vergleich mit scipy\n",
    "from scipy.stats import linregress\n",
    "b, a, r, p, std = linregress(x, y)\n",
    "\n",
    "print(b, a, r, p, std)\n",
    "\n",
    "print(\"\\nAusgleichsgerade: y = \", b, \"x \", a)\n",
    "\n",
    "\n",
    "plt.scatter(x, y, color = 'hotpink', s = 2)\n",
    "\n",
    "### ihr code hier zum plotten der ausgleichsgerade mit den scipi ergebnissen ###\n",
    "\n",
    "\n",
    "\n",
    "\n",
    "\n",
    "\n",
    "plt.show()"
   ]
  },
  {
   "cell_type": "markdown",
   "id": "e535acf4",
   "metadata": {},
   "source": [
    "Erreichte Punkte:  ___ / 3"
   ]
  },
  {
   "cell_type": "markdown",
   "id": "ffc5dee1",
   "metadata": {},
   "source": [
    "**Gesamtpunktzahl:  ___ / 10**"
   ]
  },
  {
   "cell_type": "code",
   "execution_count": null,
   "id": "21a0d8c4",
   "metadata": {},
   "outputs": [],
   "source": []
  }
 ],
 "metadata": {
  "kernelspec": {
   "display_name": "Python 3 (ipykernel)",
   "language": "python",
   "name": "python3"
  },
  "language_info": {
   "codemirror_mode": {
    "name": "ipython",
    "version": 3
   },
   "file_extension": ".py",
   "mimetype": "text/x-python",
   "name": "python",
   "nbconvert_exporter": "python",
   "pygments_lexer": "ipython3",
   "version": "3.11.5"
  }
 },
 "nbformat": 4,
 "nbformat_minor": 5
}
