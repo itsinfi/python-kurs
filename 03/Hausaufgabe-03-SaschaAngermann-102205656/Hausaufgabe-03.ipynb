{
 "cells": [
  {
   "cell_type": "markdown",
   "id": "a91bb713",
   "metadata": {},
   "source": [
    "<!--  Header einfügen -->\n",
    "<img style=\"width:80%;\" id=\"image\" src=\"iu.jpg\">"
   ]
  },
  {
   "cell_type": "markdown",
   "id": "dc69ca52",
   "metadata": {},
   "source": [
    "# Einfuerung in Python - IU - WS 2024/25\n",
    "<img style=\"width:40%;\" id=\"image\" src=\"python.png\">\n",
    "\n",
    "                                                               andreas.huemmer.ext@iu.org\n",
    "\n"
   ]
  },
  {
   "cell_type": "markdown",
   "id": "751ca669",
   "metadata": {},
   "source": [
    "## Hausaufgabe 03\n",
    "Erreichbare Punktzahl: 10\n",
    "Abgabedatum: 02.01.2025, 06:00"
   ]
  },
  {
   "cell_type": "markdown",
   "id": "d240cd40",
   "metadata": {},
   "source": [
    "Füllen Sie folgende Felder aus:\n",
    "\n",
    "Name:           Sascha Angermann\n",
    "\n",
    "Matrikelnummer: 102205656"
   ]
  },
  {
   "cell_type": "code",
   "execution_count": 820,
   "id": "62483caa",
   "metadata": {},
   "outputs": [],
   "source": [
    "import os\n",
    "import math\n",
    "from time import time\n",
    "# os.system('cmd command');\n",
    "import numpy as np\n",
    "import matplotlib.image  as mpimg\n",
    "import matplotlib.pyplot as plt"
   ]
  },
  {
   "cell_type": "markdown",
   "id": "2dacd60b",
   "metadata": {},
   "source": [
    "### Augabe 1 (1 Punkt)\n",
    "Gegeben ist ein kleiner Supermarkt. Ihre Aufgabe ist es eine kleine Inventur zu machen und zu ermitteln wie hoch der Verkaufswert aller Produkte im Supermarkt ist. Die inventurliste ist hierbei vorgeben:\n"
   ]
  },
  {
   "cell_type": "code",
   "execution_count": 821,
   "id": "f8fdff99",
   "metadata": {},
   "outputs": [],
   "source": [
    "supermarkt = {\"Milch\": {\"Menge\": 20, \"Preis\": 1.19},\n",
    "               \"Biscuits\":  {\"Menge\": 32, \"Preis\": 1.45},\n",
    "               \"Butter\":  {\"Menge\": 20, \"Preis\": 2.29},\n",
    "               \"Kaese\":  {\"Menge\": 15, \"Preis\": 1.90},\n",
    "               \"Brot\":  {\"Menge\": 15, \"Preis\": 2.59},\n",
    "               \"Cookies\":  {\"Menge\": 20, \"Preis\": 4.99},\n",
    "               \"Jogurt\": {\"Menge\": 18, \"Preis\": 3.65},\n",
    "               \"Aepfel\":  {\"Menge\": 35, \"Preis\": 3.15},\n",
    "               \"Orangen\":  {\"Menge\": 40, \"Preis\": 0.99},\n",
    "               \"Bananen\": {\"Menge\": 23, \"Preis\": 1.29}}"
   ]
  },
  {
   "cell_type": "code",
   "execution_count": 822,
   "id": "7662d035",
   "metadata": {},
   "outputs": [
    {
     "name": "stdout",
     "output_type": "stream",
     "text": [
      "Verkaufswert der Inventur: 528.37 €\n"
     ]
    }
   ],
   "source": [
    "verkaufswert = 0\n",
    "\n",
    "for key, produkt in supermarkt.items():\n",
    "    verkaufswert += produkt['Menge'] * produkt['Preis']\n",
    "\n",
    "print('Verkaufswert der Inventur:', verkaufswert, '€')\n"
   ]
  },
  {
   "cell_type": "markdown",
   "id": "96cb5dc1",
   "metadata": {},
   "source": [
    "Erreichte Punkte:  ___ / 1"
   ]
  },
  {
   "cell_type": "code",
   "execution_count": null,
   "id": "e3386659",
   "metadata": {},
   "outputs": [],
   "source": []
  },
  {
   "cell_type": "markdown",
   "id": "18c3f573",
   "metadata": {},
   "source": [
    "### Aufgabe 2 (1 Punkte)\n",
    "Berechnen Sie die Fibonaccizahlen bis 20 rekursiv."
   ]
  },
  {
   "cell_type": "code",
   "execution_count": 823,
   "id": "830d1350",
   "metadata": {},
   "outputs": [
    {
     "name": "stdout",
     "output_type": "stream",
     "text": [
      "[0, 1, 1, 2, 3, 5, 8, 13]\n"
     ]
    }
   ],
   "source": [
    "### Ihr code hier ####\n",
    "\n",
    "a = 20\n",
    "\n",
    "def calc_fib(n, a):\n",
    "    if n < 2:\n",
    "        return n\n",
    "    \n",
    "    fib = calc_fib(n - 1, a) + calc_fib(n - 2, a)\n",
    "\n",
    "    if fib > a:\n",
    "        return None\n",
    "    \n",
    "    return fib\n",
    "\n",
    "def calc_fib_seq(a):\n",
    "\n",
    "    fib_seq = []\n",
    "    n = 0\n",
    "\n",
    "    while True:\n",
    "        fib = calc_fib(n, a)\n",
    "        \n",
    "        if fib is None:\n",
    "            break\n",
    "\n",
    "        fib_seq.append(fib)\n",
    "        n += 1\n",
    "\n",
    "    return fib_seq\n",
    "\n",
    "fib_seq = calc_fib_seq(a)\n",
    "\n",
    "print(fib_seq)\n"
   ]
  },
  {
   "cell_type": "markdown",
   "id": "4f737065",
   "metadata": {},
   "source": [
    "Erreichte Punkte:  ___ / 1"
   ]
  },
  {
   "cell_type": "markdown",
   "id": "960d6f6d",
   "metadata": {},
   "source": [
    "### Aufgabe 3 (1 Punkte)\n",
    "Emittels Sie die ersten 20 Fibbonacizahlen iterativ.\n"
   ]
  },
  {
   "cell_type": "code",
   "execution_count": 824,
   "id": "cfdaf477",
   "metadata": {},
   "outputs": [
    {
     "name": "stdout",
     "output_type": "stream",
     "text": [
      "[1, 2, 3, 5, 8, 13]\n"
     ]
    }
   ],
   "source": [
    "### Ihr code hier ###\n",
    "\n",
    "n = 20\n",
    "\n",
    "def calc_fib_iterative(n):\n",
    "    fib_seq = []\n",
    "\n",
    "    f1 = 1\n",
    "    f2 = 0\n",
    "\n",
    "    while True:\n",
    "        n -= 1\n",
    "        f = f1 + f2\n",
    "        f2 = f1\n",
    "        f1 = f\n",
    "\n",
    "        if f > n:\n",
    "            break\n",
    "        \n",
    "        fib_seq.append(f)\n",
    "    \n",
    "    return fib_seq\n",
    "\n",
    "print(calc_fib_iterative(n))\n"
   ]
  },
  {
   "cell_type": "markdown",
   "id": "cdcb2a3c",
   "metadata": {},
   "source": [
    "Erreichte Punkte:  ___ / 1"
   ]
  },
  {
   "cell_type": "markdown",
   "id": "4a639a3f",
   "metadata": {},
   "source": [
    "### Aufgabe 4 (4 Punkte)\n",
    "Gegeben ist eine Liste mit Zahlenwerten. Ermitteln sie die foldenen Statistikdaten:\n",
    "\n",
    "- Mittelwert, Median\n",
    "- Minimum, Maximum\n",
    "- Summe aller Elemente\n",
    "- Standardabweidung\n",
    "- 25%, 50% und 75% Percentil\n",
    "\n",
    "Geben Sie die Werte mit print() in geeigneter Formatierung aus.\n",
    "Plotten Sie die Daten.\n",
    "Stellen Sie die Häufigkeit der Zahlen in einem Histogramm dar und plotten Sie dieses. Fügen Sie dem Plot vertikale Linien für die o.g. statistsichen Werte hinzu."
   ]
  },
  {
   "cell_type": "code",
   "execution_count": 825,
   "id": "50110aa1",
   "metadata": {},
   "outputs": [],
   "source": [
    "import random\n",
    "import matplotlib.pyplot as plt\n",
    "import numpy as np"
   ]
  },
  {
   "cell_type": "code",
   "execution_count": 826,
   "id": "3b7c3c22",
   "metadata": {},
   "outputs": [
    {
     "name": "stdout",
     "output_type": "stream",
     "text": [
      "Random numbers:  [95 25 29 ...  3 70 89]\n"
     ]
    }
   ],
   "source": [
    "# Der nachfolgende code erzeugt eine liste mit 10000 (pseudo)Zufallzahlen\n",
    "maxrange = 100\n",
    "\n",
    "randlist: list[int] = np.random.randint(1,maxrange, size=(10000, ))\n",
    "\n",
    "print(\"Random numbers: \", randlist)"
   ]
  },
  {
   "cell_type": "code",
   "execution_count": 827,
   "id": "9d8f10fb",
   "metadata": {},
   "outputs": [
    {
     "name": "stdout",
     "output_type": "stream",
     "text": [
      "Mittelwert: 49.826\n",
      "Median: 49.826\n",
      "Minimum: 1\n",
      "Maximum: 99\n",
      "Summe: 498260\n",
      "Standardabweichung: 28.57643408927228\n",
      "25%-Perzentil: 25.0\n",
      "50%-Perzentil: 50.0\n",
      "75%-Perzentil: 74.0\n"
     ]
    }
   ],
   "source": [
    "### your code here  ... statistics ###\n",
    "\n",
    "randlist.sort()\n",
    "\n",
    "list_len = len(randlist)\n",
    "list_sum = sum(randlist)\n",
    "\n",
    "mean = list_sum / list_len\n",
    "median = randlist[list_len // 2]\n",
    "\n",
    "stdabw = math.sqrt(sum([(x - mean) ** 2 for x in randlist]) * 1 / (list_len - 1))\n",
    "\n",
    "perc_25 = np.percentile(randlist, 25)\n",
    "perc_50 = np.percentile(randlist, 50)\n",
    "perc_75 = np.percentile(randlist, 75)\n",
    "\n",
    "\n",
    "\n",
    "print('Mittelwert:', mean)\n",
    "print('Median:', mean)\n",
    "print('Minimum:', min(randlist))\n",
    "print('Maximum:', max(randlist))\n",
    "print('Summe:', list_sum)\n",
    "print('Standardabweichung:', stdabw)\n",
    "print('25%-Perzentil:', perc_25)\n",
    "print('50%-Perzentil:', perc_50)\n",
    "print('75%-Perzentil:', perc_75)\n",
    "\n"
   ]
  },
  {
   "cell_type": "code",
   "execution_count": 828,
   "id": "1acc2a56",
   "metadata": {},
   "outputs": [
    {
     "data": {
      "image/png": "[encoded data removed]",
      "text/plain": [
       "<Figure size 640x480 with 1 Axes>"
      ]
     },
     "metadata": {},
     "output_type": "display_data"
    }
   ],
   "source": [
    "### your code here ... plotting data ###\n",
    "\n",
    "# Boxplot plotten\n",
    "plt.boxplot(randlist, vert=True, patch_artist=True)\n",
    "\n",
    "plt.title('Boxplot')\n",
    "plt.xlabel('Werte')\n",
    "\n",
    "plt.show()"
   ]
  },
  {
   "cell_type": "code",
   "execution_count": 829,
   "id": "8275e65a",
   "metadata": {},
   "outputs": [
    {
     "data": {
      "image/png": "[encoded data removed]",
      "text/plain": [
       "<Figure size 640x480 with 1 Axes>"
      ]
     },
     "metadata": {},
     "output_type": "display_data"
    }
   ],
   "source": [
    "### your code here ... plotting histogram ###\n",
    "\n",
    "# place the legend outside\n",
    "\n",
    "plt.hist(randlist, bins=30, alpha=0.7, color='blue', edgecolor='black')\n",
    "\n",
    "plt.axvline(mean, color='red', linestyle='dashed', linewidth=2, label=f'Mittelwert: {mean:.2f}')\n",
    "plt.axvline(median, color='green', linestyle='dashed', linewidth=2, label=f'Median: {median:.2f}')\n",
    "plt.axvline(perc_75, color='orange', linestyle='dashed', linewidth=2, label=f'75%-Perzentil: {mean + stdabw:.2f}')\n",
    "plt.axvline(perc_25, color='orange', linestyle='dashed', linewidth=2, label=f'25%-Perzentil: {mean - stdabw:.2f}')\n",
    "\n",
    "plt.legend()\n",
    "\n",
    "plt.title('Histogramm')\n",
    "plt.xlabel('Werte')\n",
    "plt.ylabel('Häufigkeit')\n",
    "\n",
    "\n",
    "plt.show()"
   ]
  },
  {
   "cell_type": "markdown",
   "id": "bd05b393",
   "metadata": {},
   "source": [
    "________________________________\n",
    "Erreichte Punkte:  ___ / 4"
   ]
  },
  {
   "cell_type": "markdown",
   "id": "4a25e363",
   "metadata": {},
   "source": [
    "### Aufgabe 5 (3 Punkte)\n",
    "\n",
    "#### Lineare Regression\n",
    "Gegeben sei ein Datensatz mit x-y-werten. Berechnen Sie die lineare Regressionsgerade mit numpy und matplotlib methoden.\n",
    "Plotten Sie ihr Ergibnis als Scatterplot zusammen mit der errechneten Ausgleichsgeraden.\n",
    "\n",
    "Siehe u.a.: https://datatab.de/tutorial/lineare-regression"
   ]
  },
  {
   "cell_type": "code",
   "execution_count": 830,
   "id": "899c069e",
   "metadata": {},
   "outputs": [
    {
     "data": {
      "image/png": "[encoded data removed]",
      "text/plain": [
       "<Figure size 640x480 with 1 Axes>"
      ]
     },
     "metadata": {},
     "output_type": "display_data"
    }
   ],
   "source": [
    "# Datensatz:\n",
    "n     = 100\n",
    "x     = np.arange(0, n)\n",
    "\n",
    "# generate the signal\n",
    "raw_y = 0.3*x + 0.6\n",
    "qub_y  = (0.5*x**3 - x**2 - .5*x - 3)*0.0001\n",
    "# Genearte noise with same size as that of the data.\n",
    "noise = np.random.normal(0,3, len(x)) #  μ = 0, σ = 2, size = length of x or y. Choose μ and σ wisely.\n",
    "\n",
    "y = raw_y + qub_y + noise\n",
    "\n",
    "plt.scatter(x, y, color = 'hotpink', s = 2)\n",
    "plt.show()"
   ]
  },
  {
   "cell_type": "code",
   "execution_count": 831,
   "id": "bb00c43f",
   "metadata": {},
   "outputs": [
    {
     "name": "stdout",
     "output_type": "stream",
     "text": [
      "0.7330203485009708\n"
     ]
    },
    {
     "data": {
      "image/png": "[encoded data removed]",
      "text/plain": [
       "<Figure size 640x480 with 1 Axes>"
      ]
     },
     "metadata": {},
     "output_type": "display_data"
    }
   ],
   "source": [
    "### Ihr  code hier ###\n",
    "\n",
    "def calc_b():\n",
    "    sx = np.std(x, ddof=1)\n",
    "    sy = np.std(y, ddof=1)\n",
    "    sxy = np.sum((np.array(x) - np.mean(x)) * (np.array(y) - np.mean(y))) / (len(x) - 1)\n",
    "    r = sxy / (sx * sy)\n",
    "    return r * sy / sx \n",
    "\n",
    "b = calc_b()\n",
    "\n",
    "print(b)\n",
    "\n",
    "def calc_a():\n",
    "    _y = np.mean(y)\n",
    "    _x = np.mean(x)\n",
    "    return _y - b * _x\n",
    "\n",
    "a = calc_a()\n",
    "\n",
    "\n",
    "plt.scatter(x, y, color = 'hotpink', s = 2)\n",
    "\n",
    "plt.plot(range(n), b * x + a, color = 'blue')\n",
    "\n",
    "plt.show()"
   ]
  },
  {
   "cell_type": "code",
   "execution_count": 832,
   "id": "6ee87e61",
   "metadata": {},
   "outputs": [
    {
     "name": "stdout",
     "output_type": "stream",
     "text": [
      "coefficient of determination: 0.9191993286507869\n",
      "intercept: , -8.937180184212213\n",
      "coefficients: [0.73302035]\n"
     ]
    }
   ],
   "source": [
    "# Vergleich mit der Berechnung mittels sklearn\n",
    "from sklearn.linear_model import LinearRegression\n",
    "\n",
    "xr = x.reshape(-1, 1)\n",
    "model = LinearRegression().fit(xr,y)\n",
    "r_sq  = model.score(xr,y)\n",
    "print(f\"coefficient of determination: {r_sq}\")\n",
    "print(f\"intercept: , {model.intercept_}\")\n",
    "print(f\"coefficients: {model.coef_}\")"
   ]
  },
  {
   "cell_type": "code",
   "execution_count": 833,
   "id": "75566a84",
   "metadata": {
    "scrolled": true
   },
   "outputs": [
    {
     "name": "stdout",
     "output_type": "stream",
     "text": [
      "predicted response:\n",
      "[-8.93718018 -8.20415984 -7.47113949 -6.73811914 -6.00509879 -5.27207844\n",
      " -4.53905809 -3.80603774 -3.0730174  -2.33999705 -1.6069767  -0.87395635\n",
      " -0.140936    0.59208435  1.32510469  2.05812504  2.79114539  3.52416574\n",
      "  4.25718609  4.99020644  5.72322679  6.45624713  7.18926748  7.92228783\n",
      "  8.65530818  9.38832853 10.12134888 10.85436923 11.58738957 12.32040992\n",
      " 13.05343027 13.78645062 14.51947097 15.25249132 15.98551166 16.71853201\n",
      " 17.45155236 18.18457271 18.91759306 19.65061341 20.38363376 21.1166541\n",
      " 21.84967445 22.5826948  23.31571515 24.0487355  24.78175585 25.5147762\n",
      " 26.24779654 26.98081689 27.71383724 28.44685759 29.17987794 29.91289829\n",
      " 30.64591863 31.37893898 32.11195933 32.84497968 33.57800003 34.31102038\n",
      " 35.04404073 35.77706107 36.51008142 37.24310177 37.97612212 38.70914247\n",
      " 39.44216282 40.17518317 40.90820351 41.64122386 42.37424421 43.10726456\n",
      " 43.84028491 44.57330526 45.3063256  46.03934595 46.7723663  47.50538665\n",
      " 48.238407   48.97142735 49.7044477  50.43746804 51.17048839 51.90350874\n",
      " 52.63652909 53.36954944 54.10256979 54.83559014 55.56861048 56.30163083\n",
      " 57.03465118 57.76767153 58.50069188 59.23371223 59.96673257 60.69975292\n",
      " 61.43277327 62.16579362 62.89881397 63.63183432]\n"
     ]
    }
   ],
   "source": [
    "y_pred = model.predict(xr)\n",
    "print(f\"predicted response:\\n{y_pred}\")\n"
   ]
  },
  {
   "cell_type": "code",
   "execution_count": 834,
   "id": "03a31b42",
   "metadata": {},
   "outputs": [
    {
     "data": {
      "image/png": "[encoded data removed]",
      "text/plain": [
       "<Figure size 640x480 with 1 Axes>"
      ]
     },
     "metadata": {},
     "output_type": "display_data"
    }
   ],
   "source": [
    "plt.scatter(x, y, color = 'hotpink', s = 2)\n",
    "\n",
    "### ihr code hier zum plotten der ausgleichsgerade mit den sklearn ergebnissen ###\n",
    "\n",
    "plt.plot(range(n), y_pred, color = 'blue')\n",
    "\n",
    "plt.show()"
   ]
  },
  {
   "cell_type": "code",
   "execution_count": 835,
   "id": "77224b6f",
   "metadata": {},
   "outputs": [
    {
     "name": "stdout",
     "output_type": "stream",
     "text": [
      "0.7330203485009709 -8.937180184212213 0.9587488350192594 2.4348199282890238e-55 0.021953593997988838\n",
      "\n",
      "Ausgleichsgerade: y =  0.7330203485009709 x  -8.937180184212213\n"
     ]
    },
    {
     "data": {
      "image/png": "[encoded data removed]",
      "text/plain": [
       "<Figure size 640x480 with 1 Axes>"
      ]
     },
     "metadata": {},
     "output_type": "display_data"
    }
   ],
   "source": [
    "# Vergleich mit scipy\n",
    "from scipy.stats import linregress\n",
    "b, a, r, p, std = linregress(x, y)\n",
    "\n",
    "print(b, a, r, p, std)\n",
    "\n",
    "print(\"\\nAusgleichsgerade: y = \", b, \"x \", a)\n",
    "\n",
    "\n",
    "plt.scatter(x, y, color = 'hotpink', s = 2)\n",
    "\n",
    "### ihr code hier zum plotten der ausgleichsgerade mit den scipi ergebnissen ###\n",
    "\n",
    "plt.plot(range(n), b * x + a, color = 'blue')\n",
    "\n",
    "\n",
    "\n",
    "\n",
    "plt.show()"
   ]
  },
  {
   "cell_type": "markdown",
   "id": "e535acf4",
   "metadata": {},
   "source": [
    "Erreichte Punkte:  ___ / 3"
   ]
  },
  {
   "cell_type": "markdown",
   "id": "ffc5dee1",
   "metadata": {},
   "source": [
    "**Gesamtpunktzahl:  ___ / 10**"
   ]
  },
  {
   "cell_type": "code",
   "execution_count": null,
   "id": "21a0d8c4",
   "metadata": {},
   "outputs": [],
   "source": []
  }
 ],
 "metadata": {
  "kernelspec": {
   "display_name": "01_saschaangermann",
   "language": "python",
   "name": "python3"
  },
  "language_info": {
   "codemirror_mode": {
    "name": "ipython",
    "version": 3
   },
   "file_extension": ".py",
   "mimetype": "text/x-python",
   "name": "python",
   "nbconvert_exporter": "python",
   "pygments_lexer": "ipython3",
   "version": "3.12.7"
  }
 },
 "nbformat": 4,
 "nbformat_minor": 5
}
