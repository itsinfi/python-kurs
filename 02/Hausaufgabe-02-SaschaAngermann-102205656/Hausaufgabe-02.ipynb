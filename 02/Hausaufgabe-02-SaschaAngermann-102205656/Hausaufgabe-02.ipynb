{
 "cells": [
  {
   "cell_type": "markdown",
   "id": "a91bb713",
   "metadata": {},
   "source": [
    "<!--  Header einfügen -->\n",
    "<img style=\"width:80%;\" id=\"image\" src=\"iu.jpg\">"
   ]
  },
  {
   "cell_type": "markdown",
   "id": "dc69ca52",
   "metadata": {},
   "source": [
    "# Einfuerung in Python - IU - WS 2024/25\n",
    "<img style=\"width:40%;\" id=\"image\" src=\"python.png\">\n",
    "\n",
    "                                                               andreas.huemmer.ext@iu.org\n",
    "\n"
   ]
  },
  {
   "cell_type": "markdown",
   "id": "751ca669",
   "metadata": {},
   "source": [
    "## Hausaufgabe 02\n",
    "Erreichbare Punktzahl: 10\n",
    "Abgabedatum: 2.1.2025, 06:00"
   ]
  },
  {
   "cell_type": "markdown",
   "id": "d240cd40",
   "metadata": {},
   "source": [
    "Füllen Sie folgende Felder aus:\n",
    "\n",
    "Name:           Sascha Angermann\n",
    "\n",
    "Matrikelnummer: 102205656"
   ]
  },
  {
   "cell_type": "code",
   "execution_count": 326,
   "id": "62483caa",
   "metadata": {},
   "outputs": [],
   "source": [
    "import os\n",
    "import math\n",
    "from time import time\n",
    "# os.system('cmd command');\n",
    "import numpy as np\n",
    "import matplotlib.image  as mpimg\n",
    "import matplotlib.pyplot as plt"
   ]
  },
  {
   "cell_type": "markdown",
   "id": "2dacd60b",
   "metadata": {},
   "source": [
    "### Augabe 1 (1 Punkt)\n",
    "Gegeben ist eine Liste mit Werten. Berechnen Sie den Mittelwert und den minmal- und maximal-Wert der in der Liste vorkommt. Geben Sie die Werte jeweils mit der print()-Funktion aus."
   ]
  },
  {
   "cell_type": "code",
   "execution_count": 327,
   "id": "a1aded7e",
   "metadata": {},
   "outputs": [],
   "source": [
    "werte = [2.3, 4.7, 8.1, 1.1, 5.9, 9.5, 4.6, 2.8, 1.3]"
   ]
  },
  {
   "cell_type": "code",
   "execution_count": 328,
   "id": "ad67d87e",
   "metadata": {},
   "outputs": [
    {
     "name": "stdout",
     "output_type": "stream",
     "text": [
      "Mittelwert: 4.477777777777778\n"
     ]
    }
   ],
   "source": [
    "# Ihr code hier\n",
    "\n",
    "print(f'Mittelwert: {sum(werte) / len(werte)}')\n",
    "\n",
    "minimum = min(werte)\n",
    "maximum = max(werte)"
   ]
  },
  {
   "cell_type": "code",
   "execution_count": 329,
   "id": "dd7f4c91",
   "metadata": {},
   "outputs": [
    {
     "name": "stdout",
     "output_type": "stream",
     "text": [
      "Minimum:  1.1  Maximum:  9.5\n"
     ]
    }
   ],
   "source": [
    "# Ihr code hier\n",
    "\n",
    "\n",
    "print(\"Minimum: \", minimum, \" Maximum: \", maximum)"
   ]
  },
  {
   "cell_type": "markdown",
   "id": "96cb5dc1",
   "metadata": {},
   "source": [
    "Erreichte Punkte:  ___ / 1"
   ]
  },
  {
   "cell_type": "markdown",
   "id": "18c3f573",
   "metadata": {},
   "source": [
    "### Aufgabe 2 (1 Punkte)\n",
    "Berechnen Sie die Zinsen für ein Jahr für einen gegebenen Betrag. Fragen Sie den Zinssatz in % zur Laufzeit des Programms interaktiv ab.\n",
    "Tipp: Benuzen Sie für die Eingabe die input()-Funktion, beachten Sie das die input-Funktion eine str-typ zurückliefert.\n",
    "Geben Sie anschließend den Jahreszins mittels print() aus."
   ]
  },
  {
   "cell_type": "code",
   "execution_count": 330,
   "id": "ec990491",
   "metadata": {},
   "outputs": [
    {
     "name": "stdout",
     "output_type": "stream",
     "text": [
      "Zinsen für ein Jahr: 31.420499999999997\n"
     ]
    }
   ],
   "source": [
    "betrag     = 1047.35\n",
    "\n",
    "zinssatz = float(input('Zinssatz für 1 Jahr eingeben (Aufgabe 2):'))\n",
    "\n",
    "zinsen = zinssatz * betrag\n",
    "\n",
    "print('Zinsen für ein Jahr:', zinsen)\n"
   ]
  },
  {
   "cell_type": "markdown",
   "id": "4f737065",
   "metadata": {},
   "source": [
    "Erreichte Punkte:  ___ / 1"
   ]
  },
  {
   "cell_type": "markdown",
   "id": "960d6f6d",
   "metadata": {},
   "source": [
    "### Aufgabe 3 (2 Punkte)\n",
    "Ermitteln Sie alle Primzahlen bis zu einem gegebenen Wert mit dem Sieb des Eratostenes (Hinweise auf das Verfahren finden Sich im Internet oder in Mathematikbüchern).\n",
    "Schreiben Sie alle ermittelten Primzahlen in eine Liste. Ermitteln Sie die Anzahl der Elemente in der Liste und geben Sie diese ebenfalls aus.\n",
    "\n",
    "##### Idee des Verfahrens\n",
    "\n",
    "Die Idee des Verfahrens ist es, die Liste auf die Primzahlen zu reduzieren. Die zusammengesetzten Zahlen fallen durch das Sieb und die Primzahlen bleiben zurück. Zusammengesetzte Zahlen bedeuten in diesem Zusammenhang, dass sich diese Zahlen in Primfaktoren zerlegen lassen.\n",
    "\n",
    "Bislang gibt es keine Formel, mit der alle existierenden Primzahlen berechnet werden können. Das \"Sieb des Eratosthenes\" bietet zumindest die Möglichkeit, alle Primzahlen einer endlichen Liste systematisch zu bestimmen.\n",
    "Vertiefende Aufgabe\n",
    "\n",
    "Beim Ermitteln der Primzahlen nach dem Sieb des Eratosthenes lässt sich folgendes feststellen: Die Verfahrensschritte müssen in einer Liste {2,…,n} nur für alle Primzahlen p mit p ≤ n angewendet werden. Denn die Vielfachen von Primzahlen q mit q > n sind bereits durchgestrichen. "
   ]
  },
  {
   "cell_type": "code",
   "execution_count": 331,
   "id": "72f57301",
   "metadata": {},
   "outputs": [
    {
     "name": "stdout",
     "output_type": "stream",
     "text": [
      "Anzahl der Primzahlen bis  1000000 :  78498\n",
      "computetime:  0.20846939086914062 Sekunden\n"
     ]
    }
   ],
   "source": [
    "limit  = 1000000\n",
    "primes = []\n",
    "\n",
    "start = time()\n",
    "\n",
    "possible_primes = [False] * (limit + 1)\n",
    "\n",
    "for i in range(2, int(math.sqrt(limit)) + 1):\n",
    "    if not possible_primes[i]:\n",
    "        for j in range(i ** 2, limit + 1, i):\n",
    "            possible_primes[j] = True\n",
    "\n",
    "primes = [i for i in range(2, limit + 1) if not possible_primes[i]]\n",
    "\n",
    "end = time()\n",
    "\n",
    "print(\"Anzahl der Primzahlen bis \", limit, \": \", len(primes))\n",
    "print(\"computetime: \", end-start, \"Sekunden\")\n"
   ]
  },
  {
   "cell_type": "markdown",
   "id": "cdcb2a3c",
   "metadata": {},
   "source": [
    "Erreichte Punkte:  ___ / 2"
   ]
  },
  {
   "cell_type": "markdown",
   "id": "4a639a3f",
   "metadata": {},
   "source": [
    "### Aufgabe 4 (2 Punkte)\n",
    "Führen Sie eine Primfaktorzerlegung der gegebenen Zahlen durch. Nutzen Sie hierzu die zuvor generierte Liste an Primzahlen. Geben Sie die Untersuchte Zahl und Ihre Primfaktoren aus (es reicht wenn Sie die uniquen Primfaktoren angeben, unabh. wie oft diese auftreten)"
   ]
  },
  {
   "cell_type": "code",
   "execution_count": 332,
   "id": "566a0253",
   "metadata": {},
   "outputs": [
    {
     "name": "stdout",
     "output_type": "stream",
     "text": [
      "Untersuchte Zahl: 389\n",
      "Unique Primfaktor(en): {389} \n",
      "\n",
      "Untersuchte Zahl: 561\n",
      "Unique Primfaktor(en): {11, 17, 3} \n",
      "\n",
      "Untersuchte Zahl: 997\n",
      "Unique Primfaktor(en): {997} \n",
      "\n",
      "Untersuchte Zahl: 27001\n",
      "Unique Primfaktor(en): {67, 13, 31} \n",
      "\n",
      "Untersuchte Zahl: 10000\n",
      "Unique Primfaktor(en): {2, 5} \n",
      "\n",
      "Untersuchte Zahl: 100010\n",
      "Unique Primfaktor(en): {73, 2, 137, 5} \n",
      "\n"
     ]
    }
   ],
   "source": [
    "numbers = [389, 561, 997, 27001, 10000, 100010]\n",
    "\n",
    "def zerlege_primfaktoren(numbers):\n",
    "\n",
    "    for n in numbers:\n",
    "\n",
    "        print('Untersuchte Zahl:', n)\n",
    "\n",
    "        faktoren = set()\n",
    "\n",
    "        while n % 2 == 0:\n",
    "            faktoren.add(2)\n",
    "            n //= 2\n",
    "        \n",
    "        faktor = 3\n",
    "        while faktor ** 2 <= n:\n",
    "            while n % faktor == 0:\n",
    "                faktoren.add(faktor)\n",
    "                n //= faktor\n",
    "            faktor += 2\n",
    "        \n",
    "        if n > 2:\n",
    "            faktoren.add(n)\n",
    "\n",
    "        print('Unique Primfaktor(en):', faktoren, '\\n')\n",
    "\n",
    "zerlege_primfaktoren(numbers)\n"
   ]
  },
  {
   "cell_type": "markdown",
   "id": "bd05b393",
   "metadata": {},
   "source": [
    "________________________________\n",
    "Erreichte Punkte:  ___ / 2"
   ]
  },
  {
   "cell_type": "markdown",
   "id": "4a25e363",
   "metadata": {},
   "source": [
    "### Aufgabe 5 (2 Punkte)\n",
    "##### Caesar-Verschluesselung \n",
    "\n",
    "Implementieren Sie die Caesar Verschlüsselung. Erstellen Sie hierzu zwei Funktionen\n",
    "\n",
    "def encrypt(key, text)\n",
    "\n",
    "und\n",
    "\n",
    "def decrypt(key, cipher)\n",
    "\n",
    "Testen sie für die Keys mit den Werten \n",
    "\n",
    "    k = 3\n",
    "    k = 18\n",
    "    k = 33\n",
    "\n",
    "Verschluesseln und Sie den foglenden Text: \n",
    "\n",
    "    \"In den Iden des Maerz kommt die Morgendaemmerung in Andalusien! Am Strand wir es dann besonders Kalt, wenn die Horden anlanden.\"\n",
    "\n",
    "Entschlüsseln Sie den erhaltenen cpphertext mit dem jeweiligen Schlüssel wieder.\n",
    "\n",
    "Beschränken Sie die Zeichen die Sie verschlüsseln auf die 26 Buchstaben des Alphabets, wie im ASCII Code festgelegt. Leer und Satzzeichen werden nicht verschlüsselt.\n",
    "\n",
    "Hilfreiches:\n",
    "https://gc.de/gc/caesar/\n",
    "https://www.informatik-verstehen.de/lexikon/caesar-verschluesselung/\n",
    "https://www.ascii-code.com/de\n",
    "\n",
    "Hinweis: Verwenden Sie jeweils die Funktionen\n",
    "- caesarencode für das verschlüsseln\n",
    "- caasardecode frü das entschlüsseln\n",
    "\n",
    "Was passiert wenn der Wert für k = 26 ist?"
   ]
  },
  {
   "cell_type": "code",
   "execution_count": 333,
   "id": "9553278e",
   "metadata": {},
   "outputs": [],
   "source": [
    "LOWER_ASCII_LIMIT = 97\n",
    "HIGHER_ASCII_LIMIT = 122\n",
    "ALPHABET_SIZE = HIGHER_ASCII_LIMIT - LOWER_ASCII_LIMIT + 1\n",
    "\n",
    "def caesarencode(text: str, key: int):\n",
    "\n",
    "    text = text.lower()\n",
    "    cipher = ''\n",
    "\n",
    "    for char in text:\n",
    "        ascii = ord(char)\n",
    "\n",
    "        if (LOWER_ASCII_LIMIT <= ascii <= HIGHER_ASCII_LIMIT):\n",
    "            char = chr((ascii + key - LOWER_ASCII_LIMIT) % ALPHABET_SIZE + LOWER_ASCII_LIMIT)\n",
    "        \n",
    "        cipher += char\n",
    "        \n",
    "    return cipher\n",
    "        \n",
    "def caesardecode(chipher, key):   \n",
    "    chipher = chipher.lower()\n",
    "    text = ''\n",
    "\n",
    "    for char in chipher:\n",
    "        ascii = ord(char)\n",
    "\n",
    "        if (LOWER_ASCII_LIMIT <= ascii <= HIGHER_ASCII_LIMIT):\n",
    "            char = chr((ascii - key - LOWER_ASCII_LIMIT) % ALPHABET_SIZE + LOWER_ASCII_LIMIT)\n",
    "        \n",
    "        text += char\n",
    "        \n",
    "    return text\n",
    "    \n"
   ]
  },
  {
   "cell_type": "code",
   "execution_count": 334,
   "id": "fd9c461f",
   "metadata": {},
   "outputs": [
    {
     "name": "stdout",
     "output_type": "stream",
     "text": [
      "\n",
      "Key:  3 \n",
      "\n",
      "plain text: \n",
      " In den Iden des Maerz kommt die Morgendaemmerung in Andalusien! Am Strand wir es dann besonders Kalt, wenn die Horden anlanden. \n",
      "\n",
      "encoded: \n",
      " lq ghq lghq ghv pdhuc nrppw glh prujhqgdhpphuxqj lq dqgdoxvlhq! dp vwudqg zlu hv gdqq ehvrqghuv ndow, zhqq glh krughq dqodqghq. \n",
      "\n",
      "plain text: \n",
      " in den iden des maerz kommt die morgendaemmerung in andalusien! am strand wir es dann besonders kalt, wenn die horden anlanden. \n",
      "\n",
      "\n",
      "Key:  18 \n",
      "\n",
      "plain text: \n",
      " In den Iden des Maerz kommt die Morgendaemmerung in Andalusien! Am Strand wir es dann besonders Kalt, wenn die Horden anlanden. \n",
      "\n",
      "encoded: \n",
      " af vwf avwf vwk eswjr cgeel vaw egjywfvsweewjmfy af sfvsdmkawf! se kljsfv oaj wk vsff twkgfvwjk csdl, owff vaw zgjvwf sfdsfvwf. \n",
      "\n",
      "plain text: \n",
      " in den iden des maerz kommt die morgendaemmerung in andalusien! am strand wir es dann besonders kalt, wenn die horden anlanden. \n",
      "\n",
      "\n",
      "Key:  33 \n",
      "\n",
      "plain text: \n",
      " In den Iden des Maerz kommt die Morgendaemmerung in Andalusien! Am Strand wir es dann besonders Kalt, wenn die Horden anlanden. \n",
      "\n",
      "encoded: \n",
      " pu klu pklu klz thlyg rvtta kpl tvynlukhlttlybun pu hukhsbzplu! ht zayhuk dpy lz khuu ilzvuklyz rhsa, dluu kpl ovyklu hushuklu. \n",
      "\n",
      "plain text: \n",
      " in den iden des maerz kommt die morgendaemmerung in andalusien! am strand wir es dann besonders kalt, wenn die horden anlanden. \n",
      "\n"
     ]
    }
   ],
   "source": [
    "keys = [3, 18, 33]\n",
    "text = \"In den Iden des Maerz kommt die Morgendaemmerung in Andalusien! Am Strand wir es dann besonders Kalt, wenn die Horden anlanden.\"\n",
    "\n",
    "for key in keys:\n",
    "    print(\"\\nKey: \", key, \"\\n\")\n",
    "    print(\"plain text: \\n\", text, \"\\n\")\n",
    "\n",
    "    cipher = caesarencode(text, key)\n",
    "    print(\"encoded: \\n\", cipher, \"\\n\")\n",
    "\n",
    "    plaintext = caesardecode(cipher, key)\n",
    "\n",
    "    print(\"plain text: \\n\", plaintext, \"\\n\")\n",
    "    \n",
    "    "
   ]
  },
  {
   "cell_type": "markdown",
   "id": "e535acf4",
   "metadata": {},
   "source": [
    "Erreichte Punkte:  ___ / 2"
   ]
  },
  {
   "cell_type": "markdown",
   "id": "8ea10f71",
   "metadata": {},
   "source": [
    "### Aufgabe 6 (2 Punkte)\n",
    "##### Gaussverteilung\n",
    "Die Gaussche Normaverteilung ist durch die Gaussche Dichtefunktion definiert. Die Standard-Normalverteilung lässt sich hierbei mit folgender Formal berechnen:\n",
    "\n",
    "$$f(x)=\\frac{1}{\\sigma \\cdot \\sqrt{2 \\pi}} \\cdot e^{-\\frac{1}{2} \\cdot\\left(\\frac{x-\\mu}{\\sigma}\\right)^{2}}$$\n",
    "\n",
    "wobei folgende Parameter vorgegeben sind:\n",
    "\n",
    "$$\\mu$$\n",
    "\n",
    "                                            mu = 140\n",
    "\n",
    "$$\\sigma$$\n",
    "\n",
    "                                            sig = 60\n",
    "\n",
    "Anzahl der  zu berechnenden Punkte:\n",
    "\n",
    "                                               q = 256\n",
    "\n",
    "Definieren Sie zunächst eine Funktion gauss, die die Parameter mu, sigma und q entgegen nimmt. Erstellen sie anschliesend ein NumPy array von 0 bis 256 mit einer Schrittweite von 1.\n",
    "Berechnen Sie dann die Noralverteilung über dieses Array. Abschließend normalisieren Sie das Array und erstellen einen Plot."
   ]
  },
  {
   "cell_type": "markdown",
   "id": "6fc90559",
   "metadata": {},
   "source": [
    "Referenz: so sollte die Ausgabe aussehen:\n",
    "<img style=\"width:80%;\" id=\"image\" src=\"Gauss.png\">\n"
   ]
  },
  {
   "cell_type": "code",
   "execution_count": 335,
   "id": "23d9ea7d",
   "metadata": {},
   "outputs": [],
   "source": [
    "#-----------------------------------\n",
    "# Gaußverteilung berechnen\n",
    "#-----------------------------------\n",
    "def gauss(mu, sigma, q):\n",
    "    \n",
    "    h = []\n",
    "\n",
    "    for x in range(q):\n",
    "        h.append(1 / (sigma * math.sqrt(2 * math.pi)) * math.e ** (- 1 / 2 * ((x - mu) / sigma) ** 2))\n",
    "    \n",
    "    return h"
   ]
  },
  {
   "cell_type": "code",
   "execution_count": 336,
   "id": "696b85c9",
   "metadata": {},
   "outputs": [
    {
     "data": {
      "image/png": "[encoded data removed]",
      "text/plain": [
       "<Figure size 640x480 with 1 Axes>"
      ]
     },
     "metadata": {},
     "output_type": "display_data"
    }
   ],
   "source": [
    "m = 140\n",
    "s = 60\n",
    "q = 256\n",
    "\n",
    "#-----------------------------------\n",
    "# Referenz-Histogramm ermitteln\n",
    "#-----------------------------------\n",
    "hr = gauss(m,s,q)\n",
    "\n",
    "plt.plot(hr)\n",
    "plt.xlabel('Intensität')\n",
    "plt.ylabel('rel. Häufigkeit')\n",
    "plt.title('Referenz-Histogramm')\n",
    "plt.grid('on')\n",
    "plt.show()"
   ]
  },
  {
   "cell_type": "markdown",
   "id": "ffc5dee1",
   "metadata": {},
   "source": [
    "**Gesamtpunktzahl:  ___ / 10**"
   ]
  },
  {
   "cell_type": "code",
   "execution_count": null,
   "id": "21a0d8c4",
   "metadata": {},
   "outputs": [],
   "source": []
  }
 ],
 "metadata": {
  "kernelspec": {
   "display_name": "01_saschaangermann",
   "language": "python",
   "name": "python3"
  },
  "language_info": {
   "codemirror_mode": {
    "name": "ipython",
    "version": 3
   },
   "file_extension": ".py",
   "mimetype": "text/x-python",
   "name": "python",
   "nbconvert_exporter": "python",
   "pygments_lexer": "ipython3",
   "version": "3.12.7"
  }
 },
 "nbformat": 4,
 "nbformat_minor": 5
}
