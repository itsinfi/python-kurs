{
 "cells": [
  {
   "cell_type": "markdown",
   "id": "6c692cc9",
   "metadata": {},
   "source": [
    "# Einfuerhung in ausgewaehlte Module"
   ]
  },
  {
   "cell_type": "markdown",
   "id": "6e152eeb",
   "metadata": {},
   "source": [
    "### Einführung in Matplotlib"
   ]
  },
  {
   "cell_type": "code",
   "execution_count": null,
   "id": "a648aa63",
   "metadata": {},
   "outputs": [],
   "source": [
    "%matplotlib inline\n",
    "\n",
    "import matplotlib.pyplot as plt"
   ]
  },
  {
   "cell_type": "code",
   "execution_count": null,
   "id": "9747e004",
   "metadata": {},
   "outputs": [],
   "source": [
    "# a very simple graph\n",
    "\n",
    "x = [1, 2, 3, 4, 5, 6, 7, 8]\n",
    "y = [2, 4, 5, 3, 4, 5, 7, 2]\n",
    "\n",
    "plt.plot(x, y)\n",
    "plt.show()"
   ]
  },
  {
   "cell_type": "code",
   "execution_count": null,
   "id": "431884a2",
   "metadata": {},
   "outputs": [],
   "source": [
    "# Create the figure object\n",
    "fig, ax = plt.subplots()\n",
    "\n",
    "# set resolution density\n",
    "fig.dpi = 100\n",
    "\n",
    "# Data\n",
    "x = [1, 2, 3, 4, 5, 6, 7, 8]\n",
    "y = [2, 4, 5, 3, 4, 5, 7, 2]\n",
    "y2 = [4, 10, 7, 10, 4, 6, 10, 4]\n",
    "\n",
    "# add Legend\n",
    "ax.plot(x, y, label=\"Neukunden\")\n",
    "ax.plot(x, y2, label=\"Interessenten\")\n",
    "ax.legend()\n",
    "\n",
    "# define ranges\n",
    "ax.set_ylim([0, 11])\n",
    "ax.set_xlim([1, 8])\n",
    "\n",
    "# Beschriftung\n",
    "ax.set_title(\"Performance im Laufe der Zeit\")\n",
    "ax.set_xlabel(\"Datum\")\n",
    "ax.set_ylabel(\"Anzahl\")\n",
    "\n",
    "plt.show()"
   ]
  },
  {
   "cell_type": "code",
   "execution_count": null,
   "id": "f377c80f",
   "metadata": {},
   "outputs": [],
   "source": [
    "# Save the Figure\n",
    "fig.savefig(\"Grafik als Bild speichern.png\", transparent = True)"
   ]
  },
  {
   "cell_type": "code",
   "execution_count": null,
   "id": "22253ecb",
   "metadata": {},
   "outputs": [],
   "source": []
  },
  {
   "cell_type": "markdown",
   "id": "24310a98",
   "metadata": {},
   "source": [
    "### Einfuerung in Pandas"
   ]
  },
  {
   "cell_type": "code",
   "execution_count": null,
   "id": "0894a713",
   "metadata": {},
   "outputs": [],
   "source": [
    "import pandas as pd"
   ]
  },
  {
   "cell_type": "code",
   "execution_count": null,
   "id": "4f07086c",
   "metadata": {
    "scrolled": true
   },
   "outputs": [],
   "source": [
    "df = pd.read_csv(\"./projectdata/meteorite-landings.csv\")\n",
    "df.head()"
   ]
  },
  {
   "cell_type": "code",
   "execution_count": null,
   "id": "298527a3",
   "metadata": {},
   "outputs": [],
   "source": [
    "df.describe()"
   ]
  },
  {
   "cell_type": "code",
   "execution_count": null,
   "id": "19247f78",
   "metadata": {},
   "outputs": [],
   "source": [
    "df[df[\"year\"] == 1970].head()"
   ]
  },
  {
   "cell_type": "code",
   "execution_count": null,
   "id": "3efe94d7",
   "metadata": {},
   "outputs": [],
   "source": [
    "x = []\n",
    "y = []\n",
    "\n",
    "for i in range(1970, 2015):\n",
    "    x.append(i)\n",
    "    count = len(df[df[\"year\"] == i])\n",
    "    y.append(count)\n",
    "\n",
    "print(x)\n",
    "print(y)"
   ]
  },
  {
   "cell_type": "code",
   "execution_count": null,
   "id": "8bdac964",
   "metadata": {},
   "outputs": [],
   "source": [
    "%matplotlib inline\n",
    "\n",
    "import matplotlib.pyplot as plt\n",
    "import seaborn as sns\n",
    "\n",
    "fig, ax = plt.subplots()\n",
    "ax.plot(x,y)\n",
    "\n",
    "plt.show()\n"
   ]
  },
  {
   "cell_type": "code",
   "execution_count": null,
   "id": "42aa584e",
   "metadata": {},
   "outputs": [],
   "source": [
    "# Laden der Daten von einer Webseite\n",
    "df_premier21 = pd.read_csv('https://www.football-data.co.uk/mmz4281/2122/E0.csv')"
   ]
  },
  {
   "cell_type": "code",
   "execution_count": null,
   "id": "d7790181",
   "metadata": {},
   "outputs": [],
   "source": [
    "# showing dataframe\n",
    "df_premier21"
   ]
  },
  {
   "cell_type": "code",
   "execution_count": null,
   "id": "2becd134",
   "metadata": {},
   "outputs": [],
   "source": [
    "# rename columns\n",
    "df_premier21 = df_premier21.rename(columns={'Date':'date',\n",
    "                                            'HomeTeam':'home_team',\n",
    "                                            'AwayTeam':'away_team',\n",
    "                                            'FTHG': 'home_goals',\n",
    "                                            'FTAG': 'away_goals'})\n"
   ]
  },
  {
   "cell_type": "code",
   "execution_count": null,
   "id": "48e94c30",
   "metadata": {},
   "outputs": [],
   "source": [
    "# show dataframe\n",
    "df_premier21"
   ]
  },
  {
   "cell_type": "code",
   "execution_count": null,
   "id": "12a6f43c",
   "metadata": {},
   "outputs": [],
   "source": [
    "# HTML lesen - Target Website: https://en.wikipedia.org/wiki/List_of_The_Simpsons_episodes_(seasons_1%E2%80%9320)\n",
    "\n",
    "simpsons = pd.read_html('https://en.wikipedia.org/wiki/List_of_The_Simpsons_episodes_(seasons_1%E2%80%9320)')\n",
    "\n",
    "simpsons[1].head()\n",
    "\n"
   ]
  },
  {
   "cell_type": "code",
   "execution_count": null,
   "id": "b95b4044",
   "metadata": {},
   "outputs": [],
   "source": []
  },
  {
   "cell_type": "code",
   "execution_count": null,
   "id": "96343f97",
   "metadata": {},
   "outputs": [],
   "source": []
  },
  {
   "cell_type": "markdown",
   "id": "efd4cd1f",
   "metadata": {},
   "source": [
    "### Einführung in SKlearn\n",
    "\n",
    "Quote:\n",
    "##### Scikit-learn toy datasets\n",
    "The Scikit-learn toy dataset module is embedded in the Scikit-learn package. Such datasets\n",
    "can easily be directly loaded into Python by the import command, and they don't require\n",
    "any download from any external Internet repository. Some examples of this type of dataset\n",
    "are the Iris, Boston, and Digits datasets, to name the principal ones mentioned in\n",
    "uncountable publications and books, and a few other classic ones for classification and\n",
    "regression.\n",
    "Structured in a dictionary-like object, besides the features and target variables, they offer\n",
    "complete descriptions and contextualization of the data itself\n",
    "\n",
    "    Python DataScience Essentials, 2nd edt.(c) 2016\n",
    "    PACKT\n",
    "    Alberto Boschetti, Luca Massaron\n",
    "    ISBN 978-1-78646-213-8\n"
   ]
  },
  {
   "cell_type": "code",
   "execution_count": null,
   "id": "4a005a57",
   "metadata": {},
   "outputs": [],
   "source": [
    "from sklearn import datasets\n",
    "iris = datasets.load_iris()"
   ]
  },
  {
   "cell_type": "code",
   "execution_count": null,
   "id": "001a7b85",
   "metadata": {},
   "outputs": [],
   "source": [
    "print (iris.DESCR)\n",
    "print (iris.data)\n",
    "print (iris.data.shape)\n",
    "print (iris.feature_names)\n",
    "print (iris.target)\n",
    "print (iris.target.shape)\n",
    "print (iris.target_names)"
   ]
  },
  {
   "cell_type": "code",
   "execution_count": null,
   "id": "53150530",
   "metadata": {},
   "outputs": [],
   "source": [
    "print (type(iris.data))"
   ]
  },
  {
   "cell_type": "code",
   "execution_count": null,
   "id": "4e18c0bd",
   "metadata": {},
   "outputs": [],
   "source": [
    "from matplotlib import pyplot as plt\n",
    "%matplotlib inline\n",
    "\n",
    "data=iris.data\n",
    "plt.plot(data[:,0],data[:,1],\".\")\n",
    "plt.show()"
   ]
  },
  {
   "cell_type": "code",
   "execution_count": null,
   "id": "276abee8",
   "metadata": {},
   "outputs": [],
   "source": [
    "import pandas as pd\n",
    "import numpy as np\n",
    "colors = list()\n",
    "palette = {0: \"red\", 1: \"green\", 2: \"blue\"}"
   ]
  },
  {
   "cell_type": "code",
   "execution_count": null,
   "id": "5da91fcf",
   "metadata": {},
   "outputs": [],
   "source": [
    "for c in np.nditer(iris.target): colors.append(palette[int(c)])\n",
    "# using the palette dictionary, we convert\n",
    "# each numeric class into a color string\n",
    "dataframe = pd.DataFrame(iris.data, columns=iris.feature_names)"
   ]
  },
  {
   "cell_type": "code",
   "execution_count": null,
   "id": "dc139c7e",
   "metadata": {},
   "outputs": [],
   "source": [
    "sc = pd.plotting.scatter_matrix(dataframe, alpha=0.3, figsize=(10, 10),\n",
    "diagonal='hist', color=colors, marker='o', grid=True)"
   ]
  },
  {
   "cell_type": "code",
   "execution_count": null,
   "id": "a2ff810e",
   "metadata": {},
   "outputs": [],
   "source": []
  }
 ],
 "metadata": {
  "kernelspec": {
   "display_name": "Python 3 (ipykernel)",
   "language": "python",
   "name": "python3"
  },
  "language_info": {
   "codemirror_mode": {
    "name": "ipython",
    "version": 3
   },
   "file_extension": ".py",
   "mimetype": "text/x-python",
   "name": "python",
   "nbconvert_exporter": "python",
   "pygments_lexer": "ipython3",
   "version": "3.11.10"
  }
 },
 "nbformat": 4,
 "nbformat_minor": 5
}
