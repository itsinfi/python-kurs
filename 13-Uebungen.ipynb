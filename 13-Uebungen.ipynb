{
 "cells": [
  {
   "cell_type": "markdown",
   "id": "a91bb713",
   "metadata": {},
   "source": [
    "<!--  Header einfügen -->\n",
    "<img style=\"width:80%;\" id=\"image\" src=\"Bilder/iu.jpg\">"
   ]
  },
  {
   "cell_type": "markdown",
   "id": "dc69ca52",
   "metadata": {},
   "source": [
    "# Einfuerung in Python - IU - WS 2024/25\n",
    "<img style=\"width:40%;\" id=\"image\" src=\"Bilder/python.png\">\n",
    "\n",
    "                                                               andreas.huemmer.ext@iu.org\n",
    "\n",
    "Version 0.92"
   ]
  },
  {
   "cell_type": "markdown",
   "id": "751ca669",
   "metadata": {},
   "source": [
    "# Übungen 04"
   ]
  },
  {
   "cell_type": "markdown",
   "id": "50d0ff5e",
   "metadata": {},
   "source": [
    "#### Gemeinsame Übung - Algorithmische Performance"
   ]
  },
  {
   "cell_type": "markdown",
   "id": "cf75663f-8a7f-442d-8adc-7f5d8d94d635",
   "metadata": {},
   "source": [
    "Wir schauen uns die Berechnung von Primzahlen mal genauer an und beleuchten hierbei verschiedene Algorithmen. Hierbei versuchen wir ein V erständnis zu Entwickeln wie sich die Algorithmen verhalten."
   ]
  },
  {
   "cell_type": "code",
   "execution_count": null,
   "id": "8bc1d973-bc09-4124-93b4-8c1a89f5001e",
   "metadata": {},
   "outputs": [],
   "source": [
    "from timeit import Timer\n",
    "import time\n",
    "import numpy as np\n",
    "import math\n",
    "import random\n"
   ]
  },
  {
   "cell_type": "markdown",
   "id": "a3655f67-39f1-4554-bc4a-5fcf8d896788",
   "metadata": {},
   "source": [
    "Sieb des Eratostenes v1"
   ]
  },
  {
   "cell_type": "code",
   "execution_count": null,
   "id": "2b2c2332-b336-46bf-b471-6abd77770877",
   "metadata": {},
   "outputs": [],
   "source": [
    "def is_prime_v1(n):\n",
    "    global m\n",
    "    if n == 1: return False\n",
    "    if n == 2: return True\n",
    "    for d in range(2, n):\n",
    "        m += 1 \n",
    "        if n % d == 0: return False\n",
    "    return True"
   ]
  },
  {
   "cell_type": "raw",
   "id": "0b5e4d99-9c69-4447-8506-0b0b5529e893",
   "metadata": {},
   "source": [
    "Sieb des Eratostenes verfeinert v2"
   ]
  },
  {
   "cell_type": "code",
   "execution_count": null,
   "id": "490b4a2b-8484-4e8b-8dfc-fad8a2bf7987",
   "metadata": {},
   "outputs": [],
   "source": [
    "def is_prime_v2(n):\n",
    "    global m\n",
    "    if n == 1: return False\n",
    "    if n == 2: return True\n",
    "    if ( ( n > 2 ) and (n % 2 == 0) ): return False    \n",
    "    for d in range(3, n, 2):\n",
    "        m += 1 \n",
    "        if n % d == 0: return False\n",
    "    return True"
   ]
  },
  {
   "cell_type": "markdown",
   "id": "c8b39c0f-c313-48bb-ba4e-7e98dbed33cd",
   "metadata": {},
   "source": [
    "Sie des Eratostenes noch besser v3"
   ]
  },
  {
   "cell_type": "code",
   "execution_count": null,
   "id": "0682671d-566a-4bf8-89b2-a23684250681",
   "metadata": {},
   "outputs": [],
   "source": [
    "def is_prime_v3(n):\n",
    "    global m\n",
    "    if n == 1: return False\n",
    "    if n == 2: return True\n",
    "    if ( ( n > 2 ) and (n % 2 == 0) ): return False    \n",
    "    maxdiv = math.floor(math.sqrt(n)) + 1\n",
    "    for d in range(3, maxdiv, 2):\n",
    "        m += 1 \n",
    "        if n % d == 0: return False\n",
    "    return True"
   ]
  },
  {
   "cell_type": "markdown",
   "id": "1d937edf-56df-4812-8ca3-20052c460335",
   "metadata": {},
   "source": [
    "Miller Rabin Test (Probabilistischer Primzahlentest)\n",
    "\n",
    "Implementation uses the Miller-Rabin Primality Test\n",
    "    The optimal number of rounds for this test is 40\n",
    "    See http://stackoverflow.com/questions/6325576/how-many-iterations-of-rabin-miller-should-i-use-for-cryptographic-safe-primes\n",
    "    for justification\"\"\"\n",
    "\n"
   ]
  },
  {
   "cell_type": "code",
   "execution_count": null,
   "id": "d1770638-b58b-45f9-9ab6-02f1e16ef1eb",
   "metadata": {},
   "outputs": [],
   "source": [
    "def is_prime_mr(n, k=40):\n",
    "    # If number is even, it's a composite number\n",
    "    if n == 2 or n == 3:\n",
    "        return True\n",
    "    if n % 2 == 0:\n",
    "        return False\n",
    "\n",
    "    r, s = 0, n - 1\n",
    "    while s % 2 == 0:\n",
    "        r += 1\n",
    "        s //= 2\n",
    "    for _ in range(k):\n",
    "        a = random.randrange(2, n - 1)\n",
    "        x = pow(a, s, n)\n",
    "        if x == 1 or x == n - 1:\n",
    "            continue\n",
    "        for _ in range(r - 1):\n",
    "            x = pow(x, 2, n)\n",
    "            if x == n - 1:\n",
    "                break\n",
    "        else:\n",
    "            return False\n",
    "    return True"
   ]
  },
  {
   "cell_type": "markdown",
   "id": "e6b3a7a3-48ef-43d4-8e8c-51b4c21ed04c",
   "metadata": {},
   "source": [
    "Hilfsfunktionen für die Untersuchung"
   ]
  },
  {
   "cell_type": "code",
   "execution_count": null,
   "id": "36297903-d0c7-4586-bf01-c78abf30a3b4",
   "metadata": {},
   "outputs": [],
   "source": [
    "def zeitmessung(func, n, prt=False):\n",
    "    s = 0\n",
    "    for i in range(1, n+1):\n",
    "        if (prt and func(i)): \n",
    "            # print(i, end=\" \")\n",
    "            s += 1\n",
    "    if prt: print(\"\\n\", s, \"Primes found in \\t\",m ,\" iterations\\n\")"
   ]
  },
  {
   "cell_type": "markdown",
   "id": "f11809df-7460-48ae-b2c8-0f2704518e52",
   "metadata": {},
   "source": [
    "Kets get into it..."
   ]
  },
  {
   "cell_type": "code",
   "execution_count": null,
   "id": "ac7adb89-0543-4213-9950-bc03fd32b502",
   "metadata": {},
   "outputs": [],
   "source": [
    "    n = 10_000\n",
    "    \n",
    "    print(\"------------------------------------------------\")\n",
    "    print(\"Python performance examples on computing the\")\n",
    "    print(\"prime numbers from 1 to \", n)\n",
    "    print(\"------------------------------------------------\")\n",
    "\n",
    "    printit = True \n",
    "    \n",
    "    m = 0\n",
    "    t = Timer(lambda: zeitmessung(is_prime_v1, n, printit))\n",
    "    print(\"\\t sieve v1   \\t\\t {:10.7f}\".format(t.timeit(number=1)), \" Sekunden\")\n",
    "\n",
    "    m = 0\n",
    "    t = Timer(lambda: zeitmessung(is_prime_v2, n, printit))\n",
    "    print(\"\\t sieve v2   \\t\\t {:10.7f}\".format(t.timeit(number=1)), \" Sekunden\")\n",
    "    \n",
    "    m = 0\n",
    "    t = Timer(lambda: zeitmessung(is_prime_v3, n, printit))\n",
    "    print(\"\\t sieve v3   \\t\\t {:10.7f}\".format(t.timeit(number=1)), \" Sekunden\")\n",
    " \n",
    "    \n",
    "    "
   ]
  },
  {
   "cell_type": "code",
   "execution_count": null,
   "id": "e99ed8a4-b3a4-4e14-be0c-6eefd75a8113",
   "metadata": {},
   "outputs": [],
   "source": [
    "    z = 100000\n",
    "    print(\"\\nMessung A: Prüfe alle Zahlen bis z: \", z , \"\\n\")\n",
    "    \n",
    "    start = time.time()\n",
    "    for i in range(2,z):\n",
    "        is_prime_v3(i)\n",
    "    end = time.time()\n",
    "    print(\"Sieb des Eratostenes: \", end-start, \"s\")\n",
    "\n",
    "    start = time.time()\n",
    "    for i in range(2,z):\n",
    "        is_prime_mr(i)\n",
    "    end = time.time()\n",
    "\n",
    "    print(\"Miller Rabin:         \", end-start, \"s\") "
   ]
  },
  {
   "cell_type": "code",
   "execution_count": null,
   "id": "d5934938-2fb0-47af-9a6d-efec77c40d23",
   "metadata": {},
   "outputs": [],
   "source": [
    "    z = 2_000_000\n",
    "    print(\"\\nMessung A: Prüfe alle Zahlen bis z: \", z , \"\\n\")\n",
    "    \n",
    "    start = time.time()\n",
    "    for i in range(2,z):\n",
    "        is_prime_v3(i)\n",
    "    end = time.time()\n",
    "    print(\"Sieb des Eratostenes: \", end-start, \"s\")\n",
    "\n",
    "    start = time.time()\n",
    "    for i in range(2,z):\n",
    "        is_prime_mr(i)\n",
    "    end = time.time()\n",
    "\n",
    "    print(\"Miller Rabin:         \", end-start, \"s\") \n",
    "    "
   ]
  },
  {
   "cell_type": "code",
   "execution_count": null,
   "id": "5d805812-58e3-454a-a287-5031aec6f562",
   "metadata": {},
   "outputs": [],
   "source": [
    "    n = 100000000005097    \n",
    "    print(\"\\nMessung B: Prüfe folgende Zahl (ist eine Primzahl): \",n , \"\\n\")\n",
    "\n",
    "    start = time.time()\n",
    "    is_prime_v3(n)\n",
    "    end = time.time()\n",
    "    print(\"Sieb des Eratostenes: \", end-start, \"s\")\n",
    "\n",
    "    start = time.time()\n",
    "    is_prime_mr(n)\n",
    "    end = time.time()\n",
    "    print(\"Miller Rabin:         \", end-start, \"s\")\n"
   ]
  },
  {
   "cell_type": "code",
   "execution_count": null,
   "id": "05e23c49-c863-405a-8b84-d3ac20fe0d57",
   "metadata": {},
   "outputs": [],
   "source": []
  }
 ],
 "metadata": {
  "kernelspec": {
   "display_name": "Python 3 (ipykernel)",
   "language": "python",
   "name": "python3"
  },
  "language_info": {
   "codemirror_mode": {
    "name": "ipython",
    "version": 3
   },
   "file_extension": ".py",
   "mimetype": "text/x-python",
   "name": "python",
   "nbconvert_exporter": "python",
   "pygments_lexer": "ipython3",
   "version": "3.11.10"
  }
 },
 "nbformat": 4,
 "nbformat_minor": 5
}
