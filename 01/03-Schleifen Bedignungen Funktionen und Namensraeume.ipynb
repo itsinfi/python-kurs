{
 "cells": [
  {
   "cell_type": "markdown",
   "id": "a91bb713",
   "metadata": {},
   "source": [
    "<!--  Header einfügen -->\n",
    "<img style=\"width:80%;\" id=\"image\" src=\"Bilder/iu.jpg\">"
   ]
  },
  {
   "cell_type": "markdown",
   "id": "dc69ca52",
   "metadata": {},
   "source": [
    "# Einfuerung in Python - IU - WS 2024/25\n",
    "<img style=\"width:40%;\" id=\"image\" src=\"Bilder/python.png\">\n",
    "\n",
    "                                                               andreas.huemmer.ext@iu.org\n",
    "\n",
    "Version 1.0 rev a"
   ]
  },
  {
   "cell_type": "markdown",
   "id": "751ca669",
   "metadata": {},
   "source": [
    "## Kapitel 3 - Schleifen, Bedinungen, Iteratoren und Comprehensions"
   ]
  },
  {
   "cell_type": "markdown",
   "id": "de13f3d3",
   "metadata": {},
   "source": [
    "### Der range-Operator\n",
    "Der range-operator erstellt eine Liste mit Zahlen, beginnend mit dem Startwert (default = 0), welche vom Startwert an im das gegebenen Inkrement (default = 1) bis zum gegebenen Endwert (der Endwert ist nicht inkludiert)\n",
    "\n",
    "    range(start, stop, step) \n"
   ]
  },
  {
   "cell_type": "code",
   "execution_count": null,
   "id": "4920d8fe",
   "metadata": {},
   "outputs": [],
   "source": [
    "for n in range(3,6):\n",
    "    print(n, end=\" \")"
   ]
  },
  {
   "cell_type": "code",
   "execution_count": null,
   "id": "f87b2593",
   "metadata": {},
   "outputs": [],
   "source": [
    "for n in range(5):\n",
    "    print(n, end=\" \")"
   ]
  },
  {
   "cell_type": "code",
   "execution_count": null,
   "id": "7deee540",
   "metadata": {},
   "outputs": [],
   "source": [
    "for n in range(3, 20, 2):\n",
    "    print(n, end=\" \")"
   ]
  },
  {
   "cell_type": "markdown",
   "id": "e15da5c3",
   "metadata": {},
   "source": [
    "### For Schleifen\n",
    "For Schleifen iterieren über die Elemente eine gegebenen Mange. Das iterierte Element seht hierbei für Berechnungen zur Verfügung.\n",
    "\n",
    "Kennzeichned ist, das die Anzahl der Schleifendurchläufe beim Eintritt in die Schleife feststeht. (Ausnahme siehe unten)."
   ]
  },
  {
   "cell_type": "code",
   "execution_count": null,
   "id": "a17dce95",
   "metadata": {},
   "outputs": [],
   "source": [
    "# Iteration über Zahlen - siehe range-operator\n",
    "for n in range(10):\n",
    "    print(n, end=\" \")"
   ]
  },
  {
   "cell_type": "code",
   "execution_count": null,
   "id": "0c0e59bd",
   "metadata": {},
   "outputs": [],
   "source": [
    "# ...der range operator wird nicht unbedingt benötigt, wenn z.B. schon eine Liste vorliegt:\n",
    "l = [1, 2, 3, 4, 5]\n",
    "for n in l:\n",
    "    print(n, end=\" \")"
   ]
  },
  {
   "cell_type": "code",
   "execution_count": null,
   "id": "3e38cee3",
   "metadata": {},
   "outputs": [],
   "source": [
    "#...oder overengineered :) :\n",
    "for n in range(len(l)):\n",
    "    print(l[n], end=\" \")"
   ]
  },
  {
   "cell_type": "code",
   "execution_count": null,
   "id": "31d185b7",
   "metadata": {},
   "outputs": [],
   "source": [
    "# ...die Iterationsquelle muss hier nicht aus Zahlen bestehen, sondern kann alles sein, \n",
    "# dass in einem sequenziellen Datentypen untergebracht werden kann.\n",
    "Tiere = [\"Hund\", \"Katze\", \"Maus\", \"Elefant\"]\n",
    "for tier in Tiere:\n",
    "    print(tier, end=\" \")"
   ]
  },
  {
   "cell_type": "code",
   "execution_count": null,
   "id": "a0af236f",
   "metadata": {},
   "outputs": [],
   "source": [
    "# continue überspringt einen Bearbeitungsschritt (wenn das gegebene Kriterium erfüllt ist)\n",
    "for n in range(6):\n",
    "    if n == 4: continue\n",
    "    print(n, end=\" \")"
   ]
  },
  {
   "cell_type": "code",
   "execution_count": null,
   "id": "ee2c7143",
   "metadata": {},
   "outputs": [],
   "source": [
    "# break bricht den durchlauf ab (wenn das gegebene Kriterium erfüllt ist)\n",
    "for n in range(6):\n",
    "    if n == 4: break\n",
    "    print(n, end=\" \")"
   ]
  },
  {
   "cell_type": "code",
   "execution_count": null,
   "id": "9a822188",
   "metadata": {},
   "outputs": [],
   "source": [
    "# Exkurs: Sie wissen das hier beispielsweise eine Schleife benötigt wird, \n",
    "# haben aber noch keinen code, dann können Sie \"pass\" als Platzhalter (do nothing) verwednen\n",
    "# und vermeiden so Syntaxfehler\n",
    "for n in range(6):\n",
    "    pass\n",
    "    "
   ]
  },
  {
   "cell_type": "code",
   "execution_count": null,
   "id": "1a85ed98",
   "metadata": {},
   "outputs": [],
   "source": [
    "# besonders nuetzlich ist dies z.B. bei Funktionen\n",
    "def myFunction():\n",
    "    # hab noch keine Ahnung was hier passiert\n",
    "    pass\n",
    "\n",
    "print(\"bla\")\n",
    "myFunction()\n",
    "print(\"blubb\")"
   ]
  },
  {
   "cell_type": "markdown",
   "id": "555e2329",
   "metadata": {},
   "source": [
    "### While Schleifen\n",
    "While Schleifen haben keinen impliziten Schleifenzähler. Dieser muss vom Programmierer \"gestellt\" und verwaltet werden. Für gewöhlich wird der Schleifenzähler ausserhalb der Schleife initialisiert und innerhalb der Schleife modifiziert."
   ]
  },
  {
   "cell_type": "code",
   "execution_count": null,
   "id": "b7a3a357",
   "metadata": {},
   "outputs": [],
   "source": [
    "i = 1           # init\n",
    "while i < 6:\n",
    "  print(i)\n",
    "  i += 1        # modifiy"
   ]
  },
  {
   "cell_type": "markdown",
   "id": "5f0d876f",
   "metadata": {},
   "source": [
    "...die Bedingung, wann ob die Scheife durchlaufen wird wirt hierbei am Anfang der Schleife vorgegeben. Es liegt aber in der Verantwortung der Programmiers sicherzustellen, dass die Abbruchbedingnung irgendwann erfüllt wird."
   ]
  },
  {
   "cell_type": "code",
   "execution_count": null,
   "id": "2445ca55",
   "metadata": {},
   "outputs": [],
   "source": [
    "# Beispiel von eben mit i = 7 initialisiert\n",
    "i = 7\n",
    "while i > 6: # blöder fehler, größer und kleiner vertauscht\n",
    "  print(i)\n",
    "  # zwangsabbrunch um inifinite loop zu vermeiden\n",
    "  if i >= 13: break\n",
    "  i += 1 "
   ]
  },
  {
   "cell_type": "code",
   "execution_count": null,
   "id": "af324ceb",
   "metadata": {},
   "outputs": [],
   "source": [
    "# analog zu den for-Schleifen kann man auch bei while-Schleifen break (vorheriges Beispiel) \n",
    "# und continue verwenden\n",
    "i = 0\n",
    "while i < 6:\n",
    "  i += 1\n",
    "  if i == 3: continue\n",
    "  print(i)"
   ]
  },
  {
   "cell_type": "code",
   "execution_count": null,
   "id": "fe5a29ce",
   "metadata": {},
   "outputs": [],
   "source": [
    "# Soll eine Anweisung genau EINMAL ausgeführt werden, wenn die Schleifenbedinung nicht mehr \n",
    "# erfüllt wird, dan kann dies mit einem else-Zweig der while-Schleife erfolgen\n",
    "i = 1\n",
    "while i < 6:\n",
    "  print(i)\n",
    "  i += 1\n",
    "else:\n",
    "  print(\"i is no longer less than 6\")\n",
    "\n",
    "# Hinweis: else gibt es auch beim for-loop!!!!!!!"
   ]
  },
  {
   "cell_type": "markdown",
   "id": "58dc5e21",
   "metadata": {},
   "source": [
    "Eine besondere Verwendung der while-Schleife findet sich oftmals in embedded Systemen oder in Systemen mit Benutzer-Interaktion"
   ]
  },
  {
   "cell_type": "code",
   "execution_count": null,
   "id": "97db854e",
   "metadata": {},
   "outputs": [
    {
     "name": "stdout",
     "output_type": "stream",
     "text": [
      "Programm abgebrochen\n"
     ]
    }
   ],
   "source": [
    "run = True\n",
    "while run:\n",
    "    eingabe = input(\"x eingeben und abzubrechen\\n\")\n",
    "    print(\"Eingabe: \", eingabe)\n",
    "    # do somethzing fancy\n",
    "    if eingabe == \"x\": run = False\n",
    "else:\n",
    "    print(\"Programm abgebrochen\")"
   ]
  },
  {
   "cell_type": "markdown",
   "id": "371599d1",
   "metadata": {},
   "source": [
    "### If / Else Statements (Bedingte Ausführung)\n",
    "Die if-Anweisung gibt uns die Möglickeit Bedinungen zu formulieren ob ein Anweisungsblock ausgeführt werden soll.\n",
    "\n",
    "    if bedingung:\n",
    "        anweisung\n",
    "        ..."
   ]
  },
  {
   "cell_type": "code",
   "execution_count": null,
   "id": "2ed4ae18",
   "metadata": {},
   "outputs": [],
   "source": [
    "# einfaches if statement\n",
    "a = 3\n",
    "b = 4\n",
    "c = 5\n",
    "\n",
    "if a > b:\n",
    "    print(\"a ist größer als b\")\n",
    "if c > b:\n",
    "    print(\"c ist größer als b\")"
   ]
  },
  {
   "cell_type": "code",
   "execution_count": null,
   "id": "c213574c",
   "metadata": {},
   "outputs": [],
   "source": [
    "# mehrere Abfragen kombiniert mit EINEM if statement\n",
    "a = 3\n",
    "b = 4\n",
    "c = 5\n",
    "\n",
    "if a > b:\n",
    "    print(\"a grösser b\")\n",
    "elif a < b:\n",
    "    print(\"a kleiner b\")\n",
    "elif a == b:\n",
    "    print(\"a gleich b\")"
   ]
  },
  {
   "cell_type": "code",
   "execution_count": null,
   "id": "18480e29",
   "metadata": {},
   "outputs": [],
   "source": [
    "# Ein bischen Aussagelogik :)\n",
    "\n",
    "if a > b:\n",
    "    print(\"a ist grösser b\")\n",
    "else:\n",
    "    print(\"a ist nicht grösser b\")"
   ]
  },
  {
   "cell_type": "code",
   "execution_count": null,
   "id": "620a728c",
   "metadata": {},
   "outputs": [],
   "source": [
    "# seit Python 3.10 gibt es auch eine kompaktere Form als die elif Konstruktion, das match/case Konstrukt\n",
    "\n",
    "text = 'Hello, World!'\n",
    "match text:\n",
    "    case 'Hello, World!':\n",
    "        print('Hello to you too!')\n",
    "    case 'Goodbye, World!':\n",
    "        print('See you later')\n",
    "    case other:\n",
    "        print('No match found')\n",
    " \n"
   ]
  },
  {
   "cell_type": "markdown",
   "id": "479e8c49",
   "metadata": {},
   "source": [
    "Bisher haben wir if als binäres Konstrukt kennengelenrt. Es gibt jedoch auch eine Ternäre Schreibweise\n",
    "\n",
    "Analogie zu C\n",
    "\n",
    "C-Programmierer kennen folgende abgekürzte Schreibweise für das if-Konstrukt:\n",
    "\n",
    "    max = (a > b) ? a : b; \n",
    "\n",
    "als Abkürzung für:\n",
    "\n",
    "    if (a > b)\n",
    "       max=a;\n",
    "    else\n",
    "       max=b;  \n",
    "\n",
    "In Python ist die wie folgt realisiert:\n",
    "\n",
    "    max = a if (a > b) else b"
   ]
  },
  {
   "cell_type": "code",
   "execution_count": null,
   "id": "85291191",
   "metadata": {},
   "outputs": [],
   "source": [
    "# Ternäres if - das Python äquivalent zum obigen Beispiel\n",
    "a = 17\n",
    "b = 50\n",
    "\n",
    "result = (21 if a < b else 7) * 2 \n",
    "\n",
    "print(result)\n",
    "\n"
   ]
  },
  {
   "cell_type": "markdown",
   "id": "d3628f2f",
   "metadata": {},
   "source": [
    "### Iteratoren\n",
    "Iteratoren haben wir implizit schon kennengelenrt, z.B. bei den for-Schleifen, bei welchen wir durch Listen iteriert haben. Das Konzept der Iteratoren geht aber wesentlich weiter, einiges davon wollen wir kurz beleuchten."
   ]
  },
  {
   "cell_type": "code",
   "execution_count": null,
   "id": "f32e068d",
   "metadata": {
    "scrolled": true
   },
   "outputs": [],
   "source": [
    "colors = [\"red\", \"blue\", \"green\", \"cyan\", \"magenta\", \"yellow\", \"black\"]\n",
    "\n",
    "# bereits bekannt:\n",
    "for color in colors:\n",
    "    print(color)"
   ]
  },
  {
   "cell_type": "code",
   "execution_count": null,
   "id": "32a11105",
   "metadata": {
    "scrolled": true
   },
   "outputs": [],
   "source": [
    "# eine andere Variante in der wir den iterator explizit verwenden:\n",
    "\n",
    "coloriterator = iter(colors)\n",
    "while coloriterator:\n",
    "    try:\n",
    "        color = next(coloriterator)\n",
    "        print(color)\n",
    "    except StopIteration:\n",
    "         break"
   ]
  },
  {
   "cell_type": "markdown",
   "id": "68e7e40a",
   "metadata": {},
   "source": [
    "#### Iteratoren selber erstellen (NICHT Prüfungsrelevant)\n",
    "Einen eigenen Iterator kann man erstellen indem man eine Klasse definiert, die die Methoden _init__, __iter__ und __next__ zur ve3rfügung stellt, wie nachfolgend dargestellt.\n",
    "\n",
    "    class Zyklus(object):\n",
    "    \n",
    "        def __init__(self, iterable):\n",
    "            self.iterable = iterable\n",
    "            self.iter_obj = iter(iterable)\n",
    "\n",
    "        def __iter__(self):\n",
    "            return self\n",
    "\n",
    "        def __next__(self):\n",
    "            while True:\n",
    "                try:\n",
    "                    next_obj = next(self.iter_obj)\n",
    "                    return next_obj\n",
    "                except StopIteration:\n",
    "                    self.iter_obj = iter(self.iterable)\n",
    "  \n",
    "    x = Zyklus(\"abc\")"
   ]
  },
  {
   "cell_type": "code",
   "execution_count": null,
   "id": "3f27ea18",
   "metadata": {},
   "outputs": [],
   "source": [
    "# Beispiel eines Iterators zum berechnen der Fibbonachi zahlen\n",
    "\n",
    "class Fibonacci:\n",
    "    def __init__(self, max_n):\n",
    "        self.MaxN = max_n\n",
    "        self.N = 0\n",
    "        self.A = 0\n",
    "        self.B = 0\n",
    "    def __iter__(self):\n",
    "        self.N = 0\n",
    "        self.A = 0\n",
    "        self.B = 1\n",
    "        return self\n",
    "    def __next__(self):\n",
    "        if self.N < self.MaxN:\n",
    "            self.N += 1\n",
    "            self.A, self.B = self.B, self.A + self.B\n",
    "            return self.A\n",
    "        else:\n",
    "            raise StopIteration"
   ]
  },
  {
   "cell_type": "code",
   "execution_count": null,
   "id": "4e77e1b8",
   "metadata": {},
   "outputs": [],
   "source": [
    "for f in Fibonacci(20):\n",
    "    print(f, end=\" \")"
   ]
  },
  {
   "cell_type": "code",
   "execution_count": null,
   "id": "8d185e02",
   "metadata": {
    "scrolled": true
   },
   "outputs": [],
   "source": [
    "list(Fibonacci(20))"
   ]
  },
  {
   "cell_type": "code",
   "execution_count": null,
   "id": "0798672b",
   "metadata": {},
   "outputs": [],
   "source": [
    "sum(Fibonacci(20))"
   ]
  },
  {
   "cell_type": "markdown",
   "id": "5db876fc",
   "metadata": {},
   "source": [
    "### Generatoren (NICHT prüfungsrelevant)\n",
    "Eine wietere Möglichkeit ist die verwendung von Generatoren, welche das vorangegangene Problem wesetlich eleganter löst. Hierzu wird die __iter__ Methode des Objekts als Generator implementiert."
   ]
  },
  {
   "cell_type": "code",
   "execution_count": null,
   "id": "67d8e1cb",
   "metadata": {},
   "outputs": [],
   "source": [
    "class Fibonacci2:\n",
    "    def __init__(self, max_n):\n",
    "        self.MaxN = max_n\n",
    "    def __iter__(self):\n",
    "        n = 0\n",
    "        a, b = 0, 1\n",
    "        for n in range(self.MaxN):\n",
    "            a, b = b, a + b\n",
    "            yield a"
   ]
  },
  {
   "cell_type": "code",
   "execution_count": null,
   "id": "2603a7ff",
   "metadata": {},
   "outputs": [],
   "source": [
    "for f in Fibonacci2(20):\n",
    "    print(f, end=\" \")"
   ]
  },
  {
   "cell_type": "code",
   "execution_count": null,
   "id": "3cd011a4",
   "metadata": {},
   "outputs": [],
   "source": [
    "sum(Fibonacci2(20))"
   ]
  },
  {
   "cell_type": "markdown",
   "id": "b1292b91",
   "metadata": {},
   "source": [
    "### Comprehensions\n",
    "Comprehensions ermöglichen es uns sehr effektiv neue (z.B. Listen - Listcomprehension) zu erstellen die auf bereits vorhandenen Objekten (z.B. Listen) beruhen.\n",
    "\n",
    "    newlist = [expression for item in iterable if condition == True]\n",
    "\n",
    "Wir behandeln hier exemplarisch die Listcomprehension. Comprehensions sind auch für andere Datentypen verfügbar, z.B. für Dict und Set. Details und Beispiele hierfür finden sie unter \n",
    "https://openbook.rheinwerk-verlag.de/python/23_001.html#u23.1"
   ]
  },
  {
   "cell_type": "code",
   "execution_count": null,
   "id": "73a800a3",
   "metadata": {},
   "outputs": [],
   "source": [
    "# Beispiel: Erzeughen von Quadratzahlen aus einer vorhandenen Liste\n",
    "\n",
    "zahlen = list(range(20))\n",
    "print(zahlen)"
   ]
  },
  {
   "cell_type": "code",
   "execution_count": null,
   "id": "a477bc13",
   "metadata": {},
   "outputs": [],
   "source": [
    "# hemdsaermelige erzeugung von quadratzahlen\n",
    "for i in zahlen:\n",
    "    q = i**2\n",
    "    print(q, end=\" \")"
   ]
  },
  {
   "cell_type": "code",
   "execution_count": null,
   "id": "d5a89442",
   "metadata": {},
   "outputs": [],
   "source": [
    "# mit listcompreehensions\n",
    "quadrate = [i**2 for i in range(20)]\n",
    "print(quadrate)"
   ]
  },
  {
   "cell_type": "code",
   "execution_count": null,
   "id": "9264223d",
   "metadata": {},
   "outputs": [],
   "source": [
    "# oder\n",
    "quadrate = [i**2 for i in zahlen]\n",
    "print(quadrate)"
   ]
  },
  {
   "cell_type": "code",
   "execution_count": null,
   "id": "367e070f",
   "metadata": {},
   "outputs": [],
   "source": [
    "# mit bedingung\n",
    "quadrate = [i**2 for i in zahlen if i%2 == 0]\n",
    "print(quadrate)"
   ]
  },
  {
   "cell_type": "code",
   "execution_count": null,
   "id": "667d85ea",
   "metadata": {},
   "outputs": [],
   "source": [
    "from time import time\n",
    "import sys"
   ]
  },
  {
   "cell_type": "code",
   "execution_count": null,
   "id": "e43b09cc",
   "metadata": {},
   "outputs": [],
   "source": [
    "# ABER, ACHTUNG bei großen Datenmengen\n",
    "# ...dauert ein bischen...eine Groessenordnung mehr und es wird richtig unangenehm...\n",
    "start = time()\n",
    "quadrate1 = [i**2 for i in range(20000000)]\n",
    "end = time()\n",
    "\n",
    "print(sys.getsizeof(quadrate1))\n",
    "print(end-start, \" Sekunden\")"
   ]
  },
  {
   "cell_type": "code",
   "execution_count": null,
   "id": "0d2689e0",
   "metadata": {},
   "outputs": [],
   "source": [
    "quadrate1"
   ]
  },
  {
   "cell_type": "code",
   "execution_count": null,
   "id": "57ab8bef",
   "metadata": {
    "scrolled": true
   },
   "outputs": [],
   "source": [
    "# schaun wir mal hier:\n",
    "start = time()\n",
    "quadrate2 = (i**2 for i in range(20000000))\n",
    "end = time()\n",
    "\n",
    "print(sys.getsizeof(quadrate2))\n",
    "print(end-start, \" Sekunden\")\n",
    "\n",
    "# WAS ist der Unterschied?????"
   ]
  },
  {
   "cell_type": "code",
   "execution_count": null,
   "id": "9609b216",
   "metadata": {},
   "outputs": [],
   "source": [
    "quaditer=iter(quadrate2)\n",
    "while quaditer:\n",
    "    try:\n",
    "        q = next(quaditer)\n",
    "        print(q)\n",
    "        if q > 1000 : break\n",
    "    except StopIteration:\n",
    "         break"
   ]
  },
  {
   "cell_type": "markdown",
   "id": "112e82fe",
   "metadata": {},
   "source": [
    "Antwort: quadrate1 ist eine Listcomprehension und erzeugt alle Elemente und legt diese im Speicher ab. quadrte2 hingegen ist KEINE comprehension, sondern ein Generatorausdruck.\n",
    "\n",
    "Im Fall einer List Comprehension wird eine Ergebnisliste mit allen Einträgen erzeugt – gegebenenfalls auch mit extrem vielen. Im zweiten Fall lassen sich die einzelnen Werte mit Hilfe von next() sukzessive ermitteln: Es werden somit nicht Tausende oder gar Millionen oder Milliarden von Einträgen erzeugt, die möglicherweise nicht benötigt werden. So lässt sich oftmals einiges an Speicher und Aufwand sparen."
   ]
  },
  {
   "cell_type": "markdown",
   "id": "5bed2539",
   "metadata": {},
   "source": [
    "### Funktionen und Methoden\n",
    "Funktionen und Methoden dienen der Strukturierung von Programmcode, bzw. auch zum Kapseln von Code. Eine Funktions definition erfolgt mit\n",
    "\n",
    "    def funktionsname():\n",
    "        # funktionscode\n",
    "\n",
    "Der Aufruf dann mit\n",
    "\n",
    "    funktionsname()\n",
    "\n",
    "#### Parameter\n",
    "Funktionen können Parameter übergeben werden, dies erfolg in dem diese parameter in der definition definiert werden und bei aufrufder Funktion übergeben werden\n",
    "\n",
    "    def funktionmitparams(wert1, wert2):\n",
    "        ...\n",
    "        \n",
    "    funktionmitparams(22, \"meldung\")\n",
    "\n",
    "Bei der Definition der Funktion können auch defaultwerte vorbelegt werden. ABER: die Belegung muss von \"hinten nach vorne\" erfolgen, da Python sonst keine Aussage machen für welchen Paramenter die Defaultwerte und für welchen die Übergebenen Werte verwendung finden sollen.\n",
    "\n",
    "    def funkdefault(wert1, wert2=22, wert4=\"humbug\")\n",
    "    \n",
    "    funkdefault(11)\n",
    "\n",
    "#### Rückgabewerte\n",
    "Soll eine Funktion einen Rückgabewert liefern muss dieser mittels \"return\" zurückgegeben werden:\n",
    "\n",
    "    def funkret(wert3)\n",
    "        ....\n",
    "        return x\n",
    "\n",
    "    ergebnis = funkret(22)"
   ]
  },
  {
   "cell_type": "code",
   "execution_count": null,
   "id": "10e6e3c4",
   "metadata": {},
   "outputs": [],
   "source": [
    "def func():\n",
    "    print(\"in der Funktion ausgegeben\")\n",
    "\n",
    "func()\n",
    "func()\n",
    "print(\"Programm beendet\")"
   ]
  },
  {
   "cell_type": "code",
   "execution_count": null,
   "id": "2d434b53",
   "metadata": {},
   "outputs": [],
   "source": [
    "def fun2(a, b):\n",
    "    print(a)\n",
    "    print(b)\n",
    "\n",
    "fun2(23, 42)"
   ]
  },
  {
   "cell_type": "code",
   "execution_count": null,
   "id": "ea15ba36",
   "metadata": {},
   "outputs": [],
   "source": [
    "def fun3(a, b=23, c=99):\n",
    "    print(a)\n",
    "    print(b)\n",
    "    print(c)\n",
    "\n",
    "fun3(42)"
   ]
  },
  {
   "cell_type": "code",
   "execution_count": null,
   "id": "637f141f",
   "metadata": {},
   "outputs": [],
   "source": [
    "def fun4(a, b=23):\n",
    "    print(a)\n",
    "    print(b)\n",
    "    return (a+b)\n",
    "\n",
    "z = fun4(12, 30)\n",
    "print(z)"
   ]
  },
  {
   "cell_type": "markdown",
   "id": "5869c883",
   "metadata": {},
   "source": [
    "### Variablen Scopes\n",
    "Abhänig von der definition einer Variable (Ort) kann diese vom Programmcode verwendung finden (oder auch nicht. Wir betrachten dies anhand eine Beispiels"
   ]
  },
  {
   "cell_type": "code",
   "execution_count": null,
   "id": "c3cf1df0",
   "metadata": {
    "scrolled": true
   },
   "outputs": [],
   "source": [
    "# Hauptprogramm\n",
    "main1 = 23\n",
    "x = \"definiert in main\"\n",
    "\n",
    "def funouter(a, b):\n",
    "    out1 = a\n",
    "    out3 = \"definiert in outer\"\n",
    "    \n",
    "    def funinner(g):\n",
    "        inner1 = g\n",
    "        inner2 = \"defniert in inner\"\n",
    "        \n",
    "        global z\n",
    "        z = \"global definiert in inner\"\n",
    "        \n",
    "        print(\"aus inner: \")\n",
    "        print(\"...innerVars: \", inner1, inner2)\n",
    "        print(\"...outerVars: \", out1, out3)\n",
    "        print(\"...globalVars: \", main1, x)\n",
    "    \n",
    "    funinner(b)\n",
    "    print(\"aus outer: \")\n",
    "    #print(\"...innerVars: \", inner1, inner2)\n",
    "    print(\"...outerVars: \", out1, out3)\n",
    "    print(\"...globalVars: \", main1, x)\n",
    "    \n",
    "funouter(44, 78)\n",
    "print(\"aus main: \")\n",
    "#print(\"...innerVars: \", inner1, inner2)\n",
    "#print(\"...outerVars: \", out1, out3)\n",
    "print(\"...globalVars: \", main1, x)\n",
    "print(\"...globalVars: \", z)\n",
    "\n",
    "    "
   ]
  },
  {
   "cell_type": "markdown",
   "id": "1e0402c3",
   "metadata": {},
   "source": [
    "ACHTUNG: Haben Variablen den den selben Namen, werden diese anhand des Scpes ausgewertet.\n",
    "Bitte beachten, insbesondere bei typischen Laufvariablen wie z.B. i in for-Schleifen!!!\n",
    "\n",
    "ACHTUNG: Speizelle Regelungen für Variablen in Objekten werden hier nicht behandelt. :)"
   ]
  },
  {
   "cell_type": "markdown",
   "id": "3bc02233",
   "metadata": {},
   "source": [
    "### Vertiefung: Variablen, Referenzen, flaches und tiefes Kopieren"
   ]
  },
  {
   "cell_type": "code",
   "execution_count": null,
   "id": "1bd4ec00",
   "metadata": {},
   "outputs": [],
   "source": [
    "# Beispiel\n",
    "y = 3\n",
    "x = y     # erzeugt eine referenz auf ein bestehendes objekt\n",
    "\n",
    "# Sind y und x zwei unterschiedliche Objekte im Speicher?"
   ]
  },
  {
   "cell_type": "code",
   "execution_count": null,
   "id": "7e2fbabd",
   "metadata": {},
   "outputs": [],
   "source": [
    "# Nein, sowohl x als auch y zeichen auf das selbe Objekt (seeeehr vereinfacht Speicher)\n",
    "print(id(x), id(y))\n",
    "if (id(x) == id(y)): \n",
    "    print(\"x und y sind zeiger auf das selbe Objekt\")\n",
    "else:\n",
    "    print(\"x und y zeigen auf unterschiedliche Objekte\")\n",
    "\n",
    "x = 5\n",
    "print(x,y)\n",
    "print(id(x), id(y))"
   ]
  },
  {
   "cell_type": "code",
   "execution_count": null,
   "id": "9b6bc6e7",
   "metadata": {},
   "outputs": [],
   "source": [
    "x = 23      # erzeugt ein neues objekt\n",
    "\n",
    "print(id(x), id(y))\n",
    "if (id(x) == id(y)): \n",
    "    print(\"x und y sind zeiger auf das selbe Objekt\")\n",
    "else:\n",
    "    print(\"x und y zeigen auf unterschiedliche Objekte\")"
   ]
  },
  {
   "cell_type": "code",
   "execution_count": null,
   "id": "13561bd3",
   "metadata": {},
   "outputs": [],
   "source": [
    "# es geht noch Schlimmer :)\n",
    "Farben = [\"rot\", \"gruen\", \"blau\"]\n",
    "meineFarben = Farben\n",
    "\n",
    "print(id(Farben), id(meineFarben))\n",
    "if (id(Farben) == id(meineFarben)): \n",
    "    print(\"x und y sind Zeiger auf das selbe Objekt\")\n",
    "else:\n",
    "    print(\"x und y zeigen auf unterschiedliche Objekte\")\n",
    "    \n",
    "# dies Führt also zum selben Ergebnis wie zuvor beobachtet."
   ]
  },
  {
   "cell_type": "code",
   "execution_count": null,
   "id": "bc79ff28",
   "metadata": {},
   "outputs": [],
   "source": [
    "# Wie kopiere ich einen derartiben Datentyp, muss ich durch alle Elemente iterieren und jedes Element \n",
    "# einzeln kopieren: nope...es gibt hilfe ;)\n",
    "\n",
    "andereFarben = Farben.copy()\n",
    "\n",
    "print(id(Farben), id(andereFarben))\n",
    "if (id(Farben) == id(andereFarben)): \n",
    "    print(\"x und y sind zeiger auf das selbe Objekt\")\n",
    "else:\n",
    "    print(\"x und y zeigen auf unterschiedliche Objekte\")"
   ]
  },
  {
   "cell_type": "code",
   "execution_count": null,
   "id": "d2d93db6",
   "metadata": {},
   "outputs": [],
   "source": [
    "# Falls wir noch weiter verschachtelte und komplizierte Datentypen haben hilft aber auch copy() nciht\n",
    "# nicht weiter. Aber auch hier gibt es Hilfe in form von deepcopy (ohne konkretes Beispiel)\n",
    "\n",
    "sonstwas = [\"brum\", \"sums\"]\n",
    "kompliziert = [{\"ach\":\"weh\"}, {\"husten\":\"schnupfen\"}, sonstwas]\n",
    "\n",
    "kopie = kompliziert.copy()\n",
    "print(kompliziert)\n",
    "print(kopie)\n",
    "print(\"\\n\")\n",
    "\n",
    "kopie[2].append(\"hrmpf\")\n",
    "\n",
    "print(kompliziert)\n",
    "print(kopie)\n",
    "print(\"\\n\")\n",
    "\n",
    "from copy import deepcopy\n",
    "\n",
    "mehrdavon = deepcopy(kompliziert)\n",
    "\n",
    "mehrdavon[2].append(\"blafasel\")\n",
    "\n",
    "print(kompliziert)\n",
    "print(mehrdavon)\n",
    "print(\"\\n\")\n",
    "\n"
   ]
  },
  {
   "cell_type": "code",
   "execution_count": null,
   "id": "a810e1bd",
   "metadata": {},
   "outputs": [],
   "source": []
  },
  {
   "cell_type": "code",
   "execution_count": null,
   "id": "0c3306be-dc5d-4a9c-b0df-9faf096ed5ec",
   "metadata": {},
   "outputs": [],
   "source": []
  },
  {
   "cell_type": "code",
   "execution_count": null,
   "id": "cfa65ed6-5ea2-4159-85b0-5f98fae1d5ec",
   "metadata": {},
   "outputs": [],
   "source": []
  }
 ],
 "metadata": {
  "kernelspec": {
   "display_name": "01_saschaangermann",
   "language": "python",
   "name": "python3"
  },
  "language_info": {
   "codemirror_mode": {
    "name": "ipython",
    "version": 3
   },
   "file_extension": ".py",
   "mimetype": "text/x-python",
   "name": "python",
   "nbconvert_exporter": "python",
   "pygments_lexer": "ipython3",
   "version": "3.12.7"
  }
 },
 "nbformat": 4,
 "nbformat_minor": 5
}
