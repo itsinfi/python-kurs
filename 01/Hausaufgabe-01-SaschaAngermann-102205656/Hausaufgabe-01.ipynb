{
 "cells": [
  {
   "cell_type": "markdown",
   "id": "a91bb713",
   "metadata": {},
   "source": [
    "<!--  Header einfügen -->\n",
    "<img style=\"width:80%;\" id=\"image\" src=\"iu.jpg\">"
   ]
  },
  {
   "cell_type": "markdown",
   "id": "dc69ca52",
   "metadata": {},
   "source": [
    "# Einfuerung in Python - IU - WS 2023/24\n",
    "<img style=\"width:40%;\" id=\"image\" src=\"python.png\">\n",
    "\n",
    "                                                               andreas.huemmer.ext@iu.org\n",
    "\n"
   ]
  },
  {
   "cell_type": "markdown",
   "id": "751ca669",
   "metadata": {},
   "source": [
    "## Hausaufgabe 01\n",
    "Erreichbare Punktzahl: 10\n",
    "Abgabedatum: 19.12.2024, 06:00"
   ]
  },
  {
   "cell_type": "markdown",
   "id": "d240cd40",
   "metadata": {},
   "source": [
    "Füllen Sie folgende Felder aus:\n",
    "\n",
    "Name:           Sascha Angermann\n",
    "\n",
    "Matrikelnummer: 102205656"
   ]
  },
  {
   "cell_type": "code",
   "execution_count": 31,
   "id": "62483caa",
   "metadata": {},
   "outputs": [],
   "source": [
    "# import os\n",
    "# os.system('cmd command');"
   ]
  },
  {
   "cell_type": "markdown",
   "id": "2dacd60b",
   "metadata": {},
   "source": [
    "### Augabe 1 (1 Punkt)\n",
    "Installieren Sie eine Anacondaumgebung auf Ihrem Rechner und führen Sie ein Update der Komponenten durch. Führen Sie die nachfolgende Zelle aus."
   ]
  },
  {
   "cell_type": "code",
   "execution_count": 32,
   "id": "06887f66",
   "metadata": {},
   "outputs": [
    {
     "name": "stdout",
     "output_type": "stream",
     "text": [
      "\n",
      "     active environment : 01_saschaangermann\n",
      "    active env location : C:\\Users\\Infi\\anaconda3\\envs\\01_saschaangermann\n",
      "            shell level : 1\n",
      "       user config file : C:\\Users\\Infi\\.condarc\n",
      " populated config files : C:\\Users\\Infi\\anaconda3\\.condarc\n",
      "                          C:\\Users\\Infi\\.condarc\n",
      "          conda version : 24.11.0\n",
      "    conda-build version : 24.9.0\n",
      "         python version : 3.12.7.final.0\n",
      "                 solver : libmamba (default)\n",
      "       virtual packages : __archspec=1=skylake\n",
      "                          __conda=24.11.0=0\n",
      "                          __cuda=12.7=0\n",
      "                          __win=0=0\n",
      "       base environment : C:\\Users\\Infi\\anaconda3  (writable)\n",
      "      conda av data dir : C:\\Users\\Infi\\anaconda3\\etc\\conda\n",
      "  conda av metadata url : None\n",
      "           channel URLs : https://repo.anaconda.com/pkgs/main/win-64\n",
      "                          https://repo.anaconda.com/pkgs/main/noarch\n",
      "                          https://repo.anaconda.com/pkgs/r/win-64\n",
      "                          https://repo.anaconda.com/pkgs/r/noarch\n",
      "                          https://repo.anaconda.com/pkgs/msys2/win-64\n",
      "                          https://repo.anaconda.com/pkgs/msys2/noarch\n",
      "          package cache : C:\\Users\\Infi\\anaconda3\\pkgs\n",
      "                          C:\\Users\\Infi\\.conda\\pkgs\n",
      "                          C:\\Users\\Infi\\AppData\\Local\\conda\\conda\\pkgs\n",
      "       envs directories : C:\\Users\\Infi\\anaconda3\\envs\n",
      "                          C:\\Users\\Infi\\.conda\\envs\n",
      "                          C:\\Users\\Infi\\AppData\\Local\\conda\\conda\\envs\n",
      "               platform : win-64\n",
      "             user-agent : conda/24.11.0 requests/2.32.3 CPython/3.12.7 Windows/10 Windows/10.0.19045 solver/libmamba conda-libmamba-solver/24.9.0 libmambapy/1.5.8 aau/0.4.4 c/RvrasOgtw6R8HW76UTsnoQ s/axNmp10K637GO5aLZVG0rQ e/4g84-dk8hYffgXhIYBXuoA\n",
      "          administrator : False\n",
      "             netrc file : None\n",
      "           offline mode : False\n",
      "\n"
     ]
    }
   ],
   "source": [
    "# Aufgabe 1 (1 Punkt)\n",
    "!conda info"
   ]
  },
  {
   "cell_type": "markdown",
   "id": "96cb5dc1",
   "metadata": {},
   "source": [
    "Erreichte Punkte:  ___ / 1"
   ]
  },
  {
   "cell_type": "markdown",
   "id": "18c3f573",
   "metadata": {},
   "source": [
    "### Aufgabe 2 (2 Punkte)\n",
    "Gegeben seien zwei komplexe Zahlen a, b. "
   ]
  },
  {
   "cell_type": "code",
   "execution_count": 33,
   "id": "f309d992",
   "metadata": {},
   "outputs": [
    {
     "name": "stdout",
     "output_type": "stream",
     "text": [
      "Zahl a ist:  (23+7j)    Zahl b ist:  (12-42j) \n",
      "\n"
     ]
    }
   ],
   "source": [
    "a = 23 + 7j\n",
    "b = 12 - 42j\n",
    "\n",
    "print(\"Zahl a ist: \", a, \"  \", \"Zahl b ist: \", b, \"\\n\")"
   ]
  },
  {
   "cell_type": "markdown",
   "id": "7dd2a245",
   "metadata": {},
   "source": [
    "a) Führen Sie die arithmetischen Operationen: Addition (a+b), Subtraktion (a-b), Multiplikation (a*b) und Division (a/b) aus und geben Sie folgendes pro Operation aus (2 Punkte):\n",
    "\n",
    "(23+7j) [Operation] (12-42j) = Erbebnis der Operation "
   ]
  },
  {
   "cell_type": "code",
   "execution_count": 34,
   "id": "c097be3f",
   "metadata": {},
   "outputs": [
    {
     "name": "stdout",
     "output_type": "stream",
     "text": [
      "(23+7j) + (12-42j) = (35-35j)\n",
      "(23+7j) - (12-42j) = (11+49j)\n",
      "(23+7j) * (12-42j) = (570-882j)\n",
      "(23+7j) / (12-42j) = (-0.009433962264150948+0.550314465408805j)\n"
     ]
    }
   ],
   "source": [
    "print(f'{a} + {b} = {a+b}')\n",
    "print(f'{a} - {b} = {a-b}')\n",
    "print(f'{a} * {b} = {a*b}')\n",
    "print(f'{a} / {b} = {a/b}')"
   ]
  },
  {
   "cell_type": "markdown",
   "id": "a669dcc8",
   "metadata": {},
   "source": [
    "b) Isolieren Sie die Realteile des der beiden Zahlen, wandeln Sie die Realteile (Typcast) nach int und berechnen Sie Re(a) modulo Re(b) und geben Sie ds Ergebnis als int analog zu Teil a) aus. (1 Punkt)"
   ]
  },
  {
   "cell_type": "code",
   "execution_count": 35,
   "id": "7295c0fa",
   "metadata": {},
   "outputs": [
    {
     "name": "stdout",
     "output_type": "stream",
     "text": [
      "Re(23+7j) mod Re(12-42j) = 11\n"
     ]
    }
   ],
   "source": [
    "a_real = int(a.real)\n",
    "b_real = int(b.real)\n",
    "print(f'Re{a} mod Re{b} = {a_real % b_real}')\n"
   ]
  },
  {
   "cell_type": "markdown",
   "id": "3ab29fde",
   "metadata": {},
   "source": [
    "c) Berechnen Sie das konjugiert kompkexe zu b und geben sie das Ergebnis aus (1 Punikt)"
   ]
  },
  {
   "cell_type": "code",
   "execution_count": 36,
   "id": "cbd1a79d",
   "metadata": {},
   "outputs": [
    {
     "name": "stdout",
     "output_type": "stream",
     "text": [
      "Ergebnis: (12+42j)\n"
     ]
    }
   ],
   "source": [
    "print(f'Ergebnis: {b.conjugate()}')"
   ]
  },
  {
   "cell_type": "markdown",
   "id": "4f737065",
   "metadata": {},
   "source": [
    "Erreichte Punkte:  ___ / 2"
   ]
  },
  {
   "cell_type": "markdown",
   "id": "960d6f6d",
   "metadata": {},
   "source": [
    "### Aufgabe 3 (2 Punkte)\n",
    "Gegeben sein ein String. \n",
    "- Ermitteln Sie die Indexposition des ersten \",\" und geben sie diese aus.\n",
    "- Wieviele Kommatas hat der Text?\n",
    "- Spearieren sie den String anhand der Kommatas und geben Sie die erhaltenen Teilstrings aus.\n",
    "- Ermitteln Sie wieviele Wörter der Text enthät und geben sie die Anzahl aus.\n",
    "\n",
    "  [Text by Guano Apes]"
   ]
  },
  {
   "cell_type": "code",
   "execution_count": 37,
   "id": "aa167ae2",
   "metadata": {},
   "outputs": [
    {
     "name": "stdout",
     "output_type": "stream",
     "text": [
      "Open your eyes, open your mind Proud like a god, don't pretend to be blind Trapped in yourself, break out instead Beat the machine that works in your head\n"
     ]
    }
   ],
   "source": [
    "text = \"Open your eyes, open your mind \\\n",
    "Proud like a god, don't pretend to be blind \\\n",
    "Trapped in yourself, break out instead \\\n",
    "Beat the machine that works in your head\"\n",
    "\n",
    "print(text)"
   ]
  },
  {
   "cell_type": "code",
   "execution_count": 38,
   "id": "39d02a6b",
   "metadata": {
    "scrolled": true
   },
   "outputs": [
    {
     "name": "stdout",
     "output_type": "stream",
     "text": [
      "Index des ersten Kommas: 14\n",
      "Anzahl Kommatas: 3\n",
      "Anzahl Wörter: 29\n",
      "\n",
      "Teilstrings nach Komma separiert:\n",
      "Open your eyes\n",
      " open your mind Proud like a god\n",
      " don't pretend to be blind Trapped in yourself\n",
      " break out instead Beat the machine that works in your head\n"
     ]
    }
   ],
   "source": [
    "first_comma_index = text.find(',')\n",
    "comma_amount = text.count(',')\n",
    "word_count = len(text.split(' '))\n",
    "sub_strings = text.split(',')\n",
    "\n",
    "print(f'Index des ersten Kommas: {first_comma_index}')\n",
    "print(f'Anzahl Kommatas: {comma_amount}')\n",
    "print(f'Anzahl Wörter: {word_count}')\n",
    "\n",
    "print(f'\\nTeilstrings nach Komma separiert:')\n",
    "for sub_string in sub_strings:\n",
    "    print(sub_string)"
   ]
  },
  {
   "cell_type": "markdown",
   "id": "cdcb2a3c",
   "metadata": {},
   "source": [
    "_____________________________________\n",
    "Erreichte Punkte:  ___ / 2"
   ]
  },
  {
   "cell_type": "markdown",
   "id": "4a639a3f",
   "metadata": {},
   "source": [
    "### Aufgabe 4 (1 Punkt)\n",
    "Addieren Sie die beiden Variablen. Welchen Typ hat das Ergebnis? "
   ]
  },
  {
   "cell_type": "code",
   "execution_count": 39,
   "id": "a7d678a3",
   "metadata": {},
   "outputs": [],
   "source": [
    "zahl = 2\n",
    "zahlstr = \"2\""
   ]
  },
  {
   "cell_type": "code",
   "execution_count": 40,
   "id": "28c90aa9",
   "metadata": {},
   "outputs": [
    {
     "name": "stdout",
     "output_type": "stream",
     "text": [
      "Die Addition von Strings und Integers wirft einen Error vom Typ:\n",
      "<class 'TypeError'>\n",
      "unsupported operand type(s) for +: 'int' and 'str'\n"
     ]
    }
   ],
   "source": [
    "try:\n",
    "    zahl_sum = zahl + zahlstr\n",
    "except TypeError as e:\n",
    "    print(f'Die Addition von Strings und Integers wirft einen Error vom Typ:\\n{type(e)}')\n",
    "    print(e)"
   ]
  },
  {
   "cell_type": "markdown",
   "id": "3d45f57a-d74e-4e0e-92d8-61163b23a4b8",
   "metadata": {},
   "source": [
    "Addieren Sie die beiden Variablen nun so, dass das Ergebnis vom typ int ist und der Summe der beiden \"Zahlen\" entspricht."
   ]
  },
  {
   "cell_type": "code",
   "execution_count": 41,
   "id": "22f259f4-d952-4b4b-8754-1778cf98a054",
   "metadata": {},
   "outputs": [
    {
     "name": "stdout",
     "output_type": "stream",
     "text": [
      "Ergebnis: 4\n",
      "Typ vom Ergebnis: <class 'int'>\n"
     ]
    }
   ],
   "source": [
    "zahl_sum = zahl + int(zahlstr)\n",
    "print(f'Ergebnis: {zahl_sum}')\n",
    "print(f'Typ vom Ergebnis: {type(zahl_sum)}')"
   ]
  },
  {
   "cell_type": "markdown",
   "id": "bd05b393",
   "metadata": {},
   "source": [
    "________________________________\n",
    "Erreichte Punkte:  ___ / 1"
   ]
  },
  {
   "cell_type": "markdown",
   "id": "12c84502-909b-451c-8d92-48a8ec73828a",
   "metadata": {},
   "source": [
    "### Aufgabe 5 (1 Punkt)\n"
   ]
  },
  {
   "cell_type": "markdown",
   "id": "fa8bf648-1e7b-4218-8070-a521ec179e99",
   "metadata": {},
   "source": [
    "SET\n",
    "\n",
    "Gegeben sind folgende Mengen  "
   ]
  },
  {
   "cell_type": "code",
   "execution_count": 42,
   "id": "91b0336a-0839-482f-8c72-6159959d8b9d",
   "metadata": {},
   "outputs": [
    {
     "name": "stdout",
     "output_type": "stream",
     "text": [
      "{1, 2, 3, 4, 5, 6, 7} {1, 3, 5, 'A', 7, 'B', 'C'} {0, 2, 4, 6, 8}\n"
     ]
    }
   ],
   "source": [
    "set1 = {1, 2, 3, 4, 5, 6, 7}\n",
    "set2 = {1, 3, 5, 7, \"A\", \"B\", \"C\"}\n",
    "set3 = {i*2 for i in range(5)}\n",
    "\n",
    "var = 2\n",
    "\n",
    "print(set1, set2, set3)"
   ]
  },
  {
   "cell_type": "markdown",
   "id": "4ba4afd3-a01b-4105-9ed2-9c3ad8af8dc6",
   "metadata": {},
   "source": [
    "Berechnen Sie die Schnittmengen zwischen set1 und set2, set2 und set3, set1 und set3, sowie die Schmittmenge aller Sets.\n",
    "Brechnen Sie die Vereinigungsmenge aller Sets.\n",
    "Geben Sie die Ergebnisse Ihrer Operation aus.\n",
    "Fügen Sie var (s.o.) zur Vereinigungsmenge hinzu und geben sie das Ergebnis aus."
   ]
  },
  {
   "cell_type": "code",
   "execution_count": 43,
   "id": "f13e8ca1-9145-417a-8874-081c5872dc3f",
   "metadata": {},
   "outputs": [
    {
     "name": "stdout",
     "output_type": "stream",
     "text": [
      "Schnittmenge set1 & set2: {1, 3, 5, 7}\n",
      "Schnittmenge set2 & set3: set()\n",
      "Schnittmenge set1 & set3: {2, 4, 6}\n",
      "Schnittmenge set2 & set3: set()\n",
      "\n",
      "Vereinigungsmenge set1, set2 & set3: {0, 1, 2, 3, 4, 5, 6, 7, 'A', 'C', 8, 'B'}\n",
      "Vereinigungsmenge set1, set2 & set3 + var: {0, 1, 2, 3, 4, 5, 6, 7, 'A', 'C', 8, 'B'}\n"
     ]
    }
   ],
   "source": [
    "print(f'Schnittmenge set1 & set2: {set1 & set2}')\n",
    "\n",
    "print(f'Schnittmenge set2 & set3: {set2 & set3}')\n",
    "\n",
    "print(f'Schnittmenge set1 & set3: {set1 & set3}')\n",
    "\n",
    "print(f'Schnittmenge set2 & set3: {set1 & set2 & set3}')\n",
    "\n",
    "vereinigung_1_2_3 = set1 | set2 | set3\n",
    "print(f'\\nVereinigungsmenge set1, set2 & set3: {vereinigung_1_2_3}')\n",
    "\n",
    "vereinigung_1_2_3.add(var) # Ist bereits vorhanden, also kein neues Element\n",
    "print(f'Vereinigungsmenge set1, set2 & set3 + var: {vereinigung_1_2_3}')"
   ]
  },
  {
   "cell_type": "markdown",
   "id": "f5da6623-c70b-4f40-bc13-47c0b79aa5b2",
   "metadata": {},
   "source": [
    "________________________________\n",
    "Erreichte Punkte:  ___ / 1"
   ]
  },
  {
   "cell_type": "markdown",
   "id": "54888c5f-2323-4f46-8db0-cce41aed41a4",
   "metadata": {},
   "source": [
    "### Aufgabe 6 (1 Punkt)\n"
   ]
  },
  {
   "cell_type": "markdown",
   "id": "53f10133-ff4e-445b-9243-adcd16b79bfc",
   "metadata": {},
   "source": [
    "Listen\n",
    "\n",
    "Gegeben sind folgende Listen"
   ]
  },
  {
   "cell_type": "code",
   "execution_count": 44,
   "id": "3ed7fdcd-2d8c-423a-b8e6-96549caa210b",
   "metadata": {},
   "outputs": [
    {
     "name": "stdout",
     "output_type": "stream",
     "text": [
      "[1, 2, 3, 4, 5] ['A', 'B', 'C', 1, 3]\n"
     ]
    }
   ],
   "source": [
    "liste1 = [1, 2, 3, 4, 5]\n",
    "liste2 = [\"A\", \"B\", \"C\", 1, 3]\n",
    "\n",
    "print(liste1, liste2)"
   ]
  },
  {
   "cell_type": "markdown",
   "id": "cf93c1c4-f3f0-4d0a-b79e-888ece64acbf",
   "metadata": {},
   "source": [
    "Fügen Sie zu liste2 das Elemment 7 hinzu.\n",
    "Vereinigen Sie das Ergebnis mit liste1.\n",
    "Geben Sie die jeweiligen Ergebnisse aus.\n",
    "\n",
    "Wandeln Sie die vereinigte Liste in ein Set und geben Sie das Ergebnis aus."
   ]
  },
  {
   "cell_type": "code",
   "execution_count": 45,
   "id": "f4a6a4a3-5f35-4871-9277-650dd5bde017",
   "metadata": {},
   "outputs": [
    {
     "name": "stdout",
     "output_type": "stream",
     "text": [
      "liste2 mit element 7: ['A', 'B', 'C', 1, 3, 7]\n",
      "\n",
      "Vereinigung von liste1 und liste2 inkl. Element 7:\n",
      "[1, 2, 3, 4, 5, 'A', 'B', 'C', 1, 3, 7]\n",
      "\n",
      "Vereinigungsmenge von liste1 und liste2 inkl. Element 7 (als Set):\n",
      "{1, 2, 3, 4, 5, 'A', 7, 'C', 'B'}\n"
     ]
    }
   ],
   "source": [
    "liste2.append(7)\n",
    "liste_1_2 = liste1 + liste2\n",
    "\n",
    "print(f'liste2 mit element 7: {liste2}')\n",
    "print(f'\\nVereinigung von liste1 und liste2 inkl. Element 7:\\n{liste_1_2}')\n",
    "print(f'\\nVereinigungsmenge von liste1 und liste2 inkl. Element 7 (als Set):\\n{set(liste_1_2)}')\n",
    "\n"
   ]
  },
  {
   "cell_type": "markdown",
   "id": "071b3194-36c7-4126-b0cf-dca8b5a501ea",
   "metadata": {},
   "source": [
    "________________________________\n",
    "Erreichte Punkte:  ___ / 1"
   ]
  },
  {
   "cell_type": "markdown",
   "id": "ee0d1968-87a4-43ac-a46c-dc022c518d5b",
   "metadata": {},
   "source": [
    "### Aufgabe 7 (1 Punkt)\n"
   ]
  },
  {
   "cell_type": "code",
   "execution_count": 46,
   "id": "87dad0ed-7efb-4273-96da-f950c1cf019b",
   "metadata": {},
   "outputs": [],
   "source": [
    "#Matrizen - list, mumpy\n",
    "\n",
    "#Gegeben sind die folgenden Matrizen, einmal als Python und einmal als NumPy variante."
   ]
  },
  {
   "cell_type": "code",
   "execution_count": 47,
   "id": "b51e956c-40bf-4546-812a-a2e102f1a097",
   "metadata": {},
   "outputs": [
    {
     "name": "stdout",
     "output_type": "stream",
     "text": [
      "[[1, 3, 5], [7, 9, 11], [13, 15, 17]] [[2, 4, 6], [8, 10, 12], [14, 16, 18]]\n"
     ]
    }
   ],
   "source": [
    "matrix1 = [ [1, 3, 5],\n",
    "            [7, 9, 11],\n",
    "            [13, 15, 17]]\n",
    "\n",
    "matrix2 = [ [2, 4, 6],\n",
    "            [8, 10, 12],\n",
    "            [14, 16, 18]]\n",
    "\n",
    "print(matrix1, matrix2)"
   ]
  },
  {
   "cell_type": "markdown",
   "id": "005cf65c-eca3-4ecc-a195-496fa4dc0248",
   "metadata": {},
   "source": [
    "Führen Sie eine Matrixmultiplikation von matrix1 und matrix2 durch und stellen Sie das Ergebnis dar."
   ]
  },
  {
   "cell_type": "code",
   "execution_count": 48,
   "id": "1c9b1625-8bd4-47bf-8429-46835e338583",
   "metadata": {},
   "outputs": [
    {
     "name": "stdout",
     "output_type": "stream",
     "text": [
      "Ergebnis der Matrixmultiplikation (Python):\n",
      "[[96, 114, 132], [240, 294, 348], [384, 474, 564]]\n"
     ]
    }
   ],
   "source": [
    "def calc_matrix_product(m1, m2):\n",
    "    matrix_product = [[0 for _m2 in range(len(m2))] for _m1 in range(len(m1))]\n",
    "    \n",
    "    for i in range(len(m1)):\n",
    "        for j in range(len(m2[0])):\n",
    "            for k in range(len(m1[0])):\n",
    "                matrix_product[i][j] += m1[i][k] * m2[k][j]\n",
    "    \n",
    "    return matrix_product\n",
    "\n",
    "print(f'Ergebnis der Matrixmultiplikation (Python):\\n{calc_matrix_product(matrix1, matrix2)}')"
   ]
  },
  {
   "cell_type": "code",
   "execution_count": 49,
   "id": "eb81ee70-4f52-48f0-9ea1-f32ea8f4606c",
   "metadata": {},
   "outputs": [
    {
     "name": "stdout",
     "output_type": "stream",
     "text": [
      "[[1, 3, 5], [7, 9, 11], [13, 15, 17]] [[2, 4, 6], [8, 10, 12], [14, 16, 18]]\n"
     ]
    }
   ],
   "source": [
    "import numpy as np\n",
    "\n",
    "np_matrix1 = [ [1, 3, 5],\n",
    "            [7, 9, 11],\n",
    "            [13, 15, 17]]\n",
    "\n",
    "np_matrix2 = [ [2, 4, 6],\n",
    "            [8, 10, 12],\n",
    "            [14, 16, 18]]\n",
    "\n",
    "print(np_matrix1, np_matrix2)"
   ]
  },
  {
   "cell_type": "markdown",
   "id": "bcb90367-a0aa-467d-b2b6-ba0f67d13761",
   "metadata": {},
   "source": [
    "Führen Sie eine Matrixmultiplikation von np_matrix1 und np_matrix2 durch und stellen Sie das Ergebnis dar."
   ]
  },
  {
   "cell_type": "code",
   "execution_count": 50,
   "id": "08ca0f85-4b64-4df9-bc8e-dccb90188793",
   "metadata": {},
   "outputs": [
    {
     "name": "stdout",
     "output_type": "stream",
     "text": [
      "Ergebnis der Matrixmultiplikation (NumPy):\n",
      "[[ 96 114 132]\n",
      " [240 294 348]\n",
      " [384 474 564]]\n"
     ]
    }
   ],
   "source": [
    "print(f'Ergebnis der Matrixmultiplikation (NumPy):\\n{np.dot(np_matrix1, np_matrix2)}')"
   ]
  },
  {
   "cell_type": "markdown",
   "id": "12e8c3ae-712a-44ea-859b-46c631b36752",
   "metadata": {},
   "source": [
    "________________________________\n",
    "Erreichte Punkte:  ___ / 1"
   ]
  },
  {
   "cell_type": "markdown",
   "id": "6d7f0f8d-3c8c-467e-bb43-0dcb5e0b3a6a",
   "metadata": {},
   "source": [
    "### Aufgabe 8 (1 Punkt)\n"
   ]
  },
  {
   "cell_type": "markdown",
   "id": "f9d4438c-588f-48e6-974a-7b8d288b8cd3",
   "metadata": {},
   "source": [
    "File read mit Fehlerbehandlung\n",
    "\n",
    "Öffnen Sie die nachfolgenden Dateien in einem Block in der angegebenen Reihenfolge und geben Sie deren Inhalt aus.\n",
    "\n",
    "nichda.txt\n",
    "hallo.txt"
   ]
  },
  {
   "cell_type": "code",
   "execution_count": 51,
   "id": "da904c38-4538-4df5-9add-3d9fd22d0c4f",
   "metadata": {},
   "outputs": [
    {
     "name": "stderr",
     "output_type": "stream",
     "text": [
      "ERROR:root:Datei nichda.txt konnte nicht gefunden werden.\n"
     ]
    },
    {
     "name": "stdout",
     "output_type": "stream",
     "text": [
      "Lesen beendet.\n"
     ]
    }
   ],
   "source": [
    "import logging\n",
    "\n",
    "file1_name = 'nichda.txt'\n",
    "file2_name = 'hallo.txt'\n",
    "\n",
    "try:\n",
    "    with open(file1_name, 'r') as file1:\n",
    "        print(f'Inhalt von {file1_name}: {file1.read()}')\n",
    "        file1.close()\n",
    "\n",
    "    with open(file2_name, 'r') as file2:\n",
    "        print(f'Inhalt von {file2_name}: {file2.read()}')\n",
    "        file2.close()\n",
    "\n",
    "except FileNotFoundError as e:\n",
    "    logging.error(f'Datei {e.filename} konnte nicht gefunden werden.')\n",
    "finally:\n",
    "    print('Lesen beendet.')"
   ]
  },
  {
   "cell_type": "markdown",
   "id": "31288d75-ecc1-4705-867d-8ef16ba0441e",
   "metadata": {},
   "source": [
    "________________________________\n",
    "Erreichte Punkte:  ___ / 1"
   ]
  },
  {
   "cell_type": "markdown",
   "id": "ffc5dee1",
   "metadata": {},
   "source": [
    "**Gesamtpunktzahl:  ___ / 10**"
   ]
  },
  {
   "cell_type": "code",
   "execution_count": null,
   "id": "21a0d8c4",
   "metadata": {},
   "outputs": [],
   "source": []
  }
 ],
 "metadata": {
  "kernelspec": {
   "display_name": "01_saschaangermann",
   "language": "python",
   "name": "python3"
  },
  "language_info": {
   "codemirror_mode": {
    "name": "ipython",
    "version": 3
   },
   "file_extension": ".py",
   "mimetype": "text/x-python",
   "name": "python",
   "nbconvert_exporter": "python",
   "pygments_lexer": "ipython3",
   "version": "3.12.7"
  }
 },
 "nbformat": 4,
 "nbformat_minor": 5
}
