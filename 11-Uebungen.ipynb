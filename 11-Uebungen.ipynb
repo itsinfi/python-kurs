{
 "cells": [
  {
   "cell_type": "markdown",
   "id": "a91bb713",
   "metadata": {},
   "source": [
    "<!--  Header einfügen -->\n",
    "<img style=\"width:80%;\" id=\"image\" src=\"Bilder/iu.jpg\">"
   ]
  },
  {
   "cell_type": "markdown",
   "id": "dc69ca52",
   "metadata": {},
   "source": [
    "# Einfuerung in Python - IU - WS 2024/25\n",
    "<img style=\"width:40%;\" id=\"image\" src=\"Bilder/python.png\">\n",
    "\n",
    "                                                               andreas.huemmer.ext@iu.org\n",
    "\n",
    "Version 0.92"
   ]
  },
  {
   "cell_type": "markdown",
   "id": "751ca669",
   "metadata": {},
   "source": [
    "# Übungen 02"
   ]
  },
  {
   "cell_type": "markdown",
   "id": "50d0ff5e",
   "metadata": {},
   "source": [
    "#### Gemeinsame Übung 4\n",
    "Hilfreiche Funktionen in Python :)"
   ]
  },
  {
   "cell_type": "markdown",
   "id": "f49dd2c1-6332-4aab-bd76-37a58ce398d8",
   "metadata": {},
   "source": [
    "Text mit farbiger Ausgabe"
   ]
  },
  {
   "cell_type": "code",
   "execution_count": 18,
   "id": "8bc1d973-bc09-4124-93b4-8c1a89f5001e",
   "metadata": {
    "scrolled": true
   },
   "outputs": [
    {
     "name": "stdout",
     "output_type": "stream",
     "text": [
      "\u001b[31mHello World\n",
      "\u001b[32mHello World\n",
      "\u001b[34mHello World\n",
      "\u001b[36mHello \u001b[33mWorld\n"
     ]
    }
   ],
   "source": [
    "from colorama import Fore as c\n",
    "\n",
    "print(c.RED + \"Hello World\")\n",
    "print(c.GREEN + \"Hello World\")\n",
    "print(c.BLUE + \"Hello World\")\n",
    "print(c.CYAN + \"Hello \" + c.YELLOW + \"World\")"
   ]
  },
  {
   "cell_type": "markdown",
   "id": "a3655f67-39f1-4554-bc4a-5fcf8d896788",
   "metadata": {},
   "source": [
    "Code nach einem Return statement ausführen"
   ]
  },
  {
   "cell_type": "code",
   "execution_count": 24,
   "id": "490b4a2b-8484-4e8b-8dfc-fad8a2bf7987",
   "metadata": {},
   "outputs": [
    {
     "name": "stdout",
     "output_type": "stream",
     "text": [
      "a\n",
      "x\n",
      "printed after the return statement\n"
     ]
    },
    {
     "data": {
      "text/plain": [
       "'hello'"
      ]
     },
     "execution_count": 24,
     "metadata": {},
     "output_type": "execute_result"
    }
   ],
   "source": [
    "def test():\n",
    "    try:\n",
    "        print(\"a\")\n",
    "        print(\"x\")\n",
    "        return \"hello\"\n",
    "        print(\"b\")\n",
    "        print(\"c\")\n",
    "    except:\n",
    "        pass\n",
    "    finally:\n",
    "        print(\"printed after the return statement\")\n",
    "\n",
    "test()"
   ]
  },
  {
   "cell_type": "markdown",
   "id": "c8b39c0f-c313-48bb-ba4e-7e98dbed33cd",
   "metadata": {},
   "source": [
    "ZIP"
   ]
  },
  {
   "cell_type": "code",
   "execution_count": 6,
   "id": "0682671d-566a-4bf8-89b2-a23684250681",
   "metadata": {},
   "outputs": [
    {
     "name": "stdout",
     "output_type": "stream",
     "text": [
      "apfel 3\n",
      "birne 4\n",
      "orange 5\n",
      "\n",
      "apfel 3\n",
      "birne 4\n",
      "orange 5\n"
     ]
    }
   ],
   "source": [
    "l1 = ['apfel', 'birne', 'orange']\n",
    "l2 = [3, 4, 5]\n",
    "\n",
    "for i in range(len(l1)):\n",
    "    obst  = l1[i]\n",
    "    preis = l2[i]\n",
    "    print(obst, preis)\n",
    "\n",
    "print()\n",
    "\n",
    "for obst, preis in zip(l1, l2):\n",
    "    print(obst, preis)"
   ]
  },
  {
   "cell_type": "markdown",
   "id": "1d937edf-56df-4812-8ca3-20052c460335",
   "metadata": {},
   "source": [
    "Enummerate"
   ]
  },
  {
   "cell_type": "code",
   "execution_count": 12,
   "id": "d1770638-b58b-45f9-9ab6-02f1e16ef1eb",
   "metadata": {},
   "outputs": [
    {
     "name": "stdout",
     "output_type": "stream",
     "text": [
      "0 apfel\n",
      "1 orange\n",
      "2 banane\n",
      "\n",
      "0 apfel\n",
      "1 orange\n",
      "2 banane\n"
     ]
    }
   ],
   "source": [
    "\n",
    "list3 = [\"apfel\", \"orange\", \"banane\"]\n",
    "\n",
    "for i in range(len(list3)):\n",
    "    obst = list3[i]\n",
    "    print(i, obst)\n",
    "\n",
    "print()\n",
    "\n",
    "for i, obst in enumerate(list3):\n",
    "    print(i, obst)"
   ]
  },
  {
   "cell_type": "markdown",
   "id": "e6b3a7a3-48ef-43d4-8e8c-51b4c21ed04c",
   "metadata": {},
   "source": [
    "Chrismas Time :)"
   ]
  },
  {
   "cell_type": "code",
   "execution_count": 22,
   "id": "36297903-d0c7-4586-bf01-c78abf30a3b4",
   "metadata": {},
   "outputs": [
    {
     "name": "stdout",
     "output_type": "stream",
     "text": [
      "\u001b[32m                   *\n",
      "\u001b[32m                  ***\n",
      "\u001b[32m                 *****\n",
      "\u001b[32m                *******\n",
      "\u001b[32m               *********\n",
      "\u001b[32m              ***********\n",
      "\u001b[32m             *************\n",
      "\u001b[32m            ***************\n",
      "\u001b[32m           *****************\n",
      "\u001b[32m          *******************\n",
      "\u001b[32m         *********************\n",
      "\u001b[32m        ***********************\n",
      "\u001b[32m       *************************\n",
      "\u001b[32m      ***************************\n",
      "\u001b[32m     *****************************\n",
      "\u001b[32m    *******************************\n",
      "\u001b[32m   *********************************\n",
      "\u001b[32m  ***********************************\n",
      "\u001b[32m *************************************\n",
      "\u001b[32m***************************************\n",
      "\u001b[32m                   #\n",
      "\u001b[32m                   #\n"
     ]
    }
   ],
   "source": [
    "\n",
    "def xmas_tree(n):\n",
    "    for i in range(n):\n",
    "        print(c.GREEN + \" \" *( n - i - 1 )  + \"*\" * ( 2 * i + 1 ))\n",
    "    for i in range(2):\n",
    "        print(c.GREEN + \" \" * ( n - 1 ) + \"#\")\n",
    "\n",
    "xmas_tree(20)"
   ]
  },
  {
   "cell_type": "markdown",
   "id": "f11809df-7460-48ae-b2c8-0f2704518e52",
   "metadata": {},
   "source": [
    "Merry X-Mas - Flice Navidat - Frohe Weihnachten"
   ]
  }
 ],
 "metadata": {
  "kernelspec": {
   "display_name": "Python 3 (ipykernel)",
   "language": "python",
   "name": "python3"
  },
  "language_info": {
   "codemirror_mode": {
    "name": "ipython",
    "version": 3
   },
   "file_extension": ".py",
   "mimetype": "text/x-python",
   "name": "python",
   "nbconvert_exporter": "python",
   "pygments_lexer": "ipython3",
   "version": "3.11.10"
  }
 },
 "nbformat": 4,
 "nbformat_minor": 5
}
