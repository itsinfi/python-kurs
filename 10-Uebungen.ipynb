{
 "cells": [
  {
   "cell_type": "markdown",
   "id": "a91bb713",
   "metadata": {},
   "source": [
    "<!--  Header einfügen -->\n",
    "<img style=\"width:80%;\" id=\"image\" src=\"Bilder/iu.jpg\">"
   ]
  },
  {
   "cell_type": "markdown",
   "id": "dc69ca52",
   "metadata": {},
   "source": [
    "# Einfuerung in Python - IU - WS 2024/25\n",
    "<img style=\"width:40%;\" id=\"image\" src=\"Bilder/python.png\">\n",
    "\n",
    "                                                               andreas.huemmer.ext@iu.org\n",
    "\n",
    "Version 0.92"
   ]
  },
  {
   "cell_type": "markdown",
   "id": "751ca669",
   "metadata": {},
   "source": [
    "# Übungen Kap2ff"
   ]
  },
  {
   "cell_type": "markdown",
   "id": "50d0ff5e",
   "metadata": {},
   "source": [
    "#### Gemeinsame Übung 1\n",
    "Gegeben seinen zwei Mengen, berechenen Sie die Vereinigungsmenge, die Schnittmenge und die Differenzmenge"
   ]
  },
  {
   "cell_type": "code",
   "execution_count": 1,
   "id": "e9768bbf",
   "metadata": {},
   "outputs": [],
   "source": [
    "m1 = {\"A\", \"B\", \"D\", \"F\", \"H\", 1, 3, 4, 5}\n",
    "m2 = {\"A\", \"B\", \"C\", \"F\", \"G\", 2, 4, 5}"
   ]
  },
  {
   "cell_type": "code",
   "execution_count": 2,
   "id": "e03921e3",
   "metadata": {},
   "outputs": [
    {
     "data": {
      "text/plain": [
       "{1, 2, 3, 4, 5, 'A', 'B', 'C', 'D', 'F', 'G', 'H'}"
      ]
     },
     "execution_count": 2,
     "metadata": {},
     "output_type": "execute_result"
    }
   ],
   "source": [
    "# Vereinigung\n",
    "m1 | m2"
   ]
  },
  {
   "cell_type": "code",
   "execution_count": 3,
   "id": "d1784d0a",
   "metadata": {},
   "outputs": [
    {
     "data": {
      "text/plain": [
       "{4, 5, 'A', 'B', 'F'}"
      ]
     },
     "execution_count": 3,
     "metadata": {},
     "output_type": "execute_result"
    }
   ],
   "source": [
    "# Schnittmenge\n",
    "m1 & m2"
   ]
  },
  {
   "cell_type": "code",
   "execution_count": 4,
   "id": "8d75a77b",
   "metadata": {},
   "outputs": [
    {
     "data": {
      "text/plain": [
       "{1, 2, 3, 'C', 'D', 'G', 'H'}"
      ]
     },
     "execution_count": 4,
     "metadata": {},
     "output_type": "execute_result"
    }
   ],
   "source": [
    "# Differenzmenge (symmentrisch)\n",
    "m1 ^ m2"
   ]
  },
  {
   "cell_type": "markdown",
   "id": "bfba5d5d",
   "metadata": {},
   "source": [
    "#### Gemeinsame Übung 2\n",
    "Errstellen Sie ein Programm, welches die Fakulät einer gegebenen Zahl berechnet.\n",
    "a) Rekursiv\n",
    "b) Iterativ"
   ]
  },
  {
   "cell_type": "code",
   "execution_count": 5,
   "id": "66821dc1",
   "metadata": {},
   "outputs": [],
   "source": [
    "# hier ihr code\n",
    "# Gegeben\n",
    "k = 5 \n"
   ]
  },
  {
   "cell_type": "code",
   "execution_count": 6,
   "id": "48be537d",
   "metadata": {},
   "outputs": [],
   "source": [
    "# a) Rekursiv\n",
    "def recursive_factorial(n):\n",
    "    if n == 1:\n",
    "        return 1\n",
    "    else:\n",
    "        return n * recursive_factorial(n-1)"
   ]
  },
  {
   "cell_type": "code",
   "execution_count": 7,
   "id": "e5a1a6f2",
   "metadata": {},
   "outputs": [],
   "source": [
    "def factorial_mit_Ausgabe(n):\n",
    "    print(\"factorial has been called with n = \" + str(n))\n",
    "    if n == 1:\n",
    "        return 1\n",
    "    else:\n",
    "        res = n * factorial_mit_Ausgabe(n-1)\n",
    "        print(\"intermediate result for \", n, \" * factorial(\" ,n-1, \"): \",res)\n",
    "        return res\t"
   ]
  },
  {
   "cell_type": "code",
   "execution_count": 8,
   "id": "0db3fd2f",
   "metadata": {
    "scrolled": true
   },
   "outputs": [
    {
     "name": "stdout",
     "output_type": "stream",
     "text": [
      "120\n"
     ]
    }
   ],
   "source": [
    "print(recursive_factorial(k))"
   ]
  },
  {
   "cell_type": "code",
   "execution_count": 9,
   "id": "f1f96eec",
   "metadata": {},
   "outputs": [
    {
     "name": "stdout",
     "output_type": "stream",
     "text": [
      "factorial has been called with n = 5\n",
      "factorial has been called with n = 4\n",
      "factorial has been called with n = 3\n",
      "factorial has been called with n = 2\n",
      "factorial has been called with n = 1\n",
      "intermediate result for  2  * factorial( 1 ):  2\n",
      "intermediate result for  3  * factorial( 2 ):  6\n",
      "intermediate result for  4  * factorial( 3 ):  24\n",
      "intermediate result for  5  * factorial( 4 ):  120\n",
      "120\n"
     ]
    }
   ],
   "source": [
    "print(factorial_mit_Ausgabe(k))"
   ]
  },
  {
   "cell_type": "code",
   "execution_count": 10,
   "id": "e671ca4f",
   "metadata": {},
   "outputs": [],
   "source": [
    "# b) Iterativ\n",
    "def iterative_factorial(n):\n",
    "    result = 1\n",
    "    for i in range(2,n+1):\n",
    "        result *= i\n",
    "    return result"
   ]
  },
  {
   "cell_type": "code",
   "execution_count": 11,
   "id": "8ef4c900",
   "metadata": {},
   "outputs": [
    {
     "name": "stdout",
     "output_type": "stream",
     "text": [
      "120\n"
     ]
    }
   ],
   "source": [
    "print(iterative_factorial(k))"
   ]
  },
  {
   "cell_type": "code",
   "execution_count": 12,
   "id": "05d62d6f",
   "metadata": {
    "scrolled": true
   },
   "outputs": [
    {
     "name": "stdout",
     "output_type": "stream",
     "text": [
      "48119977967797748601669900935813797818348080406726138081308559411630575189001095591292230585206733851868464009619343585194052091124618166270271481881393331431627962810299844149333789044689395510487167879769325303699470467829234399263326545652860748605075746366928323606645492277541120083438086727369377887676000211405318480244354207419604864176969950581435222198851194568984095705945549589054568321792338919149442985919957734792959402499096845643020401869381175603964424333222114125974374817804242633309769804293952870034619354125014210045647664063240162007560108665290568646128342557147350985358724154623253371867470765120422073867963935775258692109753041762094343569050497470353531764481503174750911858230906998361066084787758316110585736013365377431860738572261325738233656835271947352695180865573043834027955539012765489372645042504406597752357481931532872356635411224578334040522294746402829585458478708778346379431862368824819009177091444034885941394319343910223168655869761799669075059527608502465593181398566214786801211651657222004123456498258513120359126022843038535083709796101565934859483203933443308601475813108363074118562404412420191947127585482919172173045961122122701434297870691932154082986945954748251105782181586397275820342101470457300633590139512919549474113721711616912519714191760699935509810254849967087635936181176363954224186031346682928878492872249485456690138831610135377916327940503701400290125509132140782614640495733518048670983360134097860364762638658894873174499870133559364805443430831459505987809215393353387232078177562975021460595422358573128085417162336030235138652735438053034531962620811566019896879275257163988352090874930346115518331202927263708446729394381879888839549731876978682249320628599631628662375508826209854754631984276392670919216923002770077734756077549035942976209159416211581439461484509549370357486770276807687544580164314647595031368948490282897173328013518435758700056425922638411889496527975846052717958044813737086806600171993703579485864029383208714528950303253881360812631162134750100307772634337467012820470715650810714689905121432259528505483053930402217400686061612471659630192434864094539828085677465383026128353771071152304197549798870706139893609140045659756285435787771636258253666592102151236142132724425850991205720020493660580896600891888594659612927724357866265934517615841298789154462249169688860092640284756382431746120357767933119589280468687348061788072986362788582227019465263474828590646048451070702923434422714349595857654843699542321849363652767771978314681013589442955219879702008068934096624650625769705233333462826013860098698155180331145365652453482955497979915586438474687345677874451117702250441711504844638414485210092261397271970571029038581873069951161330495772310508760528249706514238384269808639507080418298318311361373628512041716415196868334254119137139589149597210032153545941114666530498906529240798164804007394775927836045668573993316428972539932745757171947402454257142633700815922407278403640595355142075599446056337986717212316223257763412164180899532722039383244462511410346646148863397237096276822656157561194665545757017429842404840309758925618650507921043007241637877939825811059339138925526124514467627126548126795078784022672860886251974581362141782786407402896309678008909663263987018538107050886193489012497405005820727271232733728141775132722013860591169620692789290456794698409808557447756701311883266010859016027592252397754508251628808293537776536569608111330584797160694847898923196743970244451842702266403326317319092117151143971679500042590269255093130215984418097418435474300467281949798227102529873732749027992079700287275900856241172902880909546551703263202853584498085358955307673717177961902081098618729046348849060249600000000000000000000000000000000000000000000000000000000000000000000000000000000000000000000000000000000000000000000000000000000000000000000000000000000000000000000000000000000000000000000000000000000000000000000000000000000000000000000000000000000000000000000000000000000000000000000000000000000000000000000000000000000000000000000000000000000000000000000000000000000000000\n",
      "Rekursiv:  0.0009975433349609375 Sekunden\n",
      "48119977967797748601669900935813797818348080406726138081308559411630575189001095591292230585206733851868464009619343585194052091124618166270271481881393331431627962810299844149333789044689395510487167879769325303699470467829234399263326545652860748605075746366928323606645492277541120083438086727369377887676000211405318480244354207419604864176969950581435222198851194568984095705945549589054568321792338919149442985919957734792959402499096845643020401869381175603964424333222114125974374817804242633309769804293952870034619354125014210045647664063240162007560108665290568646128342557147350985358724154623253371867470765120422073867963935775258692109753041762094343569050497470353531764481503174750911858230906998361066084787758316110585736013365377431860738572261325738233656835271947352695180865573043834027955539012765489372645042504406597752357481931532872356635411224578334040522294746402829585458478708778346379431862368824819009177091444034885941394319343910223168655869761799669075059527608502465593181398566214786801211651657222004123456498258513120359126022843038535083709796101565934859483203933443308601475813108363074118562404412420191947127585482919172173045961122122701434297870691932154082986945954748251105782181586397275820342101470457300633590139512919549474113721711616912519714191760699935509810254849967087635936181176363954224186031346682928878492872249485456690138831610135377916327940503701400290125509132140782614640495733518048670983360134097860364762638658894873174499870133559364805443430831459505987809215393353387232078177562975021460595422358573128085417162336030235138652735438053034531962620811566019896879275257163988352090874930346115518331202927263708446729394381879888839549731876978682249320628599631628662375508826209854754631984276392670919216923002770077734756077549035942976209159416211581439461484509549370357486770276807687544580164314647595031368948490282897173328013518435758700056425922638411889496527975846052717958044813737086806600171993703579485864029383208714528950303253881360812631162134750100307772634337467012820470715650810714689905121432259528505483053930402217400686061612471659630192434864094539828085677465383026128353771071152304197549798870706139893609140045659756285435787771636258253666592102151236142132724425850991205720020493660580896600891888594659612927724357866265934517615841298789154462249169688860092640284756382431746120357767933119589280468687348061788072986362788582227019465263474828590646048451070702923434422714349595857654843699542321849363652767771978314681013589442955219879702008068934096624650625769705233333462826013860098698155180331145365652453482955497979915586438474687345677874451117702250441711504844638414485210092261397271970571029038581873069951161330495772310508760528249706514238384269808639507080418298318311361373628512041716415196868334254119137139589149597210032153545941114666530498906529240798164804007394775927836045668573993316428972539932745757171947402454257142633700815922407278403640595355142075599446056337986717212316223257763412164180899532722039383244462511410346646148863397237096276822656157561194665545757017429842404840309758925618650507921043007241637877939825811059339138925526124514467627126548126795078784022672860886251974581362141782786407402896309678008909663263987018538107050886193489012497405005820727271232733728141775132722013860591169620692789290456794698409808557447756701311883266010859016027592252397754508251628808293537776536569608111330584797160694847898923196743970244451842702266403326317319092117151143971679500042590269255093130215984418097418435474300467281949798227102529873732749027992079700287275900856241172902880909546551703263202853584498085358955307673717177961902081098618729046348849060249600000000000000000000000000000000000000000000000000000000000000000000000000000000000000000000000000000000000000000000000000000000000000000000000000000000000000000000000000000000000000000000000000000000000000000000000000000000000000000000000000000000000000000000000000000000000000000000000000000000000000000000000000000000000000000000000000000000000000000000000000000000000000\n",
      "Rekursiv:  0.000997304916381836 Sekunden\n"
     ]
    }
   ],
   "source": [
    "# Zeitvergleich iterativ vs. rekusiv\n",
    "from time import time\n",
    "\n",
    "k = 1500\n",
    "\n",
    "start = time()\n",
    "print(recursive_factorial(k))\n",
    "end = time()\n",
    "\n",
    "print(\"Rekursiv: \", end-start, \"Sekunden\")\n",
    "\n",
    "start = time()\n",
    "print(iterative_factorial(k))\n",
    "end = time()\n",
    "\n",
    "print(\"Rekursiv: \", end-start, \"Sekunden\")"
   ]
  },
  {
   "cell_type": "markdown",
   "id": "8e21ea38-3825-4b16-9ea3-c974b6b598b5",
   "metadata": {},
   "source": [
    "Rekursiv? Iterativ? was ist nun besser (schneller)\n",
    "\n",
    "Definition: Beides sind Formen der Wiederholung von Teilen eines Algorithmus. Iteration ist Wiederholung durch Aneinanderreihung. Als Kontrollstrukturen werden Schleifen eingesetzt. Rekursion ist Wiederholung durch Ineinanderschachtelung.\n",
    "\n",
    "-> Iterative Lösungen sind effizienter. (Sie sind schnell und beanspruchen wenig Speicher.)\n",
    "\n",
    "-> Rekursive Lösungen legen u.a. die Werte der aktuellen Parameter und der lokalen Variablen auf dem Stack (spezieller Bereich des Arbeitsspeichers) ab. Dadurch benötigen sie mehr Arbeitsspeicher und sind auch langsamer\n",
    "\n",
    "ABER: NICHT IMMER SIND BEIDE ALTERNATIVE MÖGLICH!"
   ]
  },
  {
   "cell_type": "code",
   "execution_count": 13,
   "id": "36950dac-b65e-4cca-9fe9-f9764cf8a5ca",
   "metadata": {},
   "outputs": [
    {
     "name": "stdout",
     "output_type": "stream",
     "text": [
      "------------------------------------------------\n",
      "Python performance examples on computing the\n",
      "factorial number for  1500\n",
      "------------------------------------------------\n"
     ]
    },
    {
     "ename": "NameError",
     "evalue": "name 'Timer' is not defined",
     "output_type": "error",
     "traceback": [
      "\u001b[1;31m---------------------------------------------------------------------------\u001b[0m",
      "\u001b[1;31mNameError\u001b[0m                                 Traceback (most recent call last)",
      "Cell \u001b[1;32mIn[13], line 13\u001b[0m\n\u001b[0;32m     10\u001b[0m \u001b[38;5;28mprint\u001b[39m(\u001b[38;5;124m\"\u001b[39m\u001b[38;5;124m------------------------------------------------\u001b[39m\u001b[38;5;124m\"\u001b[39m)\n\u001b[0;32m     12\u001b[0m m \u001b[38;5;241m=\u001b[39m \u001b[38;5;241m0\u001b[39m\n\u001b[1;32m---> 13\u001b[0m t \u001b[38;5;241m=\u001b[39m \u001b[43mTimer\u001b[49m(\u001b[38;5;28;01mlambda\u001b[39;00m: zeitmessung(recursive_factorial, n))\n\u001b[0;32m     14\u001b[0m \u001b[38;5;28mprint\u001b[39m(\u001b[38;5;124m\"\u001b[39m\u001b[38;5;130;01m\\t\u001b[39;00m\u001b[38;5;124m factorial recusiv   \u001b[39m\u001b[38;5;130;01m\\t\u001b[39;00m\u001b[38;5;130;01m\\t\u001b[39;00m\u001b[38;5;124m \u001b[39m\u001b[38;5;132;01m{:10.7f}\u001b[39;00m\u001b[38;5;124m\"\u001b[39m\u001b[38;5;241m.\u001b[39mformat(t\u001b[38;5;241m.\u001b[39mtimeit(number\u001b[38;5;241m=\u001b[39m\u001b[38;5;241m1\u001b[39m)), \u001b[38;5;124m\"\u001b[39m\u001b[38;5;124m Sekunden : \u001b[39m\u001b[38;5;124m\"\u001b[39m, res )\n\u001b[0;32m     16\u001b[0m m \u001b[38;5;241m=\u001b[39m \u001b[38;5;241m0\u001b[39m\n",
      "\u001b[1;31mNameError\u001b[0m: name 'Timer' is not defined"
     ]
    }
   ],
   "source": [
    "def zeitmessung(func, n):\n",
    "    global res\n",
    "    res = func(n)\n",
    "\n",
    "n = 1500\n",
    "    \n",
    "print(\"------------------------------------------------\")\n",
    "print(\"Python performance examples on computing the\")\n",
    "print(\"factorial number for \", n)\n",
    "print(\"------------------------------------------------\")\n",
    "\n",
    "m = 0\n",
    "t = Timer(lambda: zeitmessung(recursive_factorial, n))\n",
    "print(\"\\t factorial recusiv   \\t\\t {:10.7f}\".format(t.timeit(number=1)), \" Sekunden : \", res )\n",
    "\n",
    "m = 0\n",
    "t = Timer(lambda: zeitmessung(iterative_factorial, n))\n",
    "print(\"\\t factorial iterativ  \\t\\t {:10.7f}\".format(t.timeit(number=1)), \" Sekunden : \", res )\n",
    "    "
   ]
  },
  {
   "cell_type": "code",
   "execution_count": null,
   "id": "9ce4d583-0411-4079-8f97-d1c1eae0d240",
   "metadata": {},
   "outputs": [],
   "source": []
  },
  {
   "cell_type": "code",
   "execution_count": null,
   "id": "fb331dcb-4ab4-42a6-9767-f7cef6dd6cea",
   "metadata": {},
   "outputs": [],
   "source": []
  },
  {
   "cell_type": "markdown",
   "id": "e6457012-dfee-4c47-9aea-14f382b79732",
   "metadata": {},
   "source": [
    "# Übungen Kap3"
   ]
  },
  {
   "cell_type": "markdown",
   "id": "7888533e-a066-40f5-99d9-99cb6b7d3ccb",
   "metadata": {},
   "source": [
    "#### Gemeinsame Übung 3\n",
    "Untersuchung des Laufzeitverhaltens und der Performance von Python\n",
    "\n",
    "Berechnen der Summe der Zahlen von 1 bis n"
   ]
  },
  {
   "cell_type": "code",
   "execution_count": null,
   "id": "7b977030-fed3-4959-9fea-3b74d8a7d784",
   "metadata": {},
   "outputs": [],
   "source": [
    "from timeit import Timer\n",
    "import numpy as np"
   ]
  },
  {
   "cell_type": "markdown",
   "id": "8b1c4dcf-b5e3-44ff-9226-d19722c8e8d7",
   "metadata": {},
   "source": [
    "...mittels while Loop"
   ]
  },
  {
   "cell_type": "code",
   "execution_count": null,
   "id": "a4e33184-8e90-4c77-a603-b1cc8b98e07e",
   "metadata": {},
   "outputs": [],
   "source": [
    "def while_loop(n):\n",
    "    i = 0\n",
    "    s = 0\n",
    "    while i < n:\n",
    "        s += i\n",
    "        i += 1\n",
    "    return s"
   ]
  },
  {
   "cell_type": "markdown",
   "id": "f1862d1b-8439-4d63-9e8d-6b92c0fede14",
   "metadata": {},
   "source": [
    "...mittels for Loop"
   ]
  },
  {
   "cell_type": "code",
   "execution_count": null,
   "id": "072a268c-7bf7-4d7f-b9b8-a9a49b105979",
   "metadata": {},
   "outputs": [],
   "source": [
    "def for_loop(n):\n",
    "    s = 0\n",
    "    for i in range(n):\n",
    "        s += i\n",
    "    return s"
   ]
  },
  {
   "cell_type": "markdown",
   "id": "6983fbb9-5db0-4fb6-b14b-2c0792e97b53",
   "metadata": {},
   "source": [
    "... mit Hilfe der Python sum-Funktion und des range-operators"
   ]
  },
  {
   "cell_type": "code",
   "execution_count": null,
   "id": "549d3b25-1ee8-4c33-9e4e-0d096a578bce",
   "metadata": {},
   "outputs": [],
   "source": [
    "def sum_range(n):\n",
    "    return sum(range(n))"
   ]
  },
  {
   "cell_type": "markdown",
   "id": "a9a4e50d-7511-40f7-bb80-53dab971a921",
   "metadata": {},
   "source": [
    "... mit Hilfe von NumPy"
   ]
  },
  {
   "cell_type": "code",
   "execution_count": null,
   "id": "e1ab9a5f-7016-48ef-abf6-029315d4a0b7",
   "metadata": {},
   "outputs": [],
   "source": [
    "def sum_numpy(n):\n",
    "    return np.sum(np.arange((n)))"
   ]
  },
  {
   "cell_type": "markdown",
   "id": "c6f59e09-a972-45ef-82ea-c83a14dcee15",
   "metadata": {},
   "source": [
    "... mit Hilfe der Gausschen Summenformel"
   ]
  },
  {
   "cell_type": "code",
   "execution_count": null,
   "id": "461b7b73-989e-4903-a16d-3dddf51da25e",
   "metadata": {},
   "outputs": [],
   "source": [
    "def sum_math(n):\n",
    "    # Gaussche Summenformel\n",
    "    return ( n * (n -1) ) / 2"
   ]
  },
  {
   "cell_type": "markdown",
   "id": "46d4aa3e-dcb7-416a-8986-d805f7f424e2",
   "metadata": {},
   "source": [
    "Neben der algorithmischen Optimierung, wie oben gezeigt, besteht, wenn code ggfl nicht gändert werden kann die Möglichkeit Optimierungen \"von aussen\" zu erzwingen. Eine dieser Möglichkeiten ist die Verwendung von sog. Just in Time Kompilern, die den Pythoncode bei der ersten Ausführung compilieren, so das dieser bei nachfolgenden Ausführungen nicht mehr interpretiert werden muss, sonder direkt ausgeführt werden kann. ACHTUNG: Es kann nicht immer angewendet werden!"
   ]
  },
  {
   "cell_type": "code",
   "execution_count": null,
   "id": "b040602e-3c1d-4f44-9545-ed1f480fd2aa",
   "metadata": {},
   "outputs": [],
   "source": [
    "from numba import njit"
   ]
  },
  {
   "cell_type": "markdown",
   "id": "aa8f998b-1273-4557-b1cb-454b6c2579b3",
   "metadata": {},
   "source": [
    "...while-Schleife it JIT"
   ]
  },
  {
   "cell_type": "code",
   "execution_count": null,
   "id": "5c5e1ace-1bad-4484-a318-e085941d0a3c",
   "metadata": {},
   "outputs": [],
   "source": [
    "@njit\n",
    "def while_njit(n):\n",
    "    i = 0\n",
    "    s = 0\n",
    "    while i < n:\n",
    "        s += i\n",
    "        i += 1\n",
    "    return s"
   ]
  },
  {
   "cell_type": "markdown",
   "id": "bde3ba27-4ab8-47a6-9867-655d26872202",
   "metadata": {},
   "source": [
    "...for-Schleife mit JIT"
   ]
  },
  {
   "cell_type": "code",
   "execution_count": null,
   "id": "a8c30f81-5be2-4a22-9831-3a621c367038",
   "metadata": {},
   "outputs": [],
   "source": [
    "@njit\n",
    "def for_njit(n):\n",
    "    s = 0\n",
    "    for i in range(n):\n",
    "        s += i\n",
    "    return s"
   ]
  },
  {
   "cell_type": "markdown",
   "id": "cbb155b9-85d9-4914-8d57-92c05c02544e",
   "metadata": {},
   "source": [
    "So und wie ist es nun mit dem Laufzeitverhalten?"
   ]
  },
  {
   "cell_type": "code",
   "execution_count": null,
   "id": "b908350b-7873-4004-86fd-0ad91e30e84c",
   "metadata": {},
   "outputs": [],
   "source": [
    "    n = 100_000_000\n",
    "    print(\"------------------------------------------------\")\n",
    "    print(\"Python performance examples on computing the\")\n",
    "    print(\"sum of all integers from 1 to \", n)\n",
    "    print(\"------------------------------------------------\")\n",
    "    #%%\n",
    "    t = Timer(lambda: while_loop(n))\n",
    "    print(\"while-Loop\\t\\t {:10.7f}\".format(t.timeit(number=1)), \" Sekunden\")\n",
    "    #%%\n",
    "    t = Timer(lambda: for_loop(n))\n",
    "    print(\"for-Loop\\t\\t {:10.7f}\".format(t.timeit(number=1)), \" Sekunden\")\n",
    "    #%%\n",
    "    t = Timer(lambda: sum_range(n))\n",
    "    print(\"sum_range\\t\\t {:10.7f}\".format(t.timeit(number=1)), \" Sekunden\")\n",
    "    #%%\n",
    "    t = Timer(lambda: sum_numpy(n))\n",
    "    print(\"sum_numpy\\t\\t {:10.7f}\".format(t.timeit(number=1)), \" Sekunden\")\n",
    "    #%%\n",
    "    t = Timer(lambda: sum_math(n))\n",
    "    print(\"math(Gauss)\\t\\t {:10.7f}\".format(t.timeit(number=1)), \" Sekunden\")\n",
    "    #%%\n",
    "    t = Timer(lambda: while_njit(n))\n",
    "    print(\"While-njit\\t\\t {:10.7f}\".format(t.timeit(number=1)), \" Sekunden\")\n",
    "    #%%\n",
    "    t = Timer(lambda: for_njit(n))\n",
    "    print(\"for-njit\\t\\t {:10.7f}\".format(t.timeit(number=1)), \" Sekunden\")    \n",
    "    "
   ]
  },
  {
   "cell_type": "code",
   "execution_count": null,
   "id": "a9fa2750-be63-4cb3-ae65-36bc847676aa",
   "metadata": {},
   "outputs": [],
   "source": []
  }
 ],
 "metadata": {
  "kernelspec": {
   "display_name": "01_saschaangermann",
   "language": "python",
   "name": "python3"
  },
  "language_info": {
   "codemirror_mode": {
    "name": "ipython",
    "version": 3
   },
   "file_extension": ".py",
   "mimetype": "text/x-python",
   "name": "python",
   "nbconvert_exporter": "python",
   "pygments_lexer": "ipython3",
   "version": "3.12.7"
  }
 },
 "nbformat": 4,
 "nbformat_minor": 5
}
